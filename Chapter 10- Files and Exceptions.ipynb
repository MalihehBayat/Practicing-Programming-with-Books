{
 "cells": [
  {
   "cell_type": "markdown",
   "id": "13109f2e",
   "metadata": {},
   "source": [
    "# Chapter 10: Files and Exceptions"
   ]
  },
  {
   "cell_type": "markdown",
   "id": "bf61f7c9",
   "metadata": {},
   "source": [
    "## Reading from a File"
   ]
  },
  {
   "cell_type": "markdown",
   "id": "48485120",
   "metadata": {},
   "source": [
    "### Reading an Entire file"
   ]
  },
  {
   "cell_type": "code",
   "execution_count": 7,
   "id": "29d2409e",
   "metadata": {},
   "outputs": [
    {
     "name": "stdout",
     "output_type": "stream",
     "text": [
      "3.1415926535 \n",
      "8979323846 \n",
      "2643383279\n"
     ]
    }
   ],
   "source": [
    "with open ('pi_digits.txt') as file_object:\n",
    "    contents = file_object.read()\n",
    "print(contents.strip())    "
   ]
  },
  {
   "cell_type": "markdown",
   "id": "8412873d",
   "metadata": {},
   "source": [
    "### Reading line by line"
   ]
  },
  {
   "cell_type": "code",
   "execution_count": 23,
   "id": "48bb13d0",
   "metadata": {},
   "outputs": [
    {
     "name": "stdout",
     "output_type": "stream",
     "text": [
      "3.1415926535\n",
      "8979323846\n",
      "2643383279\n"
     ]
    }
   ],
   "source": [
    "with open ('pi_digits.txt') as file_object:\n",
    "    for line in file_object:\n",
    "        print(line.rstrip()) \n",
    "        "
   ]
  },
  {
   "cell_type": "markdown",
   "id": "3c64e18a",
   "metadata": {},
   "source": [
    "### Making a List of Lines from a File"
   ]
  },
  {
   "cell_type": "markdown",
   "id": "3a09d6ef",
   "metadata": {},
   "source": [
    "When using with, the file object returned by open() is only available inside \n",
    "the with block that contains it. To retain access to a file’s contents outside the with block, the file’s lines must be stored in a list inside the \n",
    "block and then used with that list.<br>\n",
    "- The readlines() method takes each line from the file and stores it \n",
    "in a list"
   ]
  },
  {
   "cell_type": "code",
   "execution_count": 19,
   "id": "0a1492f2",
   "metadata": {},
   "outputs": [
    {
     "data": {
      "text/plain": [
       "['3.1415926535 \\n', '8979323846 \\n', '2643383279']"
      ]
     },
     "execution_count": 19,
     "metadata": {},
     "output_type": "execute_result"
    }
   ],
   "source": [
    "with open ('pi_digits.txt') as file_object:\n",
    "    lines= file_object.readlines()\n",
    "\n",
    "    "
   ]
  },
  {
   "cell_type": "code",
   "execution_count": 26,
   "id": "f578d71e",
   "metadata": {},
   "outputs": [],
   "source": [
    "string=''\n",
    "for line in lines:\n",
    "    string+=line.strip()"
   ]
  },
  {
   "cell_type": "code",
   "execution_count": 27,
   "id": "f2f6ea12",
   "metadata": {},
   "outputs": [
    {
     "data": {
      "text/plain": [
       "'3.141592653589793238462643383279'"
      ]
     },
     "execution_count": 27,
     "metadata": {},
     "output_type": "execute_result"
    }
   ],
   "source": [
    "string"
   ]
  },
  {
   "cell_type": "code",
   "execution_count": 61,
   "id": "7bf3021a",
   "metadata": {},
   "outputs": [
    {
     "name": "stdout",
     "output_type": "stream",
     "text": [
      "Enter your birthday, in the form mmddyy: 30051990\n",
      "Your birthday does not appear in the first million digits of pi.\n"
     ]
    }
   ],
   "source": [
    "with open ('pi_million_digits.txt') as file_object:\n",
    "    lines= file_object.readlines()\n",
    "pi_string=''\n",
    "for line in lines:\n",
    "    pi_string+=line.strip()\n",
    "    \n",
    "birthday= input(\"Enter your birthday, in the form mmddyy: \")\n",
    "if birthday  in pi_string:\n",
    "    print('oh yes, your birthday appears in the first million digits of pi!')\n",
    "else:\n",
    "    print(\"Your birthday does not appear in the first million digits of pi.\")"
   ]
  },
  {
   "cell_type": "markdown",
   "id": "aff13002",
   "metadata": {},
   "source": [
    "## Writing to a File"
   ]
  },
  {
   "cell_type": "markdown",
   "id": "044db4e2",
   "metadata": {},
   "source": [
    "### Writing to an Empty File"
   ]
  },
  {
   "cell_type": "code",
   "execution_count": 62,
   "id": "2ca254eb",
   "metadata": {},
   "outputs": [],
   "source": [
    "filename= 'programming.txt'\n",
    "with open('programming.txt','w') as file_object:\n",
    "    file_object.write ('I love programming')"
   ]
  },
  {
   "cell_type": "markdown",
   "id": "1dd6a7dd",
   "metadata": {},
   "source": [
    "### Writing Multiple Lines"
   ]
  },
  {
   "cell_type": "code",
   "execution_count": 63,
   "id": "b2abb11b",
   "metadata": {},
   "outputs": [],
   "source": [
    "filename = 'programming.txt'\n",
    "with open('programming.txt' , 'w') as file_object:\n",
    "    file_object.write('I love proramming\\n')\n",
    "    file_object.write('I love creating new games\\n')"
   ]
  },
  {
   "cell_type": "markdown",
   "id": "ceb2d8d5",
   "metadata": {},
   "source": [
    "## Appending to a File"
   ]
  },
  {
   "cell_type": "code",
   "execution_count": 64,
   "id": "9e3827b5",
   "metadata": {},
   "outputs": [],
   "source": [
    "filename = 'programming.txt'\n",
    "with open('programming.txt' , 'a') as file_object:\n",
    "    file_object.write('I also love finding meaning in large datasets')"
   ]
  },
  {
   "cell_type": "markdown",
   "id": "0973e335",
   "metadata": {},
   "source": [
    "## Exercises"
   ]
  },
  {
   "cell_type": "markdown",
   "id": "44549797",
   "metadata": {},
   "source": [
    "**10-3. Guest:** Write a program that prompts the user for their name. When they \n",
    "respond, write their name to a file called guest.txt."
   ]
  },
  {
   "cell_type": "code",
   "execution_count": 2,
   "id": "8cd7330d",
   "metadata": {},
   "outputs": [
    {
     "name": "stdout",
     "output_type": "stream",
     "text": [
      "What is your name? malihe\n"
     ]
    }
   ],
   "source": [
    "filename = 'guests.txt'\n",
    "with open(filename,'w') as file_object:\n",
    "    guest= input(\"What is your name? \")\n",
    "    file_object.write(f\"{guest}\\n\")"
   ]
  },
  {
   "cell_type": "markdown",
   "id": "b86342d5",
   "metadata": {},
   "source": [
    "**10-4. Guest Book:** Write a while loop that prompts users for their name. When \n",
    "they enter their name, print a greeting to the screen and add a line recording \n",
    "their visit in a file called guest_book.txt. Make sure each entry appears on a \n",
    "new line in the file."
   ]
  },
  {
   "cell_type": "code",
   "execution_count": 6,
   "id": "0dbf4be4",
   "metadata": {
    "scrolled": true
   },
   "outputs": [
    {
     "name": "stdout",
     "output_type": "stream",
     "text": [
      "What is your name? \n",
      "Enter quit to exit malihe\n",
      "Hi Malihe, you've been added to the guest book.\n",
      "What is your name? \n",
      "Enter quit to exit zari\n",
      "Hi Zari, you've been added to the guest book.\n",
      "What is your name? \n",
      "Enter quit to exit sarah\n",
      "Hi Sarah, you've been added to the guest book.\n",
      "What is your name? \n",
      "Enter quit to exit quit\n"
     ]
    }
   ],
   "source": [
    "with open(filename,'w') as file_object:\n",
    "    while True:\n",
    "        guest= input(\"What is your name? \\nEnter quit to exit \")\n",
    "        if guest=='quit':\n",
    "            break\n",
    "        else:\n",
    "            \n",
    "            file_object.write(f\"{guest}\\n\")\n",
    "            print(f\"Hi {guest.title()}, you've been added to the guest book.\")\n",
    "     "
   ]
  },
  {
   "cell_type": "markdown",
   "id": "99aa4970",
   "metadata": {},
   "source": [
    "**10-5. Programming Poll:** Write a while loop that asks people why they like \n",
    "programming. Each time someone enters a reason, add their reason to a file \n",
    "that stores all the responses.\n"
   ]
  },
  {
   "cell_type": "code",
   "execution_count": 11,
   "id": "4c4d426b",
   "metadata": {},
   "outputs": [
    {
     "name": "stdout",
     "output_type": "stream",
     "text": [
      "Enter quit when you're finished\n",
      "Why do you like programming? because it's fun\n",
      "Why do you like programming? I like analyzing data with python\n",
      "Why do you like programming? quit\n"
     ]
    }
   ],
   "source": [
    "filename= 'programming_poll.txt'\n",
    "print(\"Enter quit when you're finished\")\n",
    "while True:\n",
    "    reason= input(\"Why do you like programming? \")\n",
    "    if reason=='quit':\n",
    "        break\n",
    "    else:\n",
    "        with open(filename, 'a') as file_object:\n",
    "            file_object.write(reason)"
   ]
  },
  {
   "cell_type": "markdown",
   "id": "1ecd01da",
   "metadata": {},
   "source": [
    "## Exceptions"
   ]
  },
  {
   "cell_type": "code",
   "execution_count": 14,
   "id": "8bc8f767",
   "metadata": {},
   "outputs": [
    {
     "name": "stdout",
     "output_type": "stream",
     "text": [
      "You can't divide by zero\n"
     ]
    }
   ],
   "source": [
    "#Handling the ZeroDivisionError Exception\n",
    "try:\n",
    "    print(5/0)\n",
    "except ZeroDivisionError:\n",
    "    print(\"You can't divide by zero\")"
   ]
  },
  {
   "cell_type": "markdown",
   "id": "61a10d4e",
   "metadata": {},
   "source": [
    "### Using Exceptions to Prevent Crashes"
   ]
  },
  {
   "cell_type": "markdown",
   "id": "29f5fde4",
   "metadata": {},
   "source": [
    "#### ZeroDivisionError "
   ]
  },
  {
   "cell_type": "code",
   "execution_count": 20,
   "id": "97206e7c",
   "metadata": {},
   "outputs": [
    {
     "name": "stdout",
     "output_type": "stream",
     "text": [
      "\n",
      "First number: 2\n",
      "Second number: 0\n",
      "You can't divide by zero\n",
      "\n",
      "First number: 2\n",
      "Second number: 1\n",
      "2.0\n",
      "\n",
      "First number: q\n"
     ]
    }
   ],
   "source": [
    "while True:\n",
    "    first_number = input(\"\\nFirst number: \")\n",
    "    if first_number == 'q':\n",
    "        break\n",
    "    second_number = input(\"Second number: \")\n",
    "    if second_number == 'q':\n",
    "        break\n",
    "    try:\n",
    "        answer = int(first_number) / int(second_number)\n",
    "    except ZeroDivisionError:\n",
    "        print(\"You can't divide by zero\")\n",
    "    else:\n",
    "        #Any code that depends on the try block executing successfully goes in the else block:\n",
    "        print(answer)"
   ]
  },
  {
   "cell_type": "markdown",
   "id": "4c48a934",
   "metadata": {},
   "source": [
    "#### FileNotFoundError"
   ]
  },
  {
   "cell_type": "code",
   "execution_count": 35,
   "id": "34ce0c72",
   "metadata": {},
   "outputs": [],
   "source": [
    "def count_words(filename):\n",
    "    \"\"\"Count the approximate number of words in a file\"\"\"    \n",
    "    try:\n",
    "        with open(filename, encoding='utf-8') as f:\n",
    "            contents= f.read()  \n",
    "    except FileNotFoundError:\n",
    "        print(f'The file{filename} does not exist')\n",
    "    else:\n",
    "        words= contents.split()\n",
    "        num_words = len(words)\n",
    "        print(f\"The file {filename} has about {num_words} words.\")      \n",
    "    "
   ]
  },
  {
   "cell_type": "code",
   "execution_count": 36,
   "id": "6e8104b3",
   "metadata": {},
   "outputs": [
    {
     "name": "stdout",
     "output_type": "stream",
     "text": [
      "The file alice.txt has about 29465 words.\n"
     ]
    }
   ],
   "source": [
    "count_words('alice.txt')"
   ]
  },
  {
   "cell_type": "markdown",
   "id": "f60a122b",
   "metadata": {},
   "source": [
    "## Execises"
   ]
  },
  {
   "cell_type": "markdown",
   "id": "1bca837b",
   "metadata": {},
   "source": [
    "**10-6. Addition:** One common problem when prompting for numerical input \n",
    "occurs when people provide text instead of numbers. When you try to convert \n",
    "the input to an int, you’ll get a ValueError. Write a program that prompts for \n",
    "two numbers. Add them together and print the result. Catch the ValueError if \n",
    "either input value is not a number, and print a friendly error message. Test your \n",
    "program by entering two numbers and then by entering some text instead of a \n",
    "number"
   ]
  },
  {
   "cell_type": "code",
   "execution_count": 54,
   "id": "557ce293",
   "metadata": {},
   "outputs": [
    {
     "name": "stdout",
     "output_type": "stream",
     "text": [
      "Give me a number: 1\n",
      "Give me a second number: 2\n",
      "3\n"
     ]
    }
   ],
   "source": [
    "try:\n",
    "    a= int(input(\"Give me a number: \"))\n",
    "    b= int(input(\"Give me a second number: \"))\n",
    "except ValueError:\n",
    "    print(\"sorry, I really need numbers. like 1, 2, ...\")\n",
    "else:\n",
    "        print(a+b)\n"
   ]
  },
  {
   "cell_type": "markdown",
   "id": "2f920f34",
   "metadata": {},
   "source": [
    "**10-7. Addition Calculator:** Wrap your code from Exercise 10-6 in a while loop \n",
    "so the user can continue entering numbers even if they make a mistake and \n",
    "enter text instead of a number"
   ]
  },
  {
   "cell_type": "code",
   "execution_count": 56,
   "id": "e186085e",
   "metadata": {},
   "outputs": [
    {
     "name": "stdout",
     "output_type": "stream",
     "text": [
      "Enter q at anytime to quit\n",
      "Give me a number: 1\n",
      "Give me a second number: 2\n",
      "The sum of 1 and 2 is 3.\n",
      "Give me a number: q\n"
     ]
    }
   ],
   "source": [
    "print(\"Enter q at anytime to quit\")\n",
    "while True:\n",
    "    try:\n",
    "        a= input(\"Give me a number: \")\n",
    "        if a == 'q':\n",
    "            break\n",
    "        a= int (a)\n",
    "        b= input(\"Give me a second number: \")\n",
    "        if b == 'q':\n",
    "            break\n",
    "        b= int(b)\n",
    "    except ValueError:\n",
    "        print(\"sorry, I really need numbers. like 1, 2, ...\")\n",
    "    else:\n",
    "        sum = a+b\n",
    "        print(f\"The sum of {a} and {b} is {sum}.\")\n"
   ]
  },
  {
   "cell_type": "markdown",
   "id": "ce05d60b",
   "metadata": {},
   "source": [
    "**10-8. Cats and Dogs:** Make two files, cats.txt and dogs.txt. Store at least three \n",
    "names of cats in the first file and three names of dogs in the second file. Write \n",
    "a program that tries to read these files and print the contents of the file to the \n",
    "screen. Wrap your code in a try-except block to catch the FileNotFound error, \n",
    "and print a friendly message if a file is missing. Move one of the files to a different location on your system, and make sure the code in the except block \n",
    "executes properly."
   ]
  },
  {
   "cell_type": "code",
   "execution_count": 63,
   "id": "95750671",
   "metadata": {},
   "outputs": [],
   "source": [
    "filename1= 'cats.txt'\n",
    "cats= ['teddy', 'kamva', 'pashmak']\n",
    "with open(filename1,'a') as f:\n",
    "    for cat in cats:\n",
    "        f.write(f\"{cat}\\n\")\n",
    "        \n",
    "filename2= 'dogs.txt'\n",
    "dogs= ['hapoo', 'hooloo', 'kitkat']\n",
    "with open(filename2,'a') as f:\n",
    "    for dog in dogs:\n",
    "        f.write(f\"{dog}\\n\")"
   ]
  },
  {
   "cell_type": "code",
   "execution_count": 112,
   "id": "b172d035",
   "metadata": {},
   "outputs": [],
   "source": [
    "def file_reader(filename):\n",
    "    try:\n",
    "        with open (filename, encoding='utf-8') as f:\n",
    "            contents= f.read()\n",
    "            print(contents)\n",
    "    except FileNotFoundError:\n",
    "        print (f'I can not find the file {filename}')"
   ]
  },
  {
   "cell_type": "code",
   "execution_count": 113,
   "id": "e750755d",
   "metadata": {},
   "outputs": [],
   "source": [
    "filenames= ['cats.txt' , 'dogs.txt' , 'justfortest.txt']"
   ]
  },
  {
   "cell_type": "code",
   "execution_count": 114,
   "id": "8b66f1b8",
   "metadata": {},
   "outputs": [
    {
     "name": "stdout",
     "output_type": "stream",
     "text": [
      "teddy\n",
      "kamva\n",
      "pashmak\n",
      "\n",
      "hapoo\n",
      "hooloo\n",
      "kitkat\n",
      "\n",
      "I can not find the file justfortest.txt\n"
     ]
    }
   ],
   "source": [
    "for filename in filenames: \n",
    "    file_reader(filename)"
   ]
  },
  {
   "cell_type": "markdown",
   "id": "4db32c9c",
   "metadata": {},
   "source": [
    "**10-9. Silent Cats and Dogs:** Modify your except block in Exercise 10-8 to fail \n",
    "silently if either file is missing."
   ]
  },
  {
   "cell_type": "code",
   "execution_count": 110,
   "id": "bce41558",
   "metadata": {},
   "outputs": [],
   "source": [
    "def file_reader(filename):\n",
    "    \"\"\"Open and print the content of a text file\"\"\"\n",
    "    try:\n",
    "        with open (filename,encoding='utf-8') as f:\n",
    "            contents= f.read()\n",
    "            print(contents)\n",
    "    except FileNotFoundError:\n",
    "        pass\n"
   ]
  },
  {
   "cell_type": "code",
   "execution_count": 111,
   "id": "fb1ebef1",
   "metadata": {},
   "outputs": [
    {
     "name": "stdout",
     "output_type": "stream",
     "text": [
      "teddy\n",
      "kamva\n",
      "pashmak\n",
      "\n",
      "hapoo\n",
      "hooloo\n",
      "kitkat\n",
      "\n"
     ]
    }
   ],
   "source": [
    "for filename in filenames: \n",
    "    file_reader(filename)"
   ]
  },
  {
   "cell_type": "markdown",
   "id": "380727af",
   "metadata": {},
   "source": [
    "**10-10. Common Words:** Write a program that reads the files you found at Project Gutenberg and \n",
    "determines how many times the word 'the' appears in each text. This will be \n",
    "an approximation because it will also count words such as 'then' and 'there'. \n",
    "Try counting 'the ', with a space in the string, and see how much lower your \n",
    "count is"
   ]
  },
  {
   "cell_type": "code",
   "execution_count": 94,
   "id": "6ada2eec",
   "metadata": {},
   "outputs": [],
   "source": [
    "filename= 'alice.txt'\n",
    "with open(filename, encoding='utf-8') as f:\n",
    "    content=f.read()\n",
    "    "
   ]
  },
  {
   "cell_type": "code",
   "execution_count": 103,
   "id": "bc7360a8",
   "metadata": {},
   "outputs": [],
   "source": [
    "def common_word_count(filename, word):\n",
    "    \"\"\"Count how many times a word appear in a text\"\"\"\n",
    "    try: \n",
    "        with open(filename, encoding='utf-8') as f:\n",
    "            content=f.read()\n",
    "    except FileNotFoundError:\n",
    "        print('File does not exist')\n",
    "    else:\n",
    "        word_count = content.lower().count(word)\n",
    "    return word_count"
   ]
  },
  {
   "cell_type": "code",
   "execution_count": 102,
   "id": "5e3b6dc0",
   "metadata": {},
   "outputs": [
    {
     "data": {
      "text/plain": [
       "1525"
      ]
     },
     "execution_count": 102,
     "metadata": {},
     "output_type": "execute_result"
    }
   ],
   "source": [
    "common_word_count('alice.txt', ' the ')"
   ]
  },
  {
   "cell_type": "markdown",
   "id": "3c793be2",
   "metadata": {},
   "source": [
    "## Storing Data"
   ]
  },
  {
   "cell_type": "markdown",
   "id": "35239e40",
   "metadata": {},
   "source": [
    "### Using json.dump() and json.load()"
   ]
  },
  {
   "cell_type": "code",
   "execution_count": 1,
   "id": "088944bc",
   "metadata": {},
   "outputs": [],
   "source": [
    "import json\n",
    "numbers = [2, 3, 4, 5, 6]\n",
    "\n",
    "filename = 'numbers.json'\n",
    "with open (filename, 'w') as f:\n",
    "    json.dump(numbers,f)"
   ]
  },
  {
   "cell_type": "code",
   "execution_count": 2,
   "id": "0604ef02",
   "metadata": {},
   "outputs": [
    {
     "name": "stdout",
     "output_type": "stream",
     "text": [
      "[2, 3, 4, 5, 6]\n"
     ]
    }
   ],
   "source": [
    "with open (filename) as f:\n",
    "    numbers = json.load(f)\n",
    "\n",
    "print(numbers)"
   ]
  },
  {
   "cell_type": "markdown",
   "id": "24951a55",
   "metadata": {},
   "source": [
    "### Saving and Reading User-Generated Data"
   ]
  },
  {
   "cell_type": "code",
   "execution_count": 27,
   "id": "5278657a",
   "metadata": {},
   "outputs": [
    {
     "name": "stdout",
     "output_type": "stream",
     "text": [
      "What is your name? zari\n",
      "I'll remember you, zari!\n"
     ]
    }
   ],
   "source": [
    "\n",
    "import json\n",
    "\n",
    "username = input(\"What is your name? \")\n",
    "filename = 'username.json'\n",
    "with open (filename, 'w') as f:\n",
    "    json.dump(username,f)\n",
    "    print(f\"I'll remember you, {username}!\")"
   ]
  },
  {
   "cell_type": "code",
   "execution_count": 28,
   "id": "091f137f",
   "metadata": {},
   "outputs": [
    {
     "name": "stdout",
     "output_type": "stream",
     "text": [
      "Welcome back zari\n"
     ]
    }
   ],
   "source": [
    "import json\n",
    "filename = 'username.json'\n",
    "with open (filename) as f:\n",
    "    username = json.load(f)\n",
    "    print (f'Welcome back {username}')"
   ]
  },
  {
   "cell_type": "markdown",
   "id": "817d7a37",
   "metadata": {},
   "source": [
    "## Refactoring"
   ]
  },
  {
   "cell_type": "markdown",
   "id": "2cf382f5",
   "metadata": {},
   "source": [
    "Refactoring is the process of improving the code by breaking it up into series of functions that have specific jobs.<br>\n",
    "As an example, the code below will be refactored. "
   ]
  },
  {
   "cell_type": "code",
   "execution_count": 8,
   "id": "1041e696",
   "metadata": {},
   "outputs": [
    {
     "name": "stdout",
     "output_type": "stream",
     "text": [
      "Welcome back Malihe\n"
     ]
    }
   ],
   "source": [
    "import json\n",
    "filename = 'username.json'\n",
    "try:\n",
    "    with open(filename) as f:\n",
    "        username = json.load(f)\n",
    "except FileNotFoundError:\n",
    "    username = input(\"What is your name? \") \n",
    "    with open(filename, 'w') as f:\n",
    "        json.dump(username,f)\n",
    "        print(f\"I'll remember you, {username}!\")\n",
    "else:\n",
    "    print(f'Welcome back {username}')"
   ]
  },
  {
   "cell_type": "code",
   "execution_count": 46,
   "id": "5857e9c4",
   "metadata": {},
   "outputs": [],
   "source": [
    "def get_stored_user():\n",
    "    filename = 'username.json'\n",
    "    try:\n",
    "        with open(filename) as f:\n",
    "            username = json.load(f)\n",
    "    except FileNotFoundError:\n",
    "        return None\n",
    "    else:\n",
    "        return username\n",
    "\n",
    "   "
   ]
  },
  {
   "cell_type": "code",
   "execution_count": 50,
   "id": "80d6b140",
   "metadata": {},
   "outputs": [],
   "source": [
    "def get_new_user():\n",
    "    filename = 'username.json'\n",
    "    username = input(\"What is your name? \") \n",
    "    with open(filename, 'w') as f:\n",
    "        json.dump(username,f)\n",
    "    return username   "
   ]
  },
  {
   "cell_type": "code",
   "execution_count": 51,
   "id": "49309f79",
   "metadata": {},
   "outputs": [],
   "source": [
    "def greet_user():\n",
    "    username= get_stored_user()\n",
    "    if username:\n",
    "        print(f'Welcome back {username}')\n",
    "    else:\n",
    "        username= get_new_user()\n",
    "        print(f\"I'll remember you, {username}!\")"
   ]
  },
  {
   "cell_type": "code",
   "execution_count": 49,
   "id": "d7a26f0a",
   "metadata": {},
   "outputs": [
    {
     "name": "stdout",
     "output_type": "stream",
     "text": [
      "Welcome back zari\n"
     ]
    }
   ],
   "source": [
    "greet_user()"
   ]
  },
  {
   "cell_type": "markdown",
   "id": "b8fd189a",
   "metadata": {},
   "source": [
    "## Exercises"
   ]
  },
  {
   "cell_type": "markdown",
   "id": "719eebe0",
   "metadata": {},
   "source": [
    "**10-11. Favorite Number:** Write a program that prompts for the user’s favorite \n",
    "number. Use json.dump() to store this number in a file. Write a separate program that reads in this value and prints the message, “I know your favorite \n",
    "number! It’s _____.”"
   ]
  },
  {
   "cell_type": "code",
   "execution_count": 59,
   "id": "07927558",
   "metadata": {},
   "outputs": [
    {
     "name": "stdout",
     "output_type": "stream",
     "text": [
      "what is your favorite number: 32\n",
      "Thanks, I'll remember that\n"
     ]
    }
   ],
   "source": [
    "filename= 'fave_num.json'\n",
    "num = input(\"what is your favorite number: \")\n",
    "print(\"Thanks, I'll remember that\")\n",
    "with open(filename, 'w') as f:\n",
    "    fave_num = json.dump(num,f)\n",
    "    "
   ]
  },
  {
   "cell_type": "code",
   "execution_count": 60,
   "id": "d866f464",
   "metadata": {},
   "outputs": [
    {
     "name": "stdout",
     "output_type": "stream",
     "text": [
      "I know your favorite number! It’s 32\n"
     ]
    }
   ],
   "source": [
    "filename = 'fave_num.json'\n",
    "with open (filename) as f:\n",
    "    num = json.load(f)\n",
    "    print(f\"I know your favorite number! It’s {num}\" )"
   ]
  },
  {
   "cell_type": "markdown",
   "id": "2bb30bf0",
   "metadata": {},
   "source": [
    "**10-12. Favorite Number Remembered:** Combine the two programs from \n",
    "Exercise 10-11 into one file. If the number is already stored, report the favorite \n",
    "number to the user. If not, prompt for the user’s favorite number and store it in a \n",
    "file. Run the program twice to see that it works."
   ]
  },
  {
   "cell_type": "code",
   "execution_count": 70,
   "id": "689728c4",
   "metadata": {},
   "outputs": [
    {
     "name": "stdout",
     "output_type": "stream",
     "text": [
      "what is your favorite number: 7\n",
      "I'll remember your favorite number: 7\n"
     ]
    }
   ],
   "source": [
    "import json\n",
    "filename = 'fave_num.json'\n",
    "try:\n",
    "    with open(filename) as f:\n",
    "        num = json.load(f)\n",
    "except FileNotFoundError:\n",
    "    num = input(\"what is your favorite number: \")\n",
    "    with open(filename, 'w') as f:\n",
    "        json.dump(num, f)\n",
    "        print (f\"I'll remember your favorite number: {num}\")\n",
    "else:\n",
    "    print(f\"I know your favorite number! It’s {num}\" )"
   ]
  },
  {
   "cell_type": "markdown",
   "id": "4d78bcc7",
   "metadata": {},
   "source": [
    "**10-13. Verify User:** The final listing for remember_me.py assumes either that the \n",
    "user has already entered their username or that the program is running for the \n",
    "first time. We should modify it in case the current user is not the person who \n",
    "last used the program.\n",
    "Before printing a welcome back message in greet_user(), ask the user if \n",
    "this is the correct username. If it’s not, call get_new_username() to get the correct \n",
    "username"
   ]
  },
  {
   "cell_type": "code",
   "execution_count": 75,
   "id": "8ab8d940",
   "metadata": {},
   "outputs": [],
   "source": [
    "def get_stored_user():\n",
    "    filename = 'username.json'\n",
    "    try:\n",
    "        with open(filename) as f:\n",
    "            username = json.load(f)\n",
    "    except FileNotFoundError:\n",
    "        return None\n",
    "    else:\n",
    "        return username\n",
    "\n",
    "def get_new_user():\n",
    "    filename = 'username.json'\n",
    "    username = input(\"What is your name? \") \n",
    "    with open(filename, 'w') as f:\n",
    "        json.dump(username,f)\n",
    "    return username   \n",
    "\n",
    "def greet_user():\n",
    "    username= get_stored_user()\n",
    "    if username:\n",
    "        verification = input(f\"Are you {username}?(y/n) \")\n",
    "        if verification == 'y':\n",
    "            print(f'Welcome back {username}')\n",
    "        else:\n",
    "            username= get_new_user()\n",
    "            print(f\"I'll remember you, {username}!\")\n",
    "    else:\n",
    "        username= get_new_user()\n",
    "        print(f\"I'll remember you, {username}!\")"
   ]
  },
  {
   "cell_type": "code",
   "execution_count": 78,
   "id": "d0d82a73",
   "metadata": {},
   "outputs": [
    {
     "name": "stdout",
     "output_type": "stream",
     "text": [
      "What is your name? Malihe\n",
      "I'll remember you, Malihe!\n"
     ]
    }
   ],
   "source": [
    "greet_user()"
   ]
  },
  {
   "cell_type": "code",
   "execution_count": 79,
   "id": "fd0c2ada",
   "metadata": {},
   "outputs": [
    {
     "name": "stdout",
     "output_type": "stream",
     "text": [
      "Are you Malihe?(y/n) y\n",
      "Welcome back Malihe\n"
     ]
    }
   ],
   "source": [
    "greet_user()"
   ]
  },
  {
   "cell_type": "code",
   "execution_count": 80,
   "id": "0eb2bf0a",
   "metadata": {},
   "outputs": [
    {
     "name": "stdout",
     "output_type": "stream",
     "text": [
      "Are you Malihe?(y/n) n\n",
      "What is your name? zari\n",
      "I'll remember you, zari!\n"
     ]
    }
   ],
   "source": [
    "greet_user()"
   ]
  }
 ],
 "metadata": {
  "kernelspec": {
   "display_name": "Python 3 (ipykernel)",
   "language": "python",
   "name": "python3"
  },
  "language_info": {
   "codemirror_mode": {
    "name": "ipython",
    "version": 3
   },
   "file_extension": ".py",
   "mimetype": "text/x-python",
   "name": "python",
   "nbconvert_exporter": "python",
   "pygments_lexer": "ipython3",
   "version": "3.9.12"
  }
 },
 "nbformat": 4,
 "nbformat_minor": 5
}
