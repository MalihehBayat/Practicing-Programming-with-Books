{
 "cells": [
  {
   "cell_type": "markdown",
   "id": "448829f5",
   "metadata": {},
   "source": [
    "# Chapter 7: User Input and While Loop"
   ]
  },
  {
   "cell_type": "code",
   "execution_count": 2,
   "id": "a97f672b",
   "metadata": {},
   "outputs": [
    {
     "name": "stdout",
     "output_type": "stream",
     "text": [
      "Tell me something and I tell it back to you: hello\n",
      "hello\n"
     ]
    }
   ],
   "source": [
    "message= input(\"Tell me something and I tell it back to you: \") \n",
    "print(message)"
   ]
  },
  {
   "cell_type": "markdown",
   "id": "9a1ba82c",
   "metadata": {},
   "source": [
    "## Writing Clear Prompts"
   ]
  },
  {
   "cell_type": "markdown",
   "id": "5a83f9ba",
   "metadata": {},
   "source": [
    "### When prompt is too long:"
   ]
  },
  {
   "cell_type": "code",
   "execution_count": 6,
   "id": "3e4cdc35",
   "metadata": {},
   "outputs": [
    {
     "name": "stdout",
     "output_type": "stream",
     "text": [
      "If you tell us who you are, we can personalize the message you see.\n",
      "what is your name: alex\n",
      " Hello, Alex\n"
     ]
    }
   ],
   "source": [
    "prompt= \"If you tell us who you are, we can personalize the message you see.\"\n",
    "prompt+= \"\\nwhat is your name: \"\n",
    "name= input (prompt)\n",
    "print (f\" Hello, {name.title()}\")"
   ]
  },
  {
   "cell_type": "markdown",
   "id": "8a64528b",
   "metadata": {},
   "source": [
    "**Note:** The technic above can also be used when we right a long text in print() function"
   ]
  },
  {
   "cell_type": "markdown",
   "id": "4b028a6f",
   "metadata": {},
   "source": [
    "### Using int() to Accept Numerical Input"
   ]
  },
  {
   "cell_type": "code",
   "execution_count": 7,
   "id": "0c47b94e",
   "metadata": {},
   "outputs": [
    {
     "name": "stdout",
     "output_type": "stream",
     "text": [
      "please enter your age: 31\n"
     ]
    }
   ],
   "source": [
    "age= int(input(\"please enter your age: \")) "
   ]
  },
  {
   "cell_type": "code",
   "execution_count": 10,
   "id": "d357a2cb",
   "metadata": {},
   "outputs": [
    {
     "name": "stdout",
     "output_type": "stream",
     "text": [
      "You can vote\n"
     ]
    }
   ],
   "source": [
    "if age > 18:\n",
    "    print(\"You can vote\")\n",
    "else:\n",
    "    print(\"sorry, you are too young to vote!\")"
   ]
  },
  {
   "cell_type": "markdown",
   "id": "fa4ab083",
   "metadata": {},
   "source": [
    "#### The Modulo Operator"
   ]
  },
  {
   "cell_type": "markdown",
   "id": "420a7a9e",
   "metadata": {},
   "source": [
    "The modulo operator (%) divides one number by another number and returns the remainder"
   ]
  },
  {
   "cell_type": "code",
   "execution_count": 12,
   "id": "bb5dda1f",
   "metadata": {},
   "outputs": [
    {
     "name": "stdout",
     "output_type": "stream",
     "text": [
      "Enter a number, and I'll tell you if it's even or odd: 31\n",
      "\n",
      "The number 31 is odd.\n"
     ]
    }
   ],
   "source": [
    "number = int(input(\"Enter a number, and I'll tell you if it's even or odd: \"))\n",
    "if number% 2 == 0:\n",
    "    print(f\"\\nThe number {number} is even.\")\n",
    "else:\n",
    "    print(f\"\\nThe number {number} is odd.\")"
   ]
  },
  {
   "cell_type": "markdown",
   "id": "f610ac8a",
   "metadata": {},
   "source": [
    "## Exercises"
   ]
  },
  {
   "cell_type": "markdown",
   "id": "35e37a02",
   "metadata": {},
   "source": [
    "**7-1. Rental Car:** Write a program that asks the user what kind of rental car they \n",
    "would like. Print a message about that car, such as “Let me see if I can find you \n",
    "a Subaru.”"
   ]
  },
  {
   "cell_type": "code",
   "execution_count": 15,
   "id": "be194f2a",
   "metadata": {},
   "outputs": [
    {
     "name": "stdout",
     "output_type": "stream",
     "text": [
      "What kind of rental car would you like?: audi\n",
      "Let me see if I can find you a Audi\n"
     ]
    }
   ],
   "source": [
    "car  = input (\"What kind of rental car would you like?: \")\n",
    "print(f\"Let me see if I can find you a {car.title()}\")"
   ]
  },
  {
   "cell_type": "markdown",
   "id": "926677ca",
   "metadata": {},
   "source": [
    "**7-2. Restaurant Seating:** Write a program that asks the user how many people \n",
    "are in their dinner group. If the answer is more than eight, print a message saying they’ll have to wait for a table. Otherwise, report that their table is read"
   ]
  },
  {
   "cell_type": "code",
   "execution_count": 16,
   "id": "d3a6e789",
   "metadata": {},
   "outputs": [
    {
     "name": "stdout",
     "output_type": "stream",
     "text": [
      "How many people you are: 10\n",
      "Sorry, you'll have to wait for a table\n"
     ]
    }
   ],
   "source": [
    "number= int(input(\"How many people you are: \"))\n",
    "if number <= 8:\n",
    "    print ('Your table is ready')\n",
    "else:\n",
    "    print (\"Sorry, you'll have to wait for a table\")"
   ]
  },
  {
   "cell_type": "markdown",
   "id": "2509335e",
   "metadata": {},
   "source": [
    "**7-3. Multiples of Ten:** Ask the user for a number, and then report whether the \n",
    "number is a multiple of 10 or not"
   ]
  },
  {
   "cell_type": "code",
   "execution_count": 18,
   "id": "dd587267",
   "metadata": {},
   "outputs": [
    {
     "name": "stdout",
     "output_type": "stream",
     "text": [
      "30\n",
      "30 is a multiple of 10\n"
     ]
    }
   ],
   "source": [
    "prompt= \"Give me a number, and I tell you if it is a multiple of 10 or not: \"\n",
    "number= int(input())\n",
    "if number % 10 == 0:\n",
    "    print(f\"{number} is a multiple of 10\")\n",
    "else:\n",
    "    print(f\"{number} is not a multiple of 10\")"
   ]
  },
  {
   "cell_type": "markdown",
   "id": "67a10828",
   "metadata": {},
   "source": [
    "## Introducing while Loops"
   ]
  },
  {
   "cell_type": "markdown",
   "id": "4736fe7f",
   "metadata": {},
   "source": [
    "The while loop runs as long as, \n",
    "or while, a certain condition is true. \n"
   ]
  },
  {
   "cell_type": "code",
   "execution_count": 19,
   "id": "75ecd19a",
   "metadata": {},
   "outputs": [
    {
     "name": "stdout",
     "output_type": "stream",
     "text": [
      "1\n",
      "2\n",
      "3\n",
      "4\n",
      "5\n"
     ]
    }
   ],
   "source": [
    "\n",
    "current_num= 1\n",
    "while current_num <= 5:\n",
    "    print(current_num)\n",
    "    current_num +=1"
   ]
  },
  {
   "cell_type": "markdown",
   "id": "d36dee84",
   "metadata": {},
   "source": [
    "### Letting the User Choose When to Quit"
   ]
  },
  {
   "cell_type": "code",
   "execution_count": 29,
   "id": "61145ae8",
   "metadata": {},
   "outputs": [
    {
     "name": "stdout",
     "output_type": "stream",
     "text": [
      "\n",
      "Tell me something, and I will repeat it back to you:\n",
      "Enter 'quit' to end the program. quit\n"
     ]
    }
   ],
   "source": [
    "prompt = \"\\nTell me something, and I will repeat it back to you:\"\n",
    "prompt += \"\\nEnter 'quit' to end the program. \"\n",
    "\n",
    "message= \"\"\n",
    "while message.lower() != 'quit':\n",
    "    message= input(prompt)\n",
    "    if message != 'quit':\n",
    "        print(message)"
   ]
  },
  {
   "cell_type": "markdown",
   "id": "6661306c",
   "metadata": {},
   "source": [
    "### Using a Flag"
   ]
  },
  {
   "cell_type": "markdown",
   "id": "fe1c4a7d",
   "metadata": {},
   "source": [
    "For a program that should run only as long as many conditions are true, \n",
    "you can define one variable that determines whether or not the entire pro\u0002gram is active. This variable, called a flag, acts as a signal to the pr"
   ]
  },
  {
   "cell_type": "code",
   "execution_count": 30,
   "id": "09a6e3ad",
   "metadata": {},
   "outputs": [],
   "source": [
    "prompt = \"\\nTell me something, and I will repeat it back to you:\"\n",
    "prompt += \"\\nEnter 'quit' to end the program.\""
   ]
  },
  {
   "cell_type": "code",
   "execution_count": 36,
   "id": "734ad073",
   "metadata": {},
   "outputs": [
    {
     "name": "stdout",
     "output_type": "stream",
     "text": [
      "\n",
      "Tell me something, and I will repeat it back to you:\n",
      "Enter 'quit' to end the program.hi\n",
      "hi\n",
      "\n",
      "Tell me something, and I will repeat it back to you:\n",
      "Enter 'quit' to end the program.hey\n",
      "hey\n",
      "\n",
      "Tell me something, and I will repeat it back to you:\n",
      "Enter 'quit' to end the program.hello\n",
      "See you next time\n"
     ]
    }
   ],
   "source": [
    "# the code will stop working when user performs 3 attempts or enters \"quit\"\n",
    "active = True\n",
    "attempts= 1\n",
    "while active:\n",
    "    message = input(prompt)\n",
    "    if message == 'quit' or attempts==3:\n",
    "        active = False\n",
    "        print('See you next time')\n",
    "    else:\n",
    "        print(message)\n",
    "    attempts+=1"
   ]
  },
  {
   "cell_type": "markdown",
   "id": "1e8c7aaf",
   "metadata": {},
   "source": [
    "### Using break to Exit a Loop"
   ]
  },
  {
   "cell_type": "markdown",
   "id": "49746f62",
   "metadata": {},
   "source": [
    "**\"break\"** statement is used to exit a while loop immediately without running any remaining code in the \n",
    "loop, regardless of the results of any conditional test."
   ]
  },
  {
   "cell_type": "code",
   "execution_count": 38,
   "id": "06aba921",
   "metadata": {},
   "outputs": [],
   "source": [
    "prompt = \"\\nTell me something, and I will repeat it back to you:\"\n",
    "prompt += \"\\nEnter 'quit' to end the program.\""
   ]
  },
  {
   "cell_type": "code",
   "execution_count": 39,
   "id": "3930d77f",
   "metadata": {},
   "outputs": [
    {
     "name": "stdout",
     "output_type": "stream",
     "text": [
      "\n",
      "Tell me something, and I will repeat it back to you:\n",
      "Enter 'quit' to end the program.hey\n",
      "hey\n",
      "\n",
      "Tell me something, and I will repeat it back to you:\n",
      "Enter 'quit' to end the program.hey\n",
      "hey\n",
      "\n",
      "Tell me something, and I will repeat it back to you:\n",
      "Enter 'quit' to end the program.hey\n",
      "hey\n",
      "\n",
      "Tell me something, and I will repeat it back to you:\n",
      "Enter 'quit' to end the program.hey\n",
      "hey\n",
      "\n",
      "Tell me something, and I will repeat it back to you:\n",
      "Enter 'quit' to end the program.quit\n"
     ]
    }
   ],
   "source": [
    "while True:\n",
    "    message = input(prompt)\n",
    "    if message == 'quit':\n",
    "        break\n",
    "    else:\n",
    "        print(message)\n"
   ]
  },
  {
   "cell_type": "markdown",
   "id": "ed27d706",
   "metadata": {},
   "source": [
    "**Note:** A loop that starts with **while True will run forever unless it reaches a \n",
    "break statement**"
   ]
  },
  {
   "cell_type": "markdown",
   "id": "005f962c",
   "metadata": {},
   "source": [
    "### Using continue in a Loop"
   ]
  },
  {
   "cell_type": "markdown",
   "id": "430f5d0b",
   "metadata": {},
   "source": [
    "The **continue** statement can be used to return to the beginning of the \n",
    "loop based on the result of a conditional test"
   ]
  },
  {
   "cell_type": "code",
   "execution_count": 42,
   "id": "8fc5ffc9",
   "metadata": {},
   "outputs": [
    {
     "name": "stdout",
     "output_type": "stream",
     "text": [
      "1\n",
      "3\n",
      "5\n",
      "7\n",
      "9\n"
     ]
    }
   ],
   "source": [
    "#  this code prints only the odd numbers in the range 0 and 10\n",
    "current_num = 0\n",
    "while current_num <10:\n",
    "    current_num += 1\n",
    "    if current_num % 2 ==  0:\n",
    "        continue\n",
    "    print(current_num)"
   ]
  },
  {
   "cell_type": "markdown",
   "id": "d36e18df",
   "metadata": {},
   "source": [
    "## Exercises"
   ]
  },
  {
   "cell_type": "markdown",
   "id": "ed753996",
   "metadata": {},
   "source": [
    "**7-4. Pizza Toppings:** Write a loop that prompts the user to enter a series of \n",
    "pizza toppings until they enter a 'quit' value. As they enter each topping, \n",
    "print a message saying you’ll add that topping to their pizza."
   ]
  },
  {
   "cell_type": "code",
   "execution_count": 52,
   "id": "f8bfbf29",
   "metadata": {},
   "outputs": [],
   "source": [
    "prompt= \"\\nEnter the toppings you like: \"\n",
    "prompt+= \"\\nEnter 'quit' to exit\"\n"
   ]
  },
  {
   "cell_type": "code",
   "execution_count": 67,
   "id": "8e0c58a0",
   "metadata": {},
   "outputs": [
    {
     "name": "stdout",
     "output_type": "stream",
     "text": [
      "What would you like for your pizza toppings?\n",
      "Enter the toppings you like: \n",
      "Enter 'quit' to exit\n",
      "mushroom\n",
      "\n",
      "We'll add mushroom to your pizza\n",
      "Enter the toppings you like: \n",
      "Enter 'quit' to exit\n",
      "quit\n"
     ]
    }
   ],
   "source": [
    "print(\"What would you like for your pizza toppings?\")\n",
    "\n",
    "prompt= \"Enter the toppings you like: \"\n",
    "prompt+= \"\\nEnter 'quit' to exit\\n\"\n",
    "\n",
    "#list of toppings\n",
    "toppings=[]\n",
    "\n",
    "while True:\n",
    "    message= input(prompt)\n",
    "    if message == 'quit':\n",
    "        break\n",
    "    else:\n",
    "        print(f\"\\nWe'll add {message} to your pizza\")\n",
    "        toppings.append(message)\n",
    "\n",
    "\n"
   ]
  },
  {
   "cell_type": "markdown",
   "id": "a47dd269",
   "metadata": {},
   "source": [
    "**7-5. Movie Tickets:** A movie theater charges different ticket prices depending on \n",
    "a person’s age. If a person is under the age of 3, the ticket is free; if they are \n",
    "between 3 and 12, the ticket is 10 and if they are over age 12, the ticket is \n",
    "$15. Write a loop in which you ask users their age, and then tell them the cost \n",
    "of their movie ticket"
   ]
  },
  {
   "cell_type": "code",
   "execution_count": 75,
   "id": "52c25217",
   "metadata": {},
   "outputs": [
    {
     "name": "stdout",
     "output_type": "stream",
     "text": [
      "Enter your age: \n",
      "Enter quit to exit\n",
      "quit\n"
     ]
    }
   ],
   "source": [
    "prompt= \"Enter your age: \\nEnter quit to exit\\n\"\n",
    "\n",
    "while True:\n",
    "    user_input = input(prompt)\n",
    "    if user_input =='quit':\n",
    "        break\n",
    "    else:\n",
    "\n",
    "        age = int (user_input)\n",
    "        if age<3:\n",
    "            print (\"You'll have a free ticket\")\n",
    "        elif age<12:\n",
    "            print (\"Your ticket costs $10\")\n",
    "        else:\n",
    "            print(\"Your ticket costs $15\")"
   ]
  },
  {
   "cell_type": "markdown",
   "id": "38f03023",
   "metadata": {},
   "source": [
    "## Using a while Loop with Lists and Dictionaries"
   ]
  },
  {
   "cell_type": "markdown",
   "id": "a8f9cb9b",
   "metadata": {},
   "source": [
    "A for loop is effective for looping through a list, but you shouldn’t modify \n",
    "a list inside a for loop because Python will have trouble keeping track of the \n",
    "items in the list. To modify a list as you work through it, use a while loop. "
   ]
  },
  {
   "cell_type": "markdown",
   "id": "16ec27e3",
   "metadata": {},
   "source": [
    "### Moving Items from One List to Another"
   ]
  },
  {
   "cell_type": "code",
   "execution_count": 113,
   "id": "4a49afc8",
   "metadata": {},
   "outputs": [
    {
     "name": "stdout",
     "output_type": "stream",
     "text": [
      "jacksparrow is now confirmed\n",
      "lupin is now confirmed\n",
      "happyblacksheep is now confirmed\n",
      "\n",
      "The following users have been confirmed:\n",
      "\tjacksparrow\n",
      "\tlupin\n",
      "\thappyblacksheep\n"
     ]
    }
   ],
   "source": [
    "# trying to pop items from one list and append it to another list using while loop\n",
    "# example: moving unverifided users to confirmed users\n",
    "unverified_users= [\"happyblacksheep\" , 'lupin' , 'jacksparrow']\n",
    "confirmed_users= []\n",
    "while unverified_users:\n",
    "    user = unverified_users.pop()\n",
    "    confirmed_users.append(user)\n",
    "    print(f\"{user} is now confirmed\")\n",
    "    \n",
    "print(\"\\nThe following users have been confirmed:\")\n",
    "for confirmed_user in confirmed_users:\n",
    "    print(f\"\\t{confirmed_user}\")"
   ]
  },
  {
   "cell_type": "markdown",
   "id": "4ad65ea3",
   "metadata": {},
   "source": [
    "### Removing All Instances of Specific Values from a List"
   ]
  },
  {
   "cell_type": "code",
   "execution_count": 126,
   "id": "a3c9478c",
   "metadata": {},
   "outputs": [
    {
     "data": {
      "text/plain": [
       "['dog', 'rabbit', 'dog', 'goldfish']"
      ]
     },
     "execution_count": 126,
     "metadata": {},
     "output_type": "execute_result"
    }
   ],
   "source": [
    "pets= ['cat' , 'dog', 'cat', 'rabbit' , 'dog', 'cat', 'goldfish']\n",
    "#removing 'cat' from the list of pets (cats are not pets. cats are family members!)\n",
    "while 'cat' in pets:\n",
    "    pets.remove('cat')\n",
    "\n",
    "pets"
   ]
  },
  {
   "cell_type": "markdown",
   "id": "2bb65f8c",
   "metadata": {},
   "source": [
    "### Filling a Dictionary with User Input"
   ]
  },
  {
   "cell_type": "code",
   "execution_count": 177,
   "id": "3f69574e",
   "metadata": {},
   "outputs": [
    {
     "name": "stdout",
     "output_type": "stream",
     "text": [
      "\n",
      "Enter your name: malihe\n",
      "How many years have you been programming?: 4\n",
      "What is your most favorite programming language? python\n",
      "Would you like to add another language? Enter the name of the language or enter no to exit: sql\n",
      "Would you like to add another language? Enter the name of the language or enter no to exit: go\n",
      "Would you like to add another language? Enter the name of the language or enter no to exit: no\n",
      "\n",
      "Thank you for taking the poll Malihe\n",
      "Whoud you like to let another person resond?(yes/no)? yes\n",
      "----------------\n",
      "\n",
      "Enter your name: fea\n",
      "How many years have you been programming?: 0\n",
      "What is your most favorite programming language? python\n",
      "Would you like to add another language? Enter the name of the language or enter no to exit: no\n",
      "\n",
      "Thank you for taking the poll Fea\n",
      "Whoud you like to let another person resond?(yes/no)? no\n"
     ]
    }
   ],
   "source": [
    "\n",
    "poll_responses = {}\n",
    "while True:\n",
    "    # Prompt for the person's name and response.\n",
    "    name= input(\"\\nEnter your name: \")\n",
    "    # Store the response in the poll_responses dictionary\n",
    "    #\n",
    "    poll_responses[name]= responses = {}\n",
    "    # \n",
    "    responses['programming_experience_years'] = int(input('How many years have you been programming?: '))\n",
    "    responses['favourit_language'] = languages=  []\n",
    "    languages.append (input('What is your most favorite programming language? '))\n",
    "    \n",
    "    while True:\n",
    "        response= input(\"Would you like to add another language? Enter the name of the language or enter no to exit: \")\n",
    "        if response.lower() != 'no':\n",
    "            languages.append(response)\n",
    "        else:\n",
    "            break\n",
    "    # Find out if anyone else is going to take the poll.\n",
    "    prompt= f\"\\nThank you for taking the poll {name.title()}\"\n",
    "    prompt+= \"\\nWhoud you like to let another person resond?(yes/no)? \"\n",
    "    repeat= input(prompt)\n",
    "    if repeat.lower() == 'no':\n",
    "        break\n",
    "    else:\n",
    "        print(\"----------------\")\n",
    "        continue\n",
    "    \n",
    "    "
   ]
  },
  {
   "cell_type": "code",
   "execution_count": 178,
   "id": "07cb9b56",
   "metadata": {},
   "outputs": [
    {
     "data": {
      "text/plain": [
       "{'malihe': {'programming_experience_years': 4,\n",
       "  'favourit_language': ['python', 'sql', 'go']},\n",
       " 'fea': {'programming_experience_years': 0, 'favourit_language': ['python']}}"
      ]
     },
     "execution_count": 178,
     "metadata": {},
     "output_type": "execute_result"
    }
   ],
   "source": [
    "poll_responses\n"
   ]
  },
  {
   "cell_type": "markdown",
   "id": "97b53f28",
   "metadata": {},
   "source": [
    "## Exercises"
   ]
  },
  {
   "cell_type": "markdown",
   "id": "35617407",
   "metadata": {},
   "source": [
    "**7-8. Deli:** Make a list called sandwich_orders and fill it with the names of various sandwiches. Then make an empty list called finished_sandwiches. Loop \n",
    "through the list of sandwich orders and print a message for each order, such \n",
    "as I made your tuna sandwich. As each sandwich is made, move it to the list \n",
    "of finished sandwiches. After all the sandwiches have been made, print a \n",
    "message listing each sandwich that was made."
   ]
  },
  {
   "cell_type": "code",
   "execution_count": 183,
   "id": "64bf27ed",
   "metadata": {},
   "outputs": [
    {
     "name": "stdout",
     "output_type": "stream",
     "text": [
      "sandwich4 is ready\n",
      "sandwich3 is ready\n",
      "sandwich2 is ready\n",
      "sandwich1 is ready\n"
     ]
    }
   ],
   "source": [
    "sandwich_orders = ['sandwich1', 'sandwich2', 'sandwich3', 'sandwich4']\n",
    "finished_sandwiches = []\n",
    "while sandwich_orders:\n",
    "    order= sandwich_orders.pop()\n",
    "    print (f\"{order} is ready\")\n",
    "    finished_sandwiches.append(order)       "
   ]
  },
  {
   "cell_type": "code",
   "execution_count": 184,
   "id": "944ca854",
   "metadata": {},
   "outputs": [
    {
     "data": {
      "text/plain": [
       "['sandwich4', 'sandwich3', 'sandwich2', 'sandwich1']"
      ]
     },
     "execution_count": 184,
     "metadata": {},
     "output_type": "execute_result"
    }
   ],
   "source": [
    "finished_sandwiches"
   ]
  },
  {
   "cell_type": "markdown",
   "id": "eed74319",
   "metadata": {},
   "source": [
    "**7-9. No Pastrami:** Using the list sandwich_orders from Exercise 7-8, make sure \n",
    "the sandwich 'pastrami' appears in the list at least three times. Add code \n",
    "near the beginning of your program to print a message saying the deli has \n",
    "run out of pastrami, and then use a while loop to remove all occurrences of \n",
    "'pastrami' from sandwich_orders. Make sure no pastrami sandwiches end up \n",
    "in finished_sandwiches."
   ]
  },
  {
   "cell_type": "code",
   "execution_count": 188,
   "id": "05ed0533",
   "metadata": {},
   "outputs": [
    {
     "name": "stdout",
     "output_type": "stream",
     "text": [
      "Deli has run out of pastrami\n"
     ]
    }
   ],
   "source": [
    "sandwich_orders = ['sandwich1',  'pastrami' , 'sandwich2',  'pastrami' , 'sandwich3', 'sandwich4',  'pastrami' ]\n",
    "print(\"Deli has run out of pastrami\")\n",
    "\n",
    "while  'pastrami'  in sandwich_orders:\n",
    "    sandwich_orders.remove('pastrami')\n",
    "    "
   ]
  },
  {
   "cell_type": "markdown",
   "id": "5f456993",
   "metadata": {},
   "source": [
    "**7-10. Dream Vacation:** Write a program that polls users about their dream vacation. Write a prompt similar to If you could visit one place in the world, where \n",
    "would you go? Include a block of code that prints the results of the poll."
   ]
  },
  {
   "cell_type": "code",
   "execution_count": 193,
   "id": "66e3cca2",
   "metadata": {},
   "outputs": [
    {
     "name": "stdout",
     "output_type": "stream",
     "text": [
      "\n",
      "What is your name? malihe\n",
      "If you could visit one place in the world, where would you go? africa\n",
      "Would you like to let another person respond? (yes/ no) yes\n",
      "\n",
      "What is your name? fea\n",
      "If you could visit one place in the world, where would you go? egypt\n",
      "Would you like to let another person respond? (yes/ no) no\n",
      "\n",
      "--- Poll Results ---\n",
      "malihe would like to go to africa.\n",
      "fea would like to go to egypt.\n"
     ]
    }
   ],
   "source": [
    "responses = {}\n",
    "# Set a flag to indicate that polling is active.\n",
    "polling_active = True\n",
    "while polling_active:\n",
    " # Prompt for the person's name and response.\n",
    "    name = input(\"\\nWhat is your name? \")\n",
    "    response = input(\"If you could visit one place in the world, where would you go? \")\n",
    " \n",
    " # Store the response in the dictionary.\n",
    "    responses[name] = response\n",
    "  \n",
    " # Find out if anyone else is going to take the poll.\n",
    "    repeat = input(\"Would you like to let another person respond? (yes/ no) \")\n",
    "    if repeat == 'no':\n",
    "        polling_active = False\n",
    "\n",
    "# Polling is complete. Show the results.\n",
    "print(\"\\n--- Poll Results ---\")\n",
    "for name, response in responses.items():\n",
    " print(f\"{name} would like to go to {response}.\")"
   ]
  },
  {
   "cell_type": "code",
   "execution_count": null,
   "id": "a7c41ab1",
   "metadata": {},
   "outputs": [],
   "source": []
  }
 ],
 "metadata": {
  "kernelspec": {
   "display_name": "Python 3 (ipykernel)",
   "language": "python",
   "name": "python3"
  },
  "language_info": {
   "codemirror_mode": {
    "name": "ipython",
    "version": 3
   },
   "file_extension": ".py",
   "mimetype": "text/x-python",
   "name": "python",
   "nbconvert_exporter": "python",
   "pygments_lexer": "ipython3",
   "version": "3.9.12"
  }
 },
 "nbformat": 4,
 "nbformat_minor": 5
}
