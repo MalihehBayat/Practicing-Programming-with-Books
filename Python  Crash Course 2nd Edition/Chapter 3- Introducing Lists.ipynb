{
 "cells": [
  {
   "cell_type": "markdown",
   "id": "2a081328",
   "metadata": {},
   "source": [
    "# Chapter 3: Introducing Lists"
   ]
  },
  {
   "cell_type": "markdown",
   "id": "f91709ba",
   "metadata": {},
   "source": [
    "A list is a collection of items in a particular order. In Python, square brackets ([]) indicate a list, and individual elements \n",
    "in the list are separated by commas."
   ]
  },
  {
   "cell_type": "markdown",
   "id": "4cc8d530",
   "metadata": {},
   "source": [
    "## Using Individual Values from a List"
   ]
  },
  {
   "cell_type": "code",
   "execution_count": 25,
   "id": "64147b97",
   "metadata": {},
   "outputs": [
    {
     "name": "stdout",
     "output_type": "stream",
     "text": [
      " When I was a teenager, my favourite author was Hermann Hesse\n"
     ]
    }
   ],
   "source": [
    "my_favourite_writers=['Niel Gaiman', 'J.K. Rowling', 'Hermann Hesse' ]\n",
    "message= f\" When I was a teenager, my favourite author was {my_favourite_writers[2]}\"\n",
    "print (message)"
   ]
  },
  {
   "cell_type": "markdown",
   "id": "3c91b99c",
   "metadata": {},
   "source": [
    "## Changing, Adding, and Removing Elements"
   ]
  },
  {
   "cell_type": "markdown",
   "id": "2e46acb6",
   "metadata": {},
   "source": [
    "### Modifying Elements in a List"
   ]
  },
  {
   "cell_type": "code",
   "execution_count": 4,
   "id": "91fc446c",
   "metadata": {},
   "outputs": [
    {
     "data": {
      "text/plain": [
       "[1, 2, 3, 4, 5]"
      ]
     },
     "execution_count": 4,
     "metadata": {},
     "output_type": "execute_result"
    }
   ],
   "source": [
    "numbers=[1,3,3,4,5]\n",
    "numbers[1]=2\n",
    "numbers"
   ]
  },
  {
   "cell_type": "markdown",
   "id": "cfdfd2f7",
   "metadata": {},
   "source": [
    "### Adding Elements to a List"
   ]
  },
  {
   "cell_type": "code",
   "execution_count": 26,
   "id": "d6e65bee",
   "metadata": {},
   "outputs": [
    {
     "data": {
      "text/plain": [
       "['Niel Gaiman', 'J.K. Rowling', 'Hermann Hesse', 'Kurt Vonnegut']"
      ]
     },
     "execution_count": 26,
     "metadata": {},
     "output_type": "execute_result"
    }
   ],
   "source": [
    "# adding elements to the end of the list: append() method\n",
    "my_favourite_writers.append('Kurt Vonnegut')\n",
    "my_favourite_writers"
   ]
  },
  {
   "cell_type": "markdown",
   "id": "a876c7f9",
   "metadata": {},
   "source": [
    "### Inserting Elements into a List"
   ]
  },
  {
   "cell_type": "code",
   "execution_count": 27,
   "id": "fbe3adba",
   "metadata": {},
   "outputs": [
    {
     "data": {
      "text/plain": [
       "['Niel Gaiman',\n",
       " 'J.K. Rowling',\n",
       " 'Hermann Hesse',\n",
       " 'Albert Camus',\n",
       " 'Kurt Vonnegut']"
      ]
     },
     "execution_count": 27,
     "metadata": {},
     "output_type": "execute_result"
    }
   ],
   "source": [
    "# adding a new element at any position in the list: insert() method\n",
    "my_favourite_writers.insert(3,'Albert Camus')\n",
    "my_favourite_writers"
   ]
  },
  {
   "cell_type": "markdown",
   "id": "840a341d",
   "metadata": {},
   "source": [
    "### Removing Elements from a List"
   ]
  },
  {
   "cell_type": "markdown",
   "id": "f600b96b",
   "metadata": {},
   "source": [
    "#### Removing an Item Using the del Statement"
   ]
  },
  {
   "cell_type": "code",
   "execution_count": 28,
   "id": "d08ef26c",
   "metadata": {},
   "outputs": [],
   "source": [
    "del my_favourite_writers[4]"
   ]
  },
  {
   "cell_type": "markdown",
   "id": "bc1ea768",
   "metadata": {},
   "source": [
    "**Note:** There is no longer access the value that was removed \n",
    "from the list after the del statement is used.<br>\n"
   ]
  },
  {
   "cell_type": "code",
   "execution_count": 29,
   "id": "a8325295",
   "metadata": {},
   "outputs": [
    {
     "data": {
      "text/plain": [
       "['Niel Gaiman', 'J.K. Rowling', 'Hermann Hesse', 'Albert Camus']"
      ]
     },
     "execution_count": 29,
     "metadata": {},
     "output_type": "execute_result"
    }
   ],
   "source": [
    " my_favourite_writers"
   ]
  },
  {
   "cell_type": "markdown",
   "id": "32bc2dec",
   "metadata": {},
   "source": [
    "#### Removing an Item Using the pop() Method"
   ]
  },
  {
   "cell_type": "markdown",
   "id": "56f84197",
   "metadata": {},
   "source": [
    "The pop() method removes the last item in a list, but it lets you work \n",
    "with that item after removing it."
   ]
  },
  {
   "cell_type": "code",
   "execution_count": 30,
   "id": "d6b8eeb2",
   "metadata": {},
   "outputs": [],
   "source": [
    "poped_writer= my_favourite_writers.pop()"
   ]
  },
  {
   "cell_type": "code",
   "execution_count": 32,
   "id": "9b344599",
   "metadata": {},
   "outputs": [
    {
     "data": {
      "text/plain": [
       "'Albert Camus'"
      ]
     },
     "execution_count": 32,
     "metadata": {},
     "output_type": "execute_result"
    }
   ],
   "source": [
    "poped_writer"
   ]
  },
  {
   "cell_type": "markdown",
   "id": "e9fb0613",
   "metadata": {},
   "source": [
    "**Note:** we can use pop() to remove an item from any position in a list by including \n",
    "the index of the item we want to remove in parentheses."
   ]
  },
  {
   "cell_type": "markdown",
   "id": "01466dd0",
   "metadata": {},
   "source": [
    "#### Removing an Item by Value"
   ]
  },
  {
   "cell_type": "code",
   "execution_count": 34,
   "id": "9e48714c",
   "metadata": {},
   "outputs": [],
   "source": [
    "#removing an item from a list by its value: remove() method\n",
    "my_favourite_writers.remove('Hermann Hesse')"
   ]
  },
  {
   "cell_type": "code",
   "execution_count": 35,
   "id": "de1e4c10",
   "metadata": {},
   "outputs": [
    {
     "data": {
      "text/plain": [
       "['Niel Gaiman', 'J.K. Rowling']"
      ]
     },
     "execution_count": 35,
     "metadata": {},
     "output_type": "execute_result"
    }
   ],
   "source": [
    "my_favourite_writers"
   ]
  },
  {
   "cell_type": "markdown",
   "id": "0065ef1b",
   "metadata": {},
   "source": [
    "**Note:** The remove() method deletes only the first occurrence of the value you specify. If there’s \n",
    "a possibility the value appears more than once in the list, we’ll need to use a loop \n",
    "to make sure all occurrences of the value are removed. "
   ]
  },
  {
   "cell_type": "markdown",
   "id": "607377ca",
   "metadata": {},
   "source": [
    "## Organizing a List"
   ]
  },
  {
   "cell_type": "markdown",
   "id": "3cb89401",
   "metadata": {},
   "source": [
    "### Sorting a List Permanently with the sort() Method"
   ]
  },
  {
   "cell_type": "code",
   "execution_count": 47,
   "id": "c6d5600e",
   "metadata": {},
   "outputs": [],
   "source": [
    "my_list= ['a', 'c', 'd', 'g', 'e', 'b']"
   ]
  },
  {
   "cell_type": "code",
   "execution_count": 48,
   "id": "181c3ef4",
   "metadata": {},
   "outputs": [],
   "source": [
    "my_list.sort()"
   ]
  },
  {
   "cell_type": "code",
   "execution_count": 49,
   "id": "801dfb9f",
   "metadata": {},
   "outputs": [
    {
     "data": {
      "text/plain": [
       "['a', 'b', 'c', 'd', 'e', 'g']"
      ]
     },
     "execution_count": 49,
     "metadata": {},
     "output_type": "execute_result"
    }
   ],
   "source": [
    "my_list"
   ]
  },
  {
   "cell_type": "code",
   "execution_count": 50,
   "id": "2a0d98b6",
   "metadata": {},
   "outputs": [],
   "source": [
    "#sort the list in reverse alphabetical order\n",
    "my_list.sort(reverse=True)"
   ]
  },
  {
   "cell_type": "code",
   "execution_count": 51,
   "id": "8acfb565",
   "metadata": {},
   "outputs": [
    {
     "data": {
      "text/plain": [
       "['g', 'e', 'd', 'c', 'b', 'a']"
      ]
     },
     "execution_count": 51,
     "metadata": {},
     "output_type": "execute_result"
    }
   ],
   "source": [
    "my_list"
   ]
  },
  {
   "cell_type": "markdown",
   "id": "fdcde827",
   "metadata": {},
   "source": [
    "### Sorting a List Temporarily with the sorted() Function"
   ]
  },
  {
   "cell_type": "markdown",
   "id": "5d240eed",
   "metadata": {},
   "source": [
    "To maintain the original order of a list but present it in a sorted order, the sorted() function can be used"
   ]
  },
  {
   "cell_type": "code",
   "execution_count": 53,
   "id": "6a3600cc",
   "metadata": {},
   "outputs": [],
   "source": [
    "sorted_list= sorted(my_list)"
   ]
  },
  {
   "cell_type": "code",
   "execution_count": 54,
   "id": "7d0ae43f",
   "metadata": {},
   "outputs": [
    {
     "data": {
      "text/plain": [
       "['a', 'b', 'c', 'd', 'e', 'g']"
      ]
     },
     "execution_count": 54,
     "metadata": {},
     "output_type": "execute_result"
    }
   ],
   "source": [
    "sorted_list"
   ]
  },
  {
   "cell_type": "code",
   "execution_count": 55,
   "id": "c81dad35",
   "metadata": {},
   "outputs": [
    {
     "data": {
      "text/plain": [
       "['g', 'e', 'd', 'c', 'b', 'a']"
      ]
     },
     "execution_count": 55,
     "metadata": {},
     "output_type": "execute_result"
    }
   ],
   "source": [
    "my_list"
   ]
  },
  {
   "cell_type": "code",
   "execution_count": 56,
   "id": "b4b8ffc8",
   "metadata": {},
   "outputs": [],
   "source": [
    "##sort the list in reverse alphabetical order\n",
    "reversely_sorted_list= sorted(my_list, reverse=True) "
   ]
  },
  {
   "cell_type": "code",
   "execution_count": 57,
   "id": "6e413afe",
   "metadata": {},
   "outputs": [
    {
     "data": {
      "text/plain": [
       "['g', 'e', 'd', 'c', 'b', 'a']"
      ]
     },
     "execution_count": 57,
     "metadata": {},
     "output_type": "execute_result"
    }
   ],
   "source": [
    "reversely_sorted_list"
   ]
  },
  {
   "cell_type": "markdown",
   "id": "1a822a46",
   "metadata": {},
   "source": [
    "### Printing a List in Reverse Order"
   ]
  },
  {
   "cell_type": "markdown",
   "id": "7a24c50a",
   "metadata": {},
   "source": [
    "To reverse the original order of a list, you can use the reverse() method. <br>\n",
    "**Note:** reverse() doesn’t sort the list backward ; it simply \n",
    "reverses the order of the list"
   ]
  },
  {
   "cell_type": "code",
   "execution_count": 58,
   "id": "efcd72db",
   "metadata": {},
   "outputs": [],
   "source": [
    "writers=['Niel Gaiman', 'J.K. Rowling', 'Hermann Hesse', 'Albert Camus']\n",
    "writers.reverse()"
   ]
  },
  {
   "cell_type": "code",
   "execution_count": 59,
   "id": "4bf5733d",
   "metadata": {},
   "outputs": [
    {
     "data": {
      "text/plain": [
       "['Albert Camus', 'Hermann Hesse', 'J.K. Rowling', 'Niel Gaiman']"
      ]
     },
     "execution_count": 59,
     "metadata": {},
     "output_type": "execute_result"
    }
   ],
   "source": [
    "writers"
   ]
  },
  {
   "cell_type": "markdown",
   "id": "1176c0a3",
   "metadata": {},
   "source": [
    "**Note:** The reverse() method changes the order of a list permanently, but the original order can be retrieved anytime by applying reverse() to the same \n",
    "list a second time"
   ]
  }
 ],
 "metadata": {
  "kernelspec": {
   "display_name": "Python 3 (ipykernel)",
   "language": "python",
   "name": "python3"
  },
  "language_info": {
   "codemirror_mode": {
    "name": "ipython",
    "version": 3
   },
   "file_extension": ".py",
   "mimetype": "text/x-python",
   "name": "python",
   "nbconvert_exporter": "python",
   "pygments_lexer": "ipython3",
   "version": "3.9.12"
  }
 },
 "nbformat": 4,
 "nbformat_minor": 5
}
