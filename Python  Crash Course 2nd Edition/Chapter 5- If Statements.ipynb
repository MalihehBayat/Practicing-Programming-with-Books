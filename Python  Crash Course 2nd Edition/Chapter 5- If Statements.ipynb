{
 "cells": [
  {
   "cell_type": "markdown",
   "id": "f553b5a9",
   "metadata": {},
   "source": [
    "# Chapter 5: IF Statements"
   ]
  },
  {
   "cell_type": "markdown",
   "id": "bbcc4460",
   "metadata": {},
   "source": [
    "## A Simple Example"
   ]
  },
  {
   "cell_type": "code",
   "execution_count": 2,
   "id": "ea0e0d99",
   "metadata": {},
   "outputs": [],
   "source": [
    "cars = ['audi', 'bmw', 'subaru', 'toyota']"
   ]
  },
  {
   "cell_type": "code",
   "execution_count": 5,
   "id": "9a955883",
   "metadata": {},
   "outputs": [
    {
     "name": "stdout",
     "output_type": "stream",
     "text": [
      "Audi\n",
      "BMW\n",
      "Subaru\n",
      "Toyota\n"
     ]
    }
   ],
   "source": [
    "#printing car names in proper case format\n",
    "for car in cars:\n",
    "    if car=='bmw':\n",
    "        print(car.upper())\n",
    "    else:\n",
    "        print(car.title())"
   ]
  },
  {
   "cell_type": "markdown",
   "id": "00dd05c8",
   "metadata": {},
   "source": [
    "## Conditional Tests"
   ]
  },
  {
   "cell_type": "markdown",
   "id": "dd9a69ea",
   "metadata": {},
   "source": [
    "At the heart of every if statement is an expression that can be evaluated as \n",
    "True or False and is called a conditional test. <br>\n",
    "Python uses the values True and \n",
    "False to decide whether the code in an if statement should be executed.<br>\n",
    "- If a conditional test evaluates to True, Python executes the code following the if\n",
    "statement. \n",
    "- If the test evaluates to False, Python ignores the code following \n",
    "the if statement."
   ]
  },
  {
   "cell_type": "markdown",
   "id": "f4e35991",
   "metadata": {},
   "source": [
    "### Checking for Equality"
   ]
  },
  {
   "cell_type": "markdown",
   "id": "20d62f04",
   "metadata": {},
   "source": [
    "The simplest conditional test checks whether the value of a \n",
    "variable is equal to the value of interest"
   ]
  },
  {
   "cell_type": "code",
   "execution_count": 6,
   "id": "e4a46579",
   "metadata": {},
   "outputs": [
    {
     "data": {
      "text/plain": [
       "True"
      ]
     },
     "execution_count": 6,
     "metadata": {},
     "output_type": "execute_result"
    }
   ],
   "source": [
    "car= 'BMW'\n",
    "car== 'BMW'"
   ]
  },
  {
   "cell_type": "code",
   "execution_count": 9,
   "id": "aa733c7d",
   "metadata": {},
   "outputs": [
    {
     "data": {
      "text/plain": [
       "False"
      ]
     },
     "execution_count": 9,
     "metadata": {},
     "output_type": "execute_result"
    }
   ],
   "source": [
    "car= 'Audi'\n",
    "#A double equal sign asks a question: “Is the value of car equal to 'bmw'?”\n",
    "car== 'BMW'"
   ]
  },
  {
   "cell_type": "code",
   "execution_count": 10,
   "id": "4aa4214f",
   "metadata": {},
   "outputs": [
    {
     "data": {
      "text/plain": [
       "False"
      ]
     },
     "execution_count": 10,
     "metadata": {},
     "output_type": "execute_result"
    }
   ],
   "source": [
    " car=='audi'"
   ]
  },
  {
   "cell_type": "code",
   "execution_count": 11,
   "id": "95fe583a",
   "metadata": {},
   "outputs": [
    {
     "data": {
      "text/plain": [
       "True"
      ]
     },
     "execution_count": 11,
     "metadata": {},
     "output_type": "execute_result"
    }
   ],
   "source": [
    "car.lower() == 'audi'"
   ]
  },
  {
   "cell_type": "markdown",
   "id": "fc52f43e",
   "metadata": {},
   "source": [
    "### Checking for Inequality"
   ]
  },
  {
   "cell_type": "markdown",
   "id": "8c9d1928",
   "metadata": {},
   "source": [
    "syntax: is a combination of an exclamation point and an equal sign !="
   ]
  },
  {
   "cell_type": "code",
   "execution_count": 14,
   "id": "c994669e",
   "metadata": {},
   "outputs": [
    {
     "name": "stdout",
     "output_type": "stream",
     "text": [
      "hold the anchovies\n"
     ]
    }
   ],
   "source": [
    "requested_topping= 'mushrooms'\n",
    "if requested_topping!= 'anchovies':\n",
    "    print(\"hold the anchovies\")"
   ]
  },
  {
   "cell_type": "markdown",
   "id": "a5d9c9a8",
   "metadata": {},
   "source": [
    "### Numerical Comparisons"
   ]
  },
  {
   "cell_type": "code",
   "execution_count": 16,
   "id": "4deeb17c",
   "metadata": {},
   "outputs": [
    {
     "name": "stdout",
     "output_type": "stream",
     "text": [
      "That is not the correct answer. Please try again!\n"
     ]
    }
   ],
   "source": [
    "answer= 12\n",
    "if answer==42:\n",
    "    print(\"that's the right answer\")\n",
    "else:\n",
    "    print(\"That is not the correct answer. Please try again!\")"
   ]
  },
  {
   "cell_type": "code",
   "execution_count": 19,
   "id": "8c56c286",
   "metadata": {},
   "outputs": [
    {
     "name": "stdout",
     "output_type": "stream",
     "text": [
      "False\n",
      "True\n",
      "False\n",
      "True\n"
     ]
    }
   ],
   "source": [
    "age=12\n",
    "print(age>=18)\n",
    "print(age<=18)\n",
    "print(age>18)\n",
    "print(age<18)\n"
   ]
  },
  {
   "cell_type": "markdown",
   "id": "8701dad4",
   "metadata": {},
   "source": [
    "### Checking Multiple Conditions"
   ]
  },
  {
   "cell_type": "markdown",
   "id": "cb7ffe2c",
   "metadata": {},
   "source": [
    "To check whether two or more conditions are true: the keyword **and** is used to combine the conditional tests.\n",
    "-  if each test passes, the overall expression evaluates to True. \n",
    "- If either test fails or all tests fail, the expression evaluates to False."
   ]
  },
  {
   "cell_type": "code",
   "execution_count": 24,
   "id": "685712f6",
   "metadata": {},
   "outputs": [],
   "source": [
    "age_0= 1\n",
    "age_1= 18"
   ]
  },
  {
   "cell_type": "code",
   "execution_count": 22,
   "id": "da0545c3",
   "metadata": {},
   "outputs": [
    {
     "data": {
      "text/plain": [
       "False"
      ]
     },
     "execution_count": 22,
     "metadata": {},
     "output_type": "execute_result"
    }
   ],
   "source": [
    "age_0 >=18 and age_1 >=18 "
   ]
  },
  {
   "cell_type": "code",
   "execution_count": 23,
   "id": "ed66ff18",
   "metadata": {},
   "outputs": [
    {
     "data": {
      "text/plain": [
       "False"
      ]
     },
     "execution_count": 23,
     "metadata": {},
     "output_type": "execute_result"
    }
   ],
   "source": [
    "age_0 != 1 and age_1 !=18"
   ]
  },
  {
   "cell_type": "code",
   "execution_count": 25,
   "id": "f976b9d5",
   "metadata": {},
   "outputs": [
    {
     "data": {
      "text/plain": [
       "True"
      ]
     },
     "execution_count": 25,
     "metadata": {},
     "output_type": "execute_result"
    }
   ],
   "source": [
    "age_0 == 1 and age_1 ==18"
   ]
  },
  {
   "cell_type": "markdown",
   "id": "876c02c5",
   "metadata": {},
   "source": [
    "### Using or to Check Multiple Conditions"
   ]
  },
  {
   "cell_type": "markdown",
   "id": "f4cd270c",
   "metadata": {},
   "source": [
    "The keyword **or** allows to check multiple conditions, but it \n",
    "passes when either or all of the individual tests pass. \n",
    "- An or expression fails only when both individual tests fail"
   ]
  },
  {
   "cell_type": "code",
   "execution_count": 26,
   "id": "fd4d70d3",
   "metadata": {},
   "outputs": [
    {
     "data": {
      "text/plain": [
       "True"
      ]
     },
     "execution_count": 26,
     "metadata": {},
     "output_type": "execute_result"
    }
   ],
   "source": [
    "age_0 >=18 or age_1 >=18 "
   ]
  },
  {
   "cell_type": "code",
   "execution_count": 27,
   "id": "ae87ac0a",
   "metadata": {},
   "outputs": [
    {
     "data": {
      "text/plain": [
       "False"
      ]
     },
     "execution_count": 27,
     "metadata": {},
     "output_type": "execute_result"
    }
   ],
   "source": [
    "age_0 != 1 or age_1 !=18"
   ]
  },
  {
   "cell_type": "markdown",
   "id": "feecf1c9",
   "metadata": {},
   "source": [
    "### Checking Whether a Value Is in a List"
   ]
  },
  {
   "cell_type": "markdown",
   "id": "feb61556",
   "metadata": {},
   "source": [
    "To find out whether a particular value is already in a list, the keyword **in** is used"
   ]
  },
  {
   "cell_type": "code",
   "execution_count": 28,
   "id": "b8499168",
   "metadata": {},
   "outputs": [
    {
     "data": {
      "text/plain": [
       "True"
      ]
     },
     "execution_count": 28,
     "metadata": {},
     "output_type": "execute_result"
    }
   ],
   "source": [
    "requested_toppings = ['mushrooms', 'onions', 'pineapple']\n"
   ]
  },
  {
   "cell_type": "code",
   "execution_count": 29,
   "id": "e6d5d4db",
   "metadata": {},
   "outputs": [
    {
     "data": {
      "text/plain": [
       "True"
      ]
     },
     "execution_count": 29,
     "metadata": {},
     "output_type": "execute_result"
    }
   ],
   "source": [
    "'mushrooms' in requested_toppings"
   ]
  },
  {
   "cell_type": "code",
   "execution_count": 30,
   "id": "62284db8",
   "metadata": {},
   "outputs": [
    {
     "data": {
      "text/plain": [
       "False"
      ]
     },
     "execution_count": 30,
     "metadata": {},
     "output_type": "execute_result"
    }
   ],
   "source": [
    "'pepperoni' in requested_toppings"
   ]
  },
  {
   "cell_type": "markdown",
   "id": "190f0704",
   "metadata": {},
   "source": [
    "### Checking Whether a Value Is Not in a List"
   ]
  },
  {
   "cell_type": "markdown",
   "id": "d7e8210d",
   "metadata": {},
   "source": [
    "To know if a value does not appear in a list, the keyword **not in** is used."
   ]
  },
  {
   "cell_type": "code",
   "execution_count": 31,
   "id": "34f301ca",
   "metadata": {},
   "outputs": [
    {
     "data": {
      "text/plain": [
       "True"
      ]
     },
     "execution_count": 31,
     "metadata": {},
     "output_type": "execute_result"
    }
   ],
   "source": [
    "'pepperoni' not in requested_toppings"
   ]
  },
  {
   "cell_type": "markdown",
   "id": "7c4804e0",
   "metadata": {},
   "source": [
    "### Boolean Expressions"
   ]
  },
  {
   "cell_type": "markdown",
   "id": "6a0eb9cb",
   "metadata": {},
   "source": [
    "A Boolean value is either True or False, just like the value \n",
    "of a conditional expression after it has been evaluated"
   ]
  },
  {
   "cell_type": "markdown",
   "id": "7055addb",
   "metadata": {},
   "source": [
    "## if Statements"
   ]
  },
  {
   "cell_type": "markdown",
   "id": "df553507",
   "metadata": {},
   "source": [
    "### Simple if Statements"
   ]
  },
  {
   "cell_type": "markdown",
   "id": "16113a46",
   "metadata": {},
   "source": [
    "The simplest kind of if statement has one test and one action\n",
    "- If the conditional test evaluates to True, Python executes the code following the if statement. \n",
    "-If the test evaluates to False, Python ignores the code following the if\n",
    "statement."
   ]
  },
  {
   "cell_type": "code",
   "execution_count": 34,
   "id": "aced0d96",
   "metadata": {},
   "outputs": [
    {
     "name": "stdout",
     "output_type": "stream",
     "text": [
      "You are old enough to vote\n"
     ]
    }
   ],
   "source": [
    "age= 19\n",
    "if age>=18:\n",
    "    print('You are old enough to vote')"
   ]
  },
  {
   "cell_type": "markdown",
   "id": "67ea95fe",
   "metadata": {},
   "source": [
    "### if-else Statements"
   ]
  },
  {
   "cell_type": "markdown",
   "id": "a22da386",
   "metadata": {},
   "source": [
    "An if-else block is similar to a simple if statement, but the else statement \n",
    "allows us to define an action or set of actions that are executed when the \n",
    "conditional test fails.\n"
   ]
  },
  {
   "cell_type": "code",
   "execution_count": 37,
   "id": "875d7ce2",
   "metadata": {},
   "outputs": [
    {
     "name": "stdout",
     "output_type": "stream",
     "text": [
      "You are too young to vote\n"
     ]
    }
   ],
   "source": [
    "age= 17\n",
    "if age>=18:\n",
    "    print('You are old enough to vote')\n",
    "else:\n",
    "     print('You are too young to vote')"
   ]
  },
  {
   "cell_type": "markdown",
   "id": "1a8eb997",
   "metadata": {},
   "source": [
    "### The if-elif-else Chain"
   ]
  },
  {
   "cell_type": "markdown",
   "id": "2351a601",
   "metadata": {},
   "source": [
    "When more than two possible situations need to be tested, if- elif-(else) chain is used."
   ]
  },
  {
   "cell_type": "code",
   "execution_count": 44,
   "id": "014d0a17",
   "metadata": {},
   "outputs": [
    {
     "name": "stdout",
     "output_type": "stream",
     "text": [
      "Your admission cost is $25\n"
     ]
    }
   ],
   "source": [
    "# calculating addmission price in an amusement park according to the age of the person\n",
    "age= 15\n",
    "if age<=4 :\n",
    "    price= 0\n",
    "elif age<18:\n",
    "    price= 25\n",
    "elif age < 65:\n",
    "    price= 40\n",
    "else:\n",
    "    price=20\n",
    "print(f\"Your admission cost is ${price}\")"
   ]
  },
  {
   "cell_type": "markdown",
   "id": "48922073",
   "metadata": {},
   "source": [
    "## Using if Statements with Lists"
   ]
  },
  {
   "cell_type": "code",
   "execution_count": 49,
   "id": "8a641f94",
   "metadata": {},
   "outputs": [
    {
     "name": "stdout",
     "output_type": "stream",
     "text": [
      "odd numbers: [1, 3, 5, 7, 9, 11, 13, 15, 17, 19, 21, 23, 25, 27, 29, 31, 33, 35, 37, 39, 41, 43, 45, 47, 49, 51, 53, 55, 57, 59, 61, 63, 65, 67, 69, 71, 73, 75, 77, 79, 81, 83, 85, 87, 89, 91, 93, 95, 97, 99]\n",
      "even numbers:[2, 4, 6, 8, 10, 12, 14, 16, 18, 20, 22, 24, 26, 28, 30, 32, 34, 36, 38, 40, 42, 44, 46, 48, 50, 52, 54, 56, 58, 60, 62, 64, 66, 68, 70, 72, 74, 76, 78, 80, 82, 84, 86, 88, 90, 92, 94, 96, 98, 100]\n"
     ]
    }
   ],
   "source": [
    "numbers=list(range(1,101))\n",
    "odd_numbers=[]\n",
    "even_numbers=[]\n",
    "for num in numbers:\n",
    "    if num %2 == 0:\n",
    "        even_numbers.append(num)\n",
    "    else:\n",
    "        odd_numbers.append(num)\n",
    "print(f\"odd numbers: {odd_numbers}\")\n",
    "print(f\"even numbers:{even_numbers}\")"
   ]
  },
  {
   "cell_type": "markdown",
   "id": "443b54e9",
   "metadata": {},
   "source": [
    "### Checking That a List Is Not Empty"
   ]
  },
  {
   "cell_type": "code",
   "execution_count": 51,
   "id": "7ca40ba3",
   "metadata": {},
   "outputs": [
    {
     "name": "stdout",
     "output_type": "stream",
     "text": [
      "list is empty\n"
     ]
    }
   ],
   "source": [
    "empty_list=[]\n",
    "if empty_list:\n",
    "    print('list is not empty')\n",
    "else:\n",
    "    print('list is empty')"
   ]
  },
  {
   "cell_type": "markdown",
   "id": "37a8928d",
   "metadata": {},
   "source": [
    "**Note:** When the \n",
    "name of a list is used in an if statement, Python returns True if the list contains at least one item; an empty list evaluates to False."
   ]
  },
  {
   "cell_type": "markdown",
   "id": "8ea81fb0",
   "metadata": {},
   "source": [
    "## Exercises"
   ]
  },
  {
   "cell_type": "markdown",
   "id": "77aece8f",
   "metadata": {},
   "source": [
    "**5-8. Hello Admin:** Make a list of five or more usernames, including the name \n",
    "'admin'. Imagine you are writing code that will print a greeting to each user \n",
    "after they log in to a website. Loop through the list, and print a greeting to \n",
    "each user:\n",
    "- If the username is 'admin', print a special greeting, such as Hello admin, would you like to see a status report?\n",
    "- Otherwise, print a generic greeting, such as Hello Jaden, thank you for logging in again"
   ]
  },
  {
   "cell_type": "code",
   "execution_count": 61,
   "id": "2b16935b",
   "metadata": {},
   "outputs": [],
   "source": [
    "user_names= ['admin', 'happyblacksheep','ghost' , 'gojira', 'megadeth']"
   ]
  },
  {
   "cell_type": "code",
   "execution_count": 62,
   "id": "a96b4b1a",
   "metadata": {},
   "outputs": [
    {
     "name": "stdout",
     "output_type": "stream",
     "text": [
      "Hello admin, would you like to see a status report?\n",
      "Hello happyblacksheep, thank you for logging in again\n",
      "Hello ghost, thank you for logging in again\n",
      "Hello gojira, thank you for logging in again\n",
      "Hello megadeth, thank you for logging in again\n"
     ]
    }
   ],
   "source": [
    "for user_name in user_names:\n",
    "    if user_name.lower() == 'admin':\n",
    "        print('Hello admin, would you like to see a status report?')\n",
    "    else:\n",
    "        print(f\"Hello {user_name}, thank you for logging in again\")"
   ]
  },
  {
   "cell_type": "markdown",
   "id": "75936520",
   "metadata": {},
   "source": [
    "**5-9. No Users:** Add an if test to hello_admin to make sure the list of users is \n",
    "not empty.\n",
    "- If the list is empty, print the message We need to find some users!\n",
    "- Remove all of the usernames from your list, and make sure the correct \n",
    "message is printed"
   ]
  },
  {
   "cell_type": "code",
   "execution_count": 64,
   "id": "766fdcb3",
   "metadata": {},
   "outputs": [
    {
     "name": "stdout",
     "output_type": "stream",
     "text": [
      "We need to find some users!\n"
     ]
    }
   ],
   "source": [
    "user_names=[]\n",
    "if not user_names:\n",
    "    print('We need to find some users!')\n",
    "else: \n",
    "    for user_name in user_names:\n",
    "        if user_name.lower() == 'admin':\n",
    "            print('Hello admin, would you like to see a status report?')\n",
    "        else:\n",
    "            print(f\"Hello {user_name}, thank you for logging in again\")"
   ]
  },
  {
   "cell_type": "markdown",
   "id": "a6c53e0a",
   "metadata": {},
   "source": [
    "**5-10. Checking Usernames:** Do the following to create a program that simulates \n",
    "how websites ensure that everyone has a unique username.\n",
    "- Make a list of five or more usernames called current_users.\n",
    "- Make another list of five usernames called new_users. Make sure one or \n",
    "two of the new usernames are also in the current_users list.\n",
    "- Loop through the new_users list to see if each new username has already \n",
    "been used. If it has, print a message that the person will need to enter a \n",
    "new username. If a username has not been used, print a message saying \n",
    "that the username is available.\n",
    "- Make sure your comparison is case insensitive. If 'John' has been used, \n",
    "'JOHN' should not be accepted. (To do this, you’ll need to make a copy of \n",
    "current_users containing the lowercase versions of all existing users."
   ]
  },
  {
   "cell_type": "code",
   "execution_count": 68,
   "id": "a804c2d9",
   "metadata": {},
   "outputs": [],
   "source": [
    "current_users = ['tool', 'happyblacksheep','Ghost' , 'gojira', 'megadeth']\n",
    "current_users_lower = [user.lower() for user in current_users]"
   ]
  },
  {
   "cell_type": "code",
   "execution_count": 69,
   "id": "605e2b4e",
   "metadata": {},
   "outputs": [],
   "source": [
    "new_users= ['pantera', 'opeth', 'nightwish', 'ghost' , 'Alice_in_wonderland']"
   ]
  },
  {
   "cell_type": "code",
   "execution_count": 74,
   "id": "0e8638ae",
   "metadata": {},
   "outputs": [
    {
     "name": "stdout",
     "output_type": "stream",
     "text": [
      "pantera is available\n",
      "opeth is available\n",
      "nightwish is available\n",
      "ghost is already taken. Enter a new username\n",
      "Alice_in_wonderland is available\n"
     ]
    }
   ],
   "source": [
    "for user_name in new_users:\n",
    "    if user_name.lower() in current_users_lower:\n",
    "        print(f'{user_name} is already taken. Enter a new username')\n",
    "    else:\n",
    "        print (f'{user_name} is available')"
   ]
  },
  {
   "cell_type": "markdown",
   "id": "249600c5",
   "metadata": {},
   "source": [
    "**5-11. Ordinal Numbers:** Ordinal numbers indicate their position in a list, such \n",
    "as 1st or 2nd. Most ordinal numbers end in th, except 1, 2, and 3.\n",
    "- Store the numbers 1 through 9 in a list.\n",
    "- Loop through the list.\n",
    "- Use an if-elif-else chain inside the loop to print the proper ordinal ending for each number. Your output should read \"1st 2nd 3rd 4th 5th 6th \n",
    "7th 8th 9th\", and each result should be on a separate line"
   ]
  },
  {
   "cell_type": "code",
   "execution_count": 75,
   "id": "8df1819f",
   "metadata": {},
   "outputs": [],
   "source": [
    "numbers = list(range(1,10))"
   ]
  },
  {
   "cell_type": "code",
   "execution_count": 80,
   "id": "7e08c240",
   "metadata": {},
   "outputs": [
    {
     "name": "stdout",
     "output_type": "stream",
     "text": [
      "1st\n",
      "2nd\n",
      "3rd\n",
      "4th\n",
      "5th\n",
      "6th\n",
      "7th\n",
      "8th\n",
      "9th\n"
     ]
    }
   ],
   "source": [
    "for num in numbers:\n",
    "    if num == 1:\n",
    "        print(f\"{num}st\")\n",
    "    elif num == 2:\n",
    "        print(f\"{num}nd\")\n",
    "    elif num == 3:\n",
    "        print(f\"{num}rd\")\n",
    "    else:\n",
    "        print(f\"{num}th\")\n",
    "   "
   ]
  }
 ],
 "metadata": {
  "kernelspec": {
   "display_name": "Python 3 (ipykernel)",
   "language": "python",
   "name": "python3"
  },
  "language_info": {
   "codemirror_mode": {
    "name": "ipython",
    "version": 3
   },
   "file_extension": ".py",
   "mimetype": "text/x-python",
   "name": "python",
   "nbconvert_exporter": "python",
   "pygments_lexer": "ipython3",
   "version": "3.9.12"
  }
 },
 "nbformat": 4,
 "nbformat_minor": 5
}
