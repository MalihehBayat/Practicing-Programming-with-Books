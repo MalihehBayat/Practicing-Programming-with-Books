{
 "cells": [
  {
   "cell_type": "markdown",
   "id": "f0823863",
   "metadata": {},
   "source": [
    "# Chapter 11: Testing your Code"
   ]
  },
  {
   "cell_type": "markdown",
   "id": "4f79bd11",
   "metadata": {},
   "source": [
    "## Testing a Function"
   ]
  },
  {
   "cell_type": "code",
   "execution_count": 26,
   "id": "89b38ff6",
   "metadata": {},
   "outputs": [],
   "source": [
    "def get_formatted_name(first, last):\n",
    "    \"\"\"Generate a neatly formatted full name.\"\"\"\n",
    "    full_name = f\"{first} {last}\"\n",
    "    return full_name.title()"
   ]
  },
  {
   "cell_type": "markdown",
   "id": "eec672f3",
   "metadata": {},
   "source": [
    "### A Passing Test"
   ]
  },
  {
   "cell_type": "code",
   "execution_count": 27,
   "id": "e4058eaf",
   "metadata": {},
   "outputs": [
    {
     "name": "stderr",
     "output_type": "stream",
     "text": [
      ".\n",
      "----------------------------------------------------------------------\n",
      "Ran 1 test in 0.001s\n",
      "\n",
      "OK\n"
     ]
    }
   ],
   "source": [
    "import unittest\n",
    "class NamesTestCase(unittest.TestCase):\n",
    "    \"\"\"Tests for 'name_function.py'.\"\"\"\n",
    "    def test_first_last_name(self):\n",
    "        \"\"\"Do names like 'Janis Joplin' work?\"\"\"\n",
    "        formatted_name = get_formatted_name('janis', 'joplin')\n",
    "        self.assertEqual(formatted_name, 'Janis Joplin')\n",
    "if __name__ == '__main__':\n",
    "    unittest.main(argv=['first-arg-is-ignored'], exit=False)"
   ]
  },
  {
   "cell_type": "markdown",
   "id": "99902544",
   "metadata": {},
   "source": [
    "### A Failing Test"
   ]
  },
  {
   "cell_type": "code",
   "execution_count": 28,
   "id": "979610e9",
   "metadata": {},
   "outputs": [],
   "source": [
    "def get_formatted_name(first, middle, last):\n",
    "    \"\"\"Generate a neatly formatted full name.\"\"\"\n",
    "    full_name = f\"{first} {middle} {last}\"\n",
    "    return full_name.title()"
   ]
  },
  {
   "cell_type": "code",
   "execution_count": 29,
   "id": "ebe496ca",
   "metadata": {},
   "outputs": [
    {
     "name": "stderr",
     "output_type": "stream",
     "text": [
      "E\n",
      "======================================================================\n",
      "ERROR: test_first_last_name (__main__.NamesTestCase)\n",
      "Do names like 'Janis Joplin' work?\n",
      "----------------------------------------------------------------------\n",
      "Traceback (most recent call last):\n",
      "  File \"C:\\Users\\Mali\\AppData\\Local\\Temp\\ipykernel_7640\\12602597.py\", line 6, in test_first_last_name\n",
      "    formatted_name = get_formatted_name('janis', 'joplin')\n",
      "TypeError: get_formatted_name() missing 1 required positional argument: 'last'\n",
      "\n",
      "----------------------------------------------------------------------\n",
      "Ran 1 test in 0.001s\n",
      "\n",
      "FAILED (errors=1)\n"
     ]
    }
   ],
   "source": [
    "import unittest\n",
    "class NamesTestCase(unittest.TestCase):\n",
    "    \"\"\"Tests for 'name_function.py'.\"\"\"\n",
    "    def test_first_last_name(self):\n",
    "        \"\"\"Do names like 'Janis Joplin' work?\"\"\"\n",
    "        formatted_name = get_formatted_name('janis', 'joplin')\n",
    "        self.assertEqual(formatted_name, 'Janis Joplin')\n",
    "if __name__ == '__main__':\n",
    "    unittest.main(argv=['first-arg-is-ignored'], exit=False)"
   ]
  },
  {
   "cell_type": "code",
   "execution_count": 32,
   "id": "7eae6d88",
   "metadata": {},
   "outputs": [],
   "source": [
    "def get_formatted_name(first, last , middle=''):\n",
    "    \"\"\"Generate a neatly formatted full name.\"\"\"\n",
    "    if middle:\n",
    "        full_name = f\"{first} {middle} {last}\"\n",
    "    else:\n",
    "        full_name = f\"{first} {last}\"\n",
    "    return full_name.title()"
   ]
  },
  {
   "cell_type": "code",
   "execution_count": 34,
   "id": "4c7459a1",
   "metadata": {},
   "outputs": [
    {
     "name": "stderr",
     "output_type": "stream",
     "text": [
      "..\n",
      "----------------------------------------------------------------------\n",
      "Ran 2 tests in 0.003s\n",
      "\n",
      "OK\n"
     ]
    }
   ],
   "source": [
    "import unittest\n",
    "class NamesTestCase(unittest.TestCase):\n",
    "    \"\"\"Tests for 'name_function.py'.\"\"\"\n",
    "    \n",
    "    def test_first_last_name(self):\n",
    "        \"\"\"Do names like 'Janis Joplin' work?\"\"\"\n",
    "        formatted_name = get_formatted_name('janis', 'joplin')\n",
    "        self.assertEqual(formatted_name, 'Janis Joplin')\n",
    "        \n",
    "    def test_first_last_middle_name(self):\n",
    "        \"\"\"Do names like 'Wolfgang Amadeus Mozart' work?\"\"\"\n",
    "        formatted_name = get_formatted_name('wolfgang', 'mozart', 'amadeus')\n",
    "        self.assertEqual(formatted_name, 'Wolfgang Amadeus Mozart')\n",
    "if __name__ == '__main__':\n",
    "    unittest.main(argv=['first-arg-is-ignored'], exit=False)"
   ]
  },
  {
   "cell_type": "markdown",
   "id": "d36df331",
   "metadata": {},
   "source": [
    "## Exercises"
   ]
  },
  {
   "cell_type": "markdown",
   "id": "2fd067c6",
   "metadata": {},
   "source": [
    "**11-1. City, Country:** Write a function that accepts two parameters: a city name \n",
    "and a country name. The function should return a single string of the form \n",
    "City, Country, such as Santiago, Chile. Store the function in a module called \n",
    "city_functions.py.\n",
    "Create a file called test_cities.py that tests the function you just wrote \n",
    "(remember that you need to import unittest and the function you want to test). \n",
    "Write a method called test_city_country() to verify that calling your function \n",
    "with values such as 'santiago' and 'chile' results in the correct string. Run \n",
    "test_cities.py, and make sure test_city_country() passes"
   ]
  },
  {
   "cell_type": "code",
   "execution_count": 39,
   "id": "064103cc",
   "metadata": {},
   "outputs": [],
   "source": [
    "def city(city,country):\n",
    "    city_name = f\"{city}, {country}\"\n",
    "    return city_name.title()"
   ]
  },
  {
   "cell_type": "code",
   "execution_count": 40,
   "id": "f091ff0d",
   "metadata": {},
   "outputs": [
    {
     "name": "stderr",
     "output_type": "stream",
     "text": [
      "...\n",
      "----------------------------------------------------------------------\n",
      "Ran 3 tests in 0.004s\n",
      "\n",
      "OK\n"
     ]
    }
   ],
   "source": [
    "import unittest\n",
    "class CitiesTestCase(unittest.TestCase):\n",
    "    \"\"\"Tests for 'cities_function.py'.\"\"\"\n",
    "    \n",
    "    def test_city_country_name(self):\n",
    "        \"\"\"Do names like 'Santiago, Chile' work?\"\"\"\n",
    "        formatted_name = city('santiago', 'chile')\n",
    "        self.assertEqual(formatted_name, 'Santiago, Chile') \n",
    "if __name__ == '__main__':\n",
    "    unittest.main(argv=['first-arg-is-ignored'], exit=False)"
   ]
  },
  {
   "cell_type": "markdown",
   "id": "5efb255b",
   "metadata": {},
   "source": [
    "**11-2. Population:** Modify your function so it requires a third parameter, \n",
    "population. It should now return a single string of the form City, Country – \n",
    "population xxx, such as Santiago, Chile – population 5000000. Run test\n",
    "_cities.py again. Make sure test_city_country() fails this time.\n",
    "Modify the function so the population parameter is optional. Run test\n",
    "_cities.py again, and make sure test_city_country() passes again.\n",
    "Write a second test called test_city_country_population() that veri\u0002fies you can call your function with the values 'santiago', 'chile', and \n",
    "'population=5000000'. Run test_cities.py again, and make sure this new test \n",
    "passes"
   ]
  },
  {
   "cell_type": "code",
   "execution_count": 53,
   "id": "bcef41d1",
   "metadata": {},
   "outputs": [],
   "source": [
    "def city(city,country, population=None):\n",
    "    if population:\n",
    "        city_name = f\"{city.title()}, {country.title()}-population {population}\"\n",
    "    else:\n",
    "        city_name = f\"{city.title()}, {country.title()}\"\n",
    "    return city_name"
   ]
  },
  {
   "cell_type": "code",
   "execution_count": 54,
   "id": "f215b8de",
   "metadata": {},
   "outputs": [
    {
     "name": "stderr",
     "output_type": "stream",
     "text": [
      "....\n",
      "----------------------------------------------------------------------\n",
      "Ran 4 tests in 0.004s\n",
      "\n",
      "OK\n"
     ]
    }
   ],
   "source": [
    "import unittest\n",
    "class CitiesTestCase(unittest.TestCase):\n",
    "    \"\"\"Tests for 'cities_function.py'.\"\"\"\n",
    "    \n",
    "    def test_city_country_name(self):\n",
    "        \"\"\"Do names like 'Santiago, Chile' work?\"\"\"\n",
    "        formatted_name = city('santiago', 'chile')\n",
    "        self.assertEqual(formatted_name, 'Santiago, Chile') \n",
    "        \n",
    "    def test_city_country_population(self):\n",
    "        formatted_name = city('santiago' , 'chile' , 5000000 )\n",
    "        self.assertEqual(formatted_name, 'Santiago, Chile-population 5000000') \n",
    "        \n",
    "if __name__ == '__main__':\n",
    "    unittest.main(argv=['first-arg-is-ignored'], exit=False)"
   ]
  },
  {
   "cell_type": "markdown",
   "id": "dc8aab37",
   "metadata": {},
   "source": [
    "## Testing a Class"
   ]
  },
  {
   "cell_type": "code",
   "execution_count": 58,
   "id": "d5b67146",
   "metadata": {},
   "outputs": [],
   "source": [
    "# a class example\n",
    "\n",
    "class  AnonymousSurvey:\n",
    "    \"\"\"Collect anonymous answers to a survey question.\"\"\"\n",
    "     \n",
    "    def __init__(self, question):\n",
    "        \"\"\"Store a question, and prepare to store responses.\"\"\"\n",
    "        self.question = question\n",
    "        self.responses = []\n",
    "        \n",
    "    def show_question(self):\n",
    "        \"\"\"Show the survey question.\"\"\"\n",
    "        print(self.question)\n",
    "        \n",
    "    def store_response(self, new_response):\n",
    "        \"\"\"Store a single response to the survey.\"\"\"\n",
    "        self.responses.append(new_response)\n",
    "        \n",
    "    def show_results(self):\n",
    "        \"\"\"Show all the responses that have been given.\"\"\"\n",
    "        print(\"Survey results:\")\n",
    "        for response in self.responses:\n",
    "            print(f\"- {response}\")"
   ]
  },
  {
   "cell_type": "code",
   "execution_count": 61,
   "id": "8dd2a61f",
   "metadata": {},
   "outputs": [
    {
     "name": "stdout",
     "output_type": "stream",
     "text": [
      "what language did you first learn to speak?\n",
      "Enter 'q' at any time to quit.\n",
      "\n",
      "Language: persian\n",
      "Language: english\n",
      "Language: q\n",
      "\n",
      "Thank you to everyone who participated in the survey!\n",
      "Survey results:\n",
      "- persian\n",
      "- english\n"
     ]
    }
   ],
   "source": [
    "question= 'what language did you first learn to speak?'\n",
    "my_survey= AnonymousSurvey(question)\n",
    "my_survey.show_question()\n",
    "print(\"Enter 'q' at any time to quit.\\n\")\n",
    "while True:\n",
    "    response = input(\"Language: \")\n",
    "    if response == 'q':\n",
    "        break\n",
    "    my_survey.store_response(response)\n",
    "print(\"\\nThank you to everyone who participated in the survey!\")\n",
    "my_survey.show_results()"
   ]
  },
  {
   "cell_type": "code",
   "execution_count": 65,
   "id": "2610928d",
   "metadata": {},
   "outputs": [
    {
     "name": "stderr",
     "output_type": "stream",
     "text": [
      "......\n",
      "----------------------------------------------------------------------\n",
      "Ran 6 tests in 0.006s\n",
      "\n",
      "OK\n"
     ]
    }
   ],
   "source": [
    "#Testing the AnonymousSurvey Class\n",
    "class TestAnonymousSurvey(unittest.TestCase):\n",
    "    \"\"\"Tests for the class AnonymousSurvey\"\"\"\n",
    "    \n",
    "    def test_store_single_response(self):\n",
    "        \"\"\"Test that a single response is stored properly.\"\"\"\n",
    "        question = \"What language did you first learn to speak?\"\n",
    "        my_survey = AnonymousSurvey(question)\n",
    "        my_survey.store_response('English')\n",
    "        self.assertIn('English', my_survey.responses)\n",
    "        \n",
    "    def test_store_three_responses(self):\n",
    "        \"\"\"Test that three individual responses are stored properly.\"\"\"\n",
    "        responses = ['English', 'Persian', 'German']\n",
    "        my_survey =  AnonymousSurvey(question)\n",
    "        for response in responses:\n",
    "            my_survey.store_response(response)\n",
    "        \n",
    "        for response in responses:\n",
    "            self.assertIn(response, my_survey.responses)\n",
    "if __name__ == '__main__':\n",
    "    unittest.main(argv=['first-arg-is-ignored'], exit=False)"
   ]
  },
  {
   "cell_type": "markdown",
   "id": "fbc1cce9",
   "metadata": {},
   "source": [
    "### The setUp() Method"
   ]
  },
  {
   "cell_type": "markdown",
   "id": "1e4715ea",
   "metadata": {},
   "source": [
    "To avoid creating a new instance of a class in every testcases, The setUp() method can be used. "
   ]
  },
  {
   "cell_type": "code",
   "execution_count": 68,
   "id": "07d1e7fa",
   "metadata": {},
   "outputs": [
    {
     "name": "stderr",
     "output_type": "stream",
     "text": [
      "......\n",
      "----------------------------------------------------------------------\n",
      "Ran 6 tests in 0.005s\n",
      "\n",
      "OK\n"
     ]
    }
   ],
   "source": [
    "import unittest\n",
    "class TestAnonymousSurvey(unittest.TestCase):\n",
    "    \"\"\"Tests for the class AnonymousSurvey.\"\"\"\n",
    "    \n",
    "    def setUp(self):\n",
    "        \"\"\"\n",
    "        Create a survey and a set of responses for use in all test methods.\n",
    "        \"\"\"\n",
    "        question = \"What language did you first learn to speak?\"\n",
    "        self.my_survey = AnonymousSurvey(question)\n",
    "        self.responses = ['English' , 'Persian' , 'German']\n",
    "        \n",
    "    def test_store_single_response(self):\n",
    "        \"\"\"Test that a single response is stored properly.\"\"\"\n",
    "        self.my_survey.store_response(self.responses[0])\n",
    "        self.assertIn(self.responses[0], self.my_survey.responses )\n",
    "    \n",
    "    def test_store_three_responses(self):\n",
    "        \"\"\"Test that three individual responses are stored properly\"\"\"\n",
    "        for response in self.responses:\n",
    "            self.my_survey.store_response(response)\n",
    "        for response in self.responses:\n",
    "            self.assertIn(response, self.my_survey.responses)\n",
    "    \n",
    "if __name__ == '__main__':\n",
    "    unittest.main(argv=['first-arg-is-ignored'], exit=False)"
   ]
  },
  {
   "cell_type": "markdown",
   "id": "cb511708",
   "metadata": {},
   "source": [
    "## Exercise"
   ]
  },
  {
   "cell_type": "markdown",
   "id": "25ce292f",
   "metadata": {},
   "source": [
    "**11-3. Employee:** Write a class called Employee. The __init__() method should \n",
    "take in a first name, a last name, and an annual salary, and store each of these \n",
    "as attributes. Write a method called give_raise() that adds $5,000 to the \n",
    "annual salary by default but also accepts a different raise amount.\n",
    "Write a test case for Employee. Write two test methods, test_give_default\n",
    "_raise() and test_give_custom_raise(). Use the setUp() method so you don’t \n",
    "have to create a new employee instance in each test method. Run your test \n",
    "case, and make sure both tests pass"
   ]
  },
  {
   "cell_type": "code",
   "execution_count": 75,
   "id": "38cf87f7",
   "metadata": {},
   "outputs": [],
   "source": [
    "class Employee:\n",
    "    def __init__(self, first, last, salary):\n",
    "        self.first = first\n",
    "        self.last = last\n",
    "        self.salary = salary\n",
    "    \n",
    "    def give_raise(self,salary_raise=5000):\n",
    "        self.salary+=salary_raise"
   ]
  },
  {
   "cell_type": "code",
   "execution_count": 77,
   "id": "52233fec",
   "metadata": {},
   "outputs": [],
   "source": [
    "emp1= Employee('amir', 'mok', 1000)\n"
   ]
  },
  {
   "cell_type": "code",
   "execution_count": 78,
   "id": "c28b5b21",
   "metadata": {},
   "outputs": [
    {
     "data": {
      "text/plain": [
       "1000"
      ]
     },
     "execution_count": 78,
     "metadata": {},
     "output_type": "execute_result"
    }
   ],
   "source": [
    "emp1.salary"
   ]
  },
  {
   "cell_type": "code",
   "execution_count": 79,
   "id": "650b348b",
   "metadata": {},
   "outputs": [],
   "source": [
    "emp1.give_raise()"
   ]
  },
  {
   "cell_type": "code",
   "execution_count": 80,
   "id": "ffb6b548",
   "metadata": {},
   "outputs": [
    {
     "data": {
      "text/plain": [
       "6000"
      ]
     },
     "execution_count": 80,
     "metadata": {},
     "output_type": "execute_result"
    }
   ],
   "source": [
    "emp1.salary"
   ]
  },
  {
   "cell_type": "code",
   "execution_count": 81,
   "id": "4e231ea9",
   "metadata": {},
   "outputs": [],
   "source": [
    "emp1.give_raise(1000)"
   ]
  },
  {
   "cell_type": "code",
   "execution_count": 82,
   "id": "767e4eba",
   "metadata": {},
   "outputs": [
    {
     "data": {
      "text/plain": [
       "7000"
      ]
     },
     "execution_count": 82,
     "metadata": {},
     "output_type": "execute_result"
    }
   ],
   "source": [
    "emp1.salary"
   ]
  },
  {
   "cell_type": "code",
   "execution_count": 91,
   "id": "105b17cd",
   "metadata": {},
   "outputs": [
    {
     "name": "stderr",
     "output_type": "stream",
     "text": [
      "........\n",
      "----------------------------------------------------------------------\n",
      "Ran 8 tests in 0.008s\n",
      "\n",
      "OK\n"
     ]
    }
   ],
   "source": [
    "import unittest\n",
    "\n",
    "class TestEmployee(unittest.TestCase):\n",
    "    \"\"\"Tests for the class Employee\"\"\"\n",
    "    def setUp(self):\n",
    "        self.employee1 = Employee('Till', 'Lindemann' , 100000)\n",
    "        \n",
    "    def test_default_salary_raise(self):\n",
    "        \"\"\"Test that a default raise works correctly.\"\"\"\n",
    "        self.employee1.give_raise()\n",
    "        self.assertEqual (self.employee1.salary, 105000)\n",
    "        \n",
    "    def test_custom_raise(self):\n",
    "        \"\"\"Test that a custom raise works correctly.\"\"\" \n",
    "        self.employee1.give_raise(1000)\n",
    "        self.assertEqual (self.employee1.salary, 101000)\n",
    "\n",
    "if __name__ == '__main__':\n",
    "    unittest.main(argv=['first-arg-is-ignored'], exit=False)"
   ]
  }
 ],
 "metadata": {
  "kernelspec": {
   "display_name": "Python 3 (ipykernel)",
   "language": "python",
   "name": "python3"
  },
  "language_info": {
   "codemirror_mode": {
    "name": "ipython",
    "version": 3
   },
   "file_extension": ".py",
   "mimetype": "text/x-python",
   "name": "python",
   "nbconvert_exporter": "python",
   "pygments_lexer": "ipython3",
   "version": "3.9.12"
  }
 },
 "nbformat": 4,
 "nbformat_minor": 5
}
