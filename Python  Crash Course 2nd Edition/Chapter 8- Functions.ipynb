{
 "cells": [
  {
   "cell_type": "markdown",
   "id": "4ee6720c",
   "metadata": {},
   "source": [
    "# Chapter 8: Functions"
   ]
  },
  {
   "cell_type": "markdown",
   "id": "8da983f8",
   "metadata": {},
   "source": [
    "## Defining a Function"
   ]
  },
  {
   "cell_type": "markdown",
   "id": "2e0e5963",
   "metadata": {},
   "source": [
    "Functions are named blocks of code \n",
    "that are designed to do one specific job"
   ]
  },
  {
   "cell_type": "code",
   "execution_count": 2,
   "id": "a69f86b3",
   "metadata": {},
   "outputs": [],
   "source": [
    "def greet_user():\n",
    "    ''' Display a greeting message'''\n",
    "    print (\"Hello\")"
   ]
  },
  {
   "cell_type": "markdown",
   "id": "7a585399",
   "metadata": {},
   "source": [
    "The text in ''' ''' is a comment called a **docstring**, which describes \n",
    "what the function does. "
   ]
  },
  {
   "cell_type": "code",
   "execution_count": 11,
   "id": "a4ed98b1",
   "metadata": {},
   "outputs": [
    {
     "name": "stdout",
     "output_type": "stream",
     "text": [
      "Help on function greet_user in module __main__:\n",
      "\n",
      "greet_user()\n",
      "    Display a greeting message\n",
      "\n",
      "--------\n"
     ]
    },
    {
     "data": {
      "text/plain": [
       "' Display a greeting message'"
      ]
     },
     "execution_count": 11,
     "metadata": {},
     "output_type": "execute_result"
    }
   ],
   "source": [
    "# see docstring of a function using help and .__doc__\n",
    "help(greet_user)\n",
    "print(\"--------\")\n",
    "greet_user.__doc__"
   ]
  },
  {
   "cell_type": "markdown",
   "id": "9aaf7de2",
   "metadata": {},
   "source": [
    "## Passing Information to a Function"
   ]
  },
  {
   "cell_type": "code",
   "execution_count": 15,
   "id": "f24cb916",
   "metadata": {},
   "outputs": [],
   "source": [
    "def greet_user_by_name(name):\n",
    "    '''Display a greeting message by users' name '''\n",
    "    print(f\"Hello {name.title()}\")"
   ]
  },
  {
   "cell_type": "code",
   "execution_count": 17,
   "id": "30c7046a",
   "metadata": {},
   "outputs": [
    {
     "name": "stdout",
     "output_type": "stream",
     "text": [
      "Hello Fea\n"
     ]
    }
   ],
   "source": [
    "greet_user_by_name('fea')"
   ]
  },
  {
   "cell_type": "markdown",
   "id": "eace54ff",
   "metadata": {},
   "source": [
    "### Arguments and Parameters"
   ]
  },
  {
   "cell_type": "markdown",
   "id": "48be5fd3",
   "metadata": {},
   "source": [
    "**Parameter:** A piece of information the function needs to do its job in the defenition of a function.<br>\n",
    "**Argument:** An argument is a piece of information that’s passed from a function call to a function."
   ]
  },
  {
   "cell_type": "code",
   "execution_count": 18,
   "id": "5ba1d600",
   "metadata": {},
   "outputs": [],
   "source": [
    "## Exercises"
   ]
  },
  {
   "cell_type": "markdown",
   "id": "e734e7e8",
   "metadata": {},
   "source": [
    "**8-1. Message:** Write a function called display_message() that prints one sentence telling everyone what you are learning about in this chapter. Call the \n",
    "function, and make sure the message displays correctly."
   ]
  },
  {
   "cell_type": "code",
   "execution_count": 19,
   "id": "8aadd480",
   "metadata": {},
   "outputs": [],
   "source": [
    "def display_message():\n",
    "    '''Display a message'''\n",
    "    print('You are learning about functions in python')"
   ]
  },
  {
   "cell_type": "code",
   "execution_count": 20,
   "id": "e95e4583",
   "metadata": {},
   "outputs": [
    {
     "name": "stdout",
     "output_type": "stream",
     "text": [
      "You are learning about functions in python\n"
     ]
    }
   ],
   "source": [
    "display_message()"
   ]
  },
  {
   "cell_type": "markdown",
   "id": "8e845545",
   "metadata": {},
   "source": [
    "**8-2. Favorite Book:** Write a function called favorite_book() that accepts one \n",
    "parameter, title. The function should print a message, such as One of my \n",
    "favorite books is Alice in Wonderland. Call the function, making sure to \n",
    "include a book title as an argument in the function call"
   ]
  },
  {
   "cell_type": "code",
   "execution_count": 21,
   "id": "8bb3de47",
   "metadata": {},
   "outputs": [],
   "source": [
    "def favorite_book(book_name):\n",
    "    '''Display a message about books'''\n",
    "    print(f\"{book_name.title()} is one of my favorite books.\")"
   ]
  },
  {
   "cell_type": "code",
   "execution_count": 22,
   "id": "c5b40d9d",
   "metadata": {},
   "outputs": [
    {
     "name": "stdout",
     "output_type": "stream",
     "text": [
      "Alice In Wonderland is one of my favorite books.\n"
     ]
    }
   ],
   "source": [
    "favorite_book('Alice in Wonderland')"
   ]
  },
  {
   "cell_type": "markdown",
   "id": "d31c1330",
   "metadata": {},
   "source": [
    "### Passing Arguments"
   ]
  },
  {
   "cell_type": "markdown",
   "id": "177f07fa",
   "metadata": {},
   "source": [
    "#### Positional Arguments"
   ]
  },
  {
   "cell_type": "markdown",
   "id": "7b25aaa8",
   "metadata": {},
   "source": [
    "Needs to be in\n",
    "the same order the parameters were written. <br>\n",
    "**Order Matters in Positional Arguments.**"
   ]
  },
  {
   "cell_type": "code",
   "execution_count": 23,
   "id": "15ff4cec",
   "metadata": {},
   "outputs": [],
   "source": [
    "def describe_pet(animal_type, pet_name):\n",
    "    \"\"\"Display information about a pet.\"\"\"\n",
    "    print(f\"\\nI have a {animal_type}.\")\n",
    "    print(f\"My {animal_type}'s name is {pet_name.title()}.\")\n"
   ]
  },
  {
   "cell_type": "code",
   "execution_count": 27,
   "id": "799dac48",
   "metadata": {},
   "outputs": [
    {
     "name": "stdout",
     "output_type": "stream",
     "text": [
      "\n",
      "I have a cat.\n",
      "My cat's name is Lupin.\n"
     ]
    }
   ],
   "source": [
    "describe_pet('cat','Lupin')"
   ]
  },
  {
   "cell_type": "markdown",
   "id": "99bc1256",
   "metadata": {},
   "source": [
    "#### Keyword Arguments"
   ]
  },
  {
   "cell_type": "markdown",
   "id": "b223ac27",
   "metadata": {},
   "source": [
    "A keyword argument is a name-value pair that you pass to a function. Keyword arguments free us from having \n",
    "to worry about correctly ordering your arguments in the function call."
   ]
  },
  {
   "cell_type": "code",
   "execution_count": 30,
   "id": "239cc373",
   "metadata": {},
   "outputs": [],
   "source": [
    "def describe_pet(animal_type, pet_name):\n",
    "    \"\"\"Display information about a pet.\"\"\"\n",
    "    print(f\"\\nI have a {animal_type}.\")\n",
    "    print(f\"My {animal_type}'s name is {pet_name.title()}.\")"
   ]
  },
  {
   "cell_type": "code",
   "execution_count": 31,
   "id": "31efa156",
   "metadata": {},
   "outputs": [
    {
     "name": "stdout",
     "output_type": "stream",
     "text": [
      "\n",
      "I have a cat.\n",
      "My cat's name is Lupin.\n"
     ]
    }
   ],
   "source": [
    "describe_pet(pet_name='Lupin' , animal_type='cat')"
   ]
  },
  {
   "cell_type": "markdown",
   "id": "b9d4d941",
   "metadata": {},
   "source": [
    "#### Default Values"
   ]
  },
  {
   "cell_type": "markdown",
   "id": "fd5e3e87",
   "metadata": {},
   "source": [
    "**Note:** When using default values, any parameter with a default value needs to be listed \n",
    "after all the parameters that don’t have default values. This allows Python to continue interpreting positional arguments correctly.<br>\n",
    "**Note:** Default value can make an argument optional"
   ]
  },
  {
   "cell_type": "code",
   "execution_count": 35,
   "id": "25336f43",
   "metadata": {},
   "outputs": [],
   "source": [
    "# describe_pet function with a default value for animal type\n",
    "def describe_pet(pet_name , animal_type='dog'):\n",
    "    \"\"\"Display information about a pet.\"\"\"\n",
    "    print(f\"\\nI have a {animal_type}.\")\n",
    "    print(f\"My {animal_type}'s name is {pet_name.title()}.\")"
   ]
  },
  {
   "cell_type": "code",
   "execution_count": 34,
   "id": "55a81e06",
   "metadata": {},
   "outputs": [
    {
     "name": "stdout",
     "output_type": "stream",
     "text": [
      "\n",
      "I have a dog.\n",
      "My dog's name is Lupin.\n"
     ]
    }
   ],
   "source": [
    "describe_pet('Lupin')"
   ]
  },
  {
   "cell_type": "markdown",
   "id": "3db55286",
   "metadata": {},
   "source": [
    "### Equivalent Function Calls"
   ]
  },
  {
   "cell_type": "code",
   "execution_count": 38,
   "id": "1de88abb",
   "metadata": {},
   "outputs": [
    {
     "name": "stdout",
     "output_type": "stream",
     "text": [
      "\n",
      "I have a dog.\n",
      "My dog's name is Alex.\n",
      "\n",
      "I have a dog.\n",
      "My dog's name is Alex.\n",
      "\n",
      "I have a dog.\n",
      "My dog's name is Alex.\n",
      "\n",
      "I have a dog.\n",
      "My dog's name is Alex.\n",
      "\n",
      "I have a dog.\n",
      "My dog's name is Alex.\n"
     ]
    }
   ],
   "source": [
    "describe_pet('Alex')\n",
    "describe_pet (pet_name='Alex')\n",
    "describe_pet ('Alex', 'dog')\n",
    "describe_pet (pet_name='Alex' , animal_type='dog')\n",
    "describe_pet ( animal_type='dog' ,pet_name='Alex' )"
   ]
  },
  {
   "cell_type": "markdown",
   "id": "4003eeb8",
   "metadata": {},
   "source": [
    "## Exercises"
   ]
  },
  {
   "cell_type": "markdown",
   "id": "98684f13",
   "metadata": {},
   "source": [
    "**8-3. T-Shirt:** Write a function called make_shirt() that accepts a size and the \n",
    "text of a message that should be printed on the shirt. The function should print \n",
    "a sentence summarizing the size of the shirt and the message printed on it.\n",
    "Call the function once using positional arguments to make a shirt.<br>\n",
    "Call the \n",
    "function a second time using keyword arguments."
   ]
  },
  {
   "cell_type": "code",
   "execution_count": 46,
   "id": "b9b03980",
   "metadata": {},
   "outputs": [],
   "source": [
    "def make_shirt(size, text):\n",
    "    ''' Display information of size and text of a shirt order'''\n",
    "    print(f\" The size of the shirt should be: {size}.\")\n",
    "    print(f'\"{text}\" should be printed on the shirt.')"
   ]
  },
  {
   "cell_type": "code",
   "execution_count": 47,
   "id": "8d8f7899",
   "metadata": {},
   "outputs": [
    {
     "name": "stdout",
     "output_type": "stream",
     "text": [
      " The size of the shirt should be: L.\n",
      "\"Ja Nein, Rammstein \" should be printed on the shirt.\n",
      "----------\n",
      " The size of the shirt should be: L.\n",
      "\"Ja Nein, Rammstein \" should be printed on the shirt.\n"
     ]
    }
   ],
   "source": [
    "#positional arguments\n",
    "make_shirt('L', 'Ja Nein, Rammstein ')\n",
    "print('----------')\n",
    "# keyword arguments\n",
    "make_shirt(size='L', text='Ja Nein, Rammstein ')\n"
   ]
  },
  {
   "cell_type": "markdown",
   "id": "f8f77ee5",
   "metadata": {},
   "source": [
    "**8-4. Large Shirts:** Modify the make_shirt() function so that shirts are large \n",
    "by default with a message that reads I love Python. Make a large shirt and a \n",
    "medium shirt with the default message, and a shirt of any size with a different \n",
    "message."
   ]
  },
  {
   "cell_type": "code",
   "execution_count": 51,
   "id": "a48ec248",
   "metadata": {},
   "outputs": [],
   "source": [
    "def make_shirt(size = 'L', text ='I love Python'):\n",
    "    print(f\"The size of the shirt should be: {size}.\")\n",
    "    print(f'\"{text}\" should be printed on the shirt.')"
   ]
  },
  {
   "cell_type": "code",
   "execution_count": 50,
   "id": "eb8dc4bf",
   "metadata": {},
   "outputs": [
    {
     "name": "stdout",
     "output_type": "stream",
     "text": [
      " The size of the shirt should be: L.\n",
      "\"I love Python\" should be printed on the shirt.\n"
     ]
    }
   ],
   "source": [
    "make_shirt()"
   ]
  },
  {
   "cell_type": "code",
   "execution_count": 52,
   "id": "961552be",
   "metadata": {},
   "outputs": [
    {
     "name": "stdout",
     "output_type": "stream",
     "text": [
      "The size of the shirt should be: M.\n",
      "\"I love Python\" should be printed on the shirt.\n"
     ]
    }
   ],
   "source": [
    "make_shirt('M')"
   ]
  },
  {
   "cell_type": "code",
   "execution_count": 53,
   "id": "6803ce49",
   "metadata": {},
   "outputs": [
    {
     "name": "stdout",
     "output_type": "stream",
     "text": [
      "The size of the shirt should be: S.\n",
      "\"Ja Nein, Rammstein\" should be printed on the shirt.\n"
     ]
    }
   ],
   "source": [
    "make_shirt('S', \"Ja Nein, Rammstein\")"
   ]
  },
  {
   "cell_type": "markdown",
   "id": "96755e13",
   "metadata": {},
   "source": [
    "**8-5. Cities:** Write a function called describe_city() that accepts the name of \n",
    "a city and its country. The function should print a simple sentence, such as \n",
    "Reykjavik is in Iceland. Give the parameter for the country a default value. \n",
    "Call your function for three different cities, at least one of which is not in the \n",
    "default country."
   ]
  },
  {
   "cell_type": "code",
   "execution_count": 55,
   "id": "2f91d041",
   "metadata": {},
   "outputs": [],
   "source": [
    "def describe_city(city, country='Germany') :\n",
    "    ''' display simple information about cities'''\n",
    "    print (f\"{city.title()} is in {country.title()}.\")"
   ]
  },
  {
   "cell_type": "code",
   "execution_count": 56,
   "id": "9c7c32cb",
   "metadata": {},
   "outputs": [
    {
     "name": "stdout",
     "output_type": "stream",
     "text": [
      "Berlin is in Germany.\n"
     ]
    }
   ],
   "source": [
    "describe_city('berlin')"
   ]
  },
  {
   "cell_type": "code",
   "execution_count": 58,
   "id": "6faa7e53",
   "metadata": {},
   "outputs": [
    {
     "name": "stdout",
     "output_type": "stream",
     "text": [
      "Tehran is in Iran.\n"
     ]
    }
   ],
   "source": [
    "describe_city ('tehran', 'iran')"
   ]
  },
  {
   "cell_type": "markdown",
   "id": "5c11a2b1",
   "metadata": {},
   "source": [
    "## Return Values"
   ]
  },
  {
   "cell_type": "markdown",
   "id": "d7b15945",
   "metadata": {},
   "source": [
    "The value the \n",
    "function returns is called a return value."
   ]
  },
  {
   "cell_type": "markdown",
   "id": "bd5eef46",
   "metadata": {},
   "source": [
    "### Returning a Simple Value"
   ]
  },
  {
   "cell_type": "code",
   "execution_count": 59,
   "id": "e81b4dfd",
   "metadata": {},
   "outputs": [],
   "source": [
    "def get_formatted_name(first_name, last_name):\n",
    "    '''\"\"\"Return a full name, neatly formatted.\"\"\"'''\n",
    "    full_name = f\"{first_name} {last_name}\"\n",
    "    return full_name.title()"
   ]
  },
  {
   "cell_type": "code",
   "execution_count": 61,
   "id": "87a1a1af",
   "metadata": {},
   "outputs": [
    {
     "name": "stdout",
     "output_type": "stream",
     "text": [
      "Till Lindemann\n"
     ]
    }
   ],
   "source": [
    "musician = get_formatted_name ('till', 'lindemann')\n",
    "print (musician)"
   ]
  },
  {
   "cell_type": "markdown",
   "id": "a28a8fec",
   "metadata": {},
   "source": [
    "#### Making an Argument Optional"
   ]
  },
  {
   "cell_type": "markdown",
   "id": "5e886469",
   "metadata": {},
   "source": [
    " Default values can be used to make an argument optional."
   ]
  },
  {
   "cell_type": "code",
   "execution_count": 64,
   "id": "da871cef",
   "metadata": {},
   "outputs": [],
   "source": [
    "def get_formatted_name(first_name, last_name, middle_name=''):\n",
    "    \"\"\"Return a full name, neatly formatted.\"\"\"\n",
    "    full_name = f\"{first_name} {middle_name} {last_name}\"\n",
    "    return full_name.title()"
   ]
  },
  {
   "cell_type": "code",
   "execution_count": 68,
   "id": "8d6d4e4c",
   "metadata": {},
   "outputs": [
    {
     "name": "stdout",
     "output_type": "stream",
     "text": [
      "Till  Lindemann\n"
     ]
    }
   ],
   "source": [
    "musician = get_formatted_name ('till', 'lindemann')\n",
    "print (musician)"
   ]
  },
  {
   "cell_type": "code",
   "execution_count": 69,
   "id": "0a91a9af",
   "metadata": {},
   "outputs": [],
   "source": [
    "#None can also be passed as a default value\n",
    "def get_formatted_name(first_name, last_name, middle_name=None):\n",
    "    \"\"\"Return a full name, neatly formatted.\"\"\"\n",
    "    full_name = f\"{first_name} {middle_name} {last_name}\"\n",
    "    return full_name.title()"
   ]
  },
  {
   "cell_type": "code",
   "execution_count": 70,
   "id": "0c0a70c3",
   "metadata": {},
   "outputs": [
    {
     "data": {
      "text/plain": [
       "'John Lee Hooker'"
      ]
     },
     "execution_count": 70,
     "metadata": {},
     "output_type": "execute_result"
    }
   ],
   "source": [
    "get_formatted_name('john', 'hooker' , 'lee')"
   ]
  },
  {
   "cell_type": "markdown",
   "id": "c114e15e",
   "metadata": {},
   "source": [
    "### Returning a Dictionary"
   ]
  },
  {
   "cell_type": "code",
   "execution_count": 73,
   "id": "d7c087f9",
   "metadata": {},
   "outputs": [],
   "source": [
    "def build_person(first_name, last_name, age=None):\n",
    "    '''Return a dictionary of information about a user.'''\n",
    "    person = {'firstname':first_name , 'lastname':last_name}\n",
    "    if age:\n",
    "        person['age']= age\n",
    "    return person"
   ]
  },
  {
   "cell_type": "code",
   "execution_count": 76,
   "id": "4eb3722a",
   "metadata": {},
   "outputs": [
    {
     "data": {
      "text/plain": [
       "{'firstname': 'malihe', 'lastname': 'bayat', 'age': 31}"
      ]
     },
     "execution_count": 76,
     "metadata": {},
     "output_type": "execute_result"
    }
   ],
   "source": [
    "build_person('malihe', 'bayat', age=31)"
   ]
  },
  {
   "cell_type": "markdown",
   "id": "5a7e6668",
   "metadata": {},
   "source": [
    "## Using a Function with a while Loop"
   ]
  },
  {
   "cell_type": "code",
   "execution_count": 79,
   "id": "762e405f",
   "metadata": {},
   "outputs": [],
   "source": [
    "def get_formatted_name(first_name=None, last_name=None):\n",
    "    \"\"\"Return a full name, neatly formatted.\"\"\"\n",
    "    full_name = f\"{first_name} {last_name}\"\n",
    "    return full_name.title()"
   ]
  },
  {
   "cell_type": "code",
   "execution_count": 101,
   "id": "c21369f1",
   "metadata": {},
   "outputs": [
    {
     "name": "stdout",
     "output_type": "stream",
     "text": [
      "\n",
      "please tell me your name, enter 'q' at any time to quit\n",
      "First Name: till\n",
      "Last name? lindemann\n",
      "\n",
      "Hello Till Lindemann\n",
      "\n",
      "please tell me your name, enter 'q' at any time to quit\n",
      "First Name: q\n"
     ]
    }
   ],
   "source": [
    "while True:\n",
    "    print(f\"\\nplease tell me your name, enter 'q' at any time to quit\")\n",
    "    f_name = input (\"First Name: \")\n",
    "    if f_name =='q':\n",
    "        break\n",
    "    l_name = input ('Last name? ')\n",
    "    if l_name == 'q':\n",
    "        break\n",
    "    formatted_name = get_formatted_name (f_name , l_name)\n",
    "    print (f\"\\nHello {formatted_name}\")"
   ]
  },
  {
   "cell_type": "markdown",
   "id": "d4b275ef",
   "metadata": {},
   "source": [
    "## Exercises\n",
    "\n"
   ]
  },
  {
   "cell_type": "markdown",
   "id": "3045b9ea",
   "metadata": {},
   "source": [
    "**8-6. City Names:** Write a function called city_country() that takes in the name \n",
    "of a city and its country. The function should return a string formatted like this:\n",
    "___________________________<br>\n",
    "\"Santiago, Chile\"<br>\n",
    "___________________________<br>\n",
    "Call your function with at least three city-country pairs, and print the \n",
    "values that are returned"
   ]
  },
  {
   "cell_type": "code",
   "execution_count": 103,
   "id": "78bf92b5",
   "metadata": {},
   "outputs": [],
   "source": [
    "def city_country(city, country):\n",
    "    ''' Display city and country, neatly formatted'''\n",
    "    city_country = f\"{city.title()}, {country.title()}\"\n",
    "    print(city_country)"
   ]
  },
  {
   "cell_type": "code",
   "execution_count": 105,
   "id": "456a551b",
   "metadata": {},
   "outputs": [
    {
     "name": "stdout",
     "output_type": "stream",
     "text": [
      "Tehran, Iran\n",
      "Berlin, Germany\n",
      "Munich, Geramny\n"
     ]
    }
   ],
   "source": [
    "city_country ('tehran', 'iran')\n",
    "city_country ('berlin', 'germany')\n",
    "city_country ('munich', 'geramny' )"
   ]
  },
  {
   "cell_type": "markdown",
   "id": "36b25eee",
   "metadata": {},
   "source": [
    "**8-7. Album:** Write a function called make_album() that builds a dictionary \n",
    "describing a music album. The function should take in an artist name and an \n",
    "album title, and it should return a dictionary containing these two pieces of \n",
    "information. Use the function to make three dictionaries representing different \n",
    "albums. Print each return value to show that the dictionaries are storing the \n",
    "album information correctly.<br>\n",
    "Use None to add an optional parameter to make_album() that allows you to \n",
    "store the number of songs on an album. If the calling line includes a value for \n",
    "the number of songs, add that value to the album’s dictionary. Make at least \n",
    "one new function call that includes the number of songs on an album"
   ]
  },
  {
   "cell_type": "code",
   "execution_count": 111,
   "id": "3b9d3707",
   "metadata": {},
   "outputs": [],
   "source": [
    "def make_album (album, artist , song_numbers=None):\n",
    "    ''' Return a dictionary containing album information'''\n",
    "    album_information = {'album_name': album, 'artist_name' : artist}\n",
    "    if song_numbers:\n",
    "        album_information['song_numbers']= song_numbers\n",
    "    return album_information"
   ]
  },
  {
   "cell_type": "code",
   "execution_count": 112,
   "id": "ae8acbcb",
   "metadata": {},
   "outputs": [
    {
     "name": "stdout",
     "output_type": "stream",
     "text": [
      "{'album_name': '10,000 Days', 'artist_name': 'Tool'}\n",
      "{'album_name': 'Train of Thought', 'artist_name': 'Dream Theater'}\n",
      "{'album_name': 'Impera', 'artist_name': 'Ghost', 'song_numbers': 11}\n"
     ]
    }
   ],
   "source": [
    "print(make_album ('10,000 Days' , 'Tool' ))\n",
    "print(make_album ('Train of Thought' , 'Dream Theater'))\n",
    "print(make_album ('Impera' , 'Ghost' , 11))"
   ]
  },
  {
   "cell_type": "markdown",
   "id": "645f7623",
   "metadata": {},
   "source": [
    "**8-8. User Albums:** Start with your program from Exercise 8-7. Write a while\n",
    "loop that allows users to enter an album’s artist and title. Once you have that \n",
    "information, call make_album() with the user’s input and print the dictionary \n",
    "that’s created. Be sure to include a quit value in the while loop"
   ]
  },
  {
   "cell_type": "code",
   "execution_count": 120,
   "id": "0d6a2c84",
   "metadata": {},
   "outputs": [
    {
     "name": "stdout",
     "output_type": "stream",
     "text": [
      " \n",
      "please enter the albums' information, enter 'q' to exit at any time\n",
      "Album name?: mutter\n",
      "Artsit:? rammstein\n",
      "{'album_name': 'mutter', 'artist_name': 'rammstein'}\n",
      " \n",
      "please enter the albums' information, enter 'q' to exit at any time\n",
      "Album name?: q\n"
     ]
    }
   ],
   "source": [
    "while True:\n",
    "    print (f\" \\nplease enter the albums' information, enter 'q' to exit at any time\")\n",
    "    album_name = input(\"Album name?: \")\n",
    "    if album_name == 'q':\n",
    "        break\n",
    "    artist_name = input(\"Artsit:? \")\n",
    "    if artist_name== 'q':\n",
    "        break\n",
    "    print (make_album(album_name , artist_name))\n",
    "                       "
   ]
  },
  {
   "cell_type": "markdown",
   "id": "584e074d",
   "metadata": {},
   "source": [
    "## Passing a List"
   ]
  },
  {
   "cell_type": "code",
   "execution_count": 146,
   "id": "4b09befd",
   "metadata": {},
   "outputs": [],
   "source": [
    "def greet_users(names):\n",
    "    \"\"\"Print a simple greeting to each user in the list.\"\"\"\n",
    "    for name in names:\n",
    "        print (f\"Hello {name.title()}\")"
   ]
  },
  {
   "cell_type": "code",
   "execution_count": 144,
   "id": "77343fd1",
   "metadata": {},
   "outputs": [],
   "source": [
    "users = ['alex' , 'harry', 'ron']"
   ]
  },
  {
   "cell_type": "code",
   "execution_count": 147,
   "id": "74666cc0",
   "metadata": {},
   "outputs": [
    {
     "name": "stdout",
     "output_type": "stream",
     "text": [
      "Hello Alex\n",
      "Hello Harry\n",
      "Hello Ron\n"
     ]
    }
   ],
   "source": [
    "greet_users(users)"
   ]
  },
  {
   "cell_type": "markdown",
   "id": "85fe795b",
   "metadata": {},
   "source": [
    "## Modifying a List in a Function"
   ]
  },
  {
   "cell_type": "code",
   "execution_count": 154,
   "id": "3eb99209",
   "metadata": {},
   "outputs": [],
   "source": [
    "def print_models(unprinted_designs, completed_designs=[]):\n",
    "    \"\"\"\n",
    " Simulate printing each design, until none are left.\n",
    " Move each design to completed_models after printing.\n",
    "    \"\"\"\n",
    "    while unprinted_designs:\n",
    "        # Simulate printing each design, until none are left.\n",
    "        current_design = unprinted_designs.pop()\n",
    "        print(f\"Printing model: {current_design}\")\n",
    "        # Move each design to completed_models after printing.\n",
    "        completed_designs.append (current_design)\n",
    "    return completed_designs"
   ]
  },
  {
   "cell_type": "code",
   "execution_count": 149,
   "id": "8f895536",
   "metadata": {},
   "outputs": [],
   "source": [
    "def show_completed_models(completed_models):\n",
    "    \"\"\"\"Show all the models that were printed.\"\"\"\n",
    "    for model in completed_models:\n",
    "        print(model)"
   ]
  },
  {
   "cell_type": "code",
   "execution_count": 151,
   "id": "036f617a",
   "metadata": {},
   "outputs": [
    {
     "name": "stdout",
     "output_type": "stream",
     "text": [
      "Printing model: dodecahedron\n",
      "Printing model: robot pendant\n",
      "Printing model: phone case\n"
     ]
    },
    {
     "data": {
      "text/plain": [
       "['dodecahedron', 'robot pendant', 'phone case']"
      ]
     },
     "execution_count": 151,
     "metadata": {},
     "output_type": "execute_result"
    }
   ],
   "source": [
    "unprinted_designs = ['phone case', 'robot pendant', 'dodecahedron']\n",
    "print_models(unprinted_designs)"
   ]
  },
  {
   "cell_type": "code",
   "execution_count": 152,
   "id": "57480d3f",
   "metadata": {},
   "outputs": [
    {
     "name": "stdout",
     "output_type": "stream",
     "text": [
      "dodecahedron\n",
      "robot pendant\n",
      "phone case\n"
     ]
    }
   ],
   "source": [
    "show_completed_models(print_models(unprinted_designs))"
   ]
  },
  {
   "cell_type": "markdown",
   "id": "255dd03a",
   "metadata": {},
   "source": [
    "## Preventing a Function from Modifying a List"
   ]
  },
  {
   "cell_type": "markdown",
   "id": "f5900441",
   "metadata": {},
   "source": [
    "Any \n",
    "changes made to the list inside the function’s body are permanent. In case that the original list is needed, the issue can be addressed by passing the function a \n",
    "copy of the list, not the original.<br>\n",
    "**function_name(list_name[:])**"
   ]
  },
  {
   "cell_type": "code",
   "execution_count": 156,
   "id": "4ea35791",
   "metadata": {},
   "outputs": [
    {
     "name": "stdout",
     "output_type": "stream",
     "text": [
      "Printing model: dodecahedron\n",
      "Printing model: robot pendant\n",
      "Printing model: phone case\n"
     ]
    },
    {
     "data": {
      "text/plain": [
       "['dodecahedron', 'robot pendant', 'phone case']"
      ]
     },
     "execution_count": 156,
     "metadata": {},
     "output_type": "execute_result"
    }
   ],
   "source": [
    "# call the print_models function with a copy of the unprinted_designs list\n",
    "unprinted_designs = ['phone case', 'robot pendant', 'dodecahedron']\n",
    "\n",
    "print_models(unprinted_designs[:], completed_designs= [])\n"
   ]
  },
  {
   "cell_type": "markdown",
   "id": "5fe7dbb8",
   "metadata": {},
   "source": [
    "## Exercises"
   ]
  },
  {
   "cell_type": "markdown",
   "id": "a9391b98",
   "metadata": {},
   "source": [
    "**8-9. Messages:** Make a list containing a series of short text messages. Pass the \n",
    "list to a function called show_messages(), which prints each text message"
   ]
  },
  {
   "cell_type": "code",
   "execution_count": 157,
   "id": "df44e923",
   "metadata": {},
   "outputs": [],
   "source": [
    "def show_messages(messages):\n",
    "    '''Display text messages of a list'''\n",
    "    for message in messages:\n",
    "        print(message)"
   ]
  },
  {
   "cell_type": "markdown",
   "id": "280bdf09",
   "metadata": {},
   "source": [
    "**8-10. Sending Messages:** Start with a copy of your program from Exercise 8-9. \n",
    "Write a function called send_messages() that prints each text message and \n",
    "moves each message to a new list called sent_messages as it’s printed. After \n",
    "calling the function, print both of your lists to make sure the messages were \n",
    "moved correctly"
   ]
  },
  {
   "cell_type": "code",
   "execution_count": 178,
   "id": "f3d8f3b2",
   "metadata": {},
   "outputs": [],
   "source": [
    "def send_messages(messages, sent_messages=[]):\n",
    "    \"\"\"\n",
    "    Simulate sending messages, until none are left.\n",
    "    Move each message to sent_messages after printing.\n",
    "    \"\"\"\n",
    "    while messages:\n",
    "        sending_message = messages.pop()\n",
    "        print(f\"sendin '{sending_message}'\")\n",
    "        sent_messages.append(sending_message)\n",
    "    return sent_messages"
   ]
  },
  {
   "cell_type": "code",
   "execution_count": 179,
   "id": "5d0077cc",
   "metadata": {},
   "outputs": [],
   "source": [
    "messages= [\"hello\" , \"how are you doing?\" , \"how is the cat?\"]"
   ]
  },
  {
   "cell_type": "code",
   "execution_count": 173,
   "id": "2ca4c415",
   "metadata": {},
   "outputs": [
    {
     "name": "stdout",
     "output_type": "stream",
     "text": [
      "sendin 'how is the cat?'\n",
      "sendin 'how are you doing?'\n",
      "sendin 'hello'\n"
     ]
    },
    {
     "data": {
      "text/plain": [
       "['how is the cat?', 'how are you doing?', 'hello']"
      ]
     },
     "execution_count": 173,
     "metadata": {},
     "output_type": "execute_result"
    }
   ],
   "source": [
    "send_messages (messages)"
   ]
  },
  {
   "cell_type": "markdown",
   "id": "f3cc23cd",
   "metadata": {},
   "source": [
    "**8-11. Archived Messages:** Start with your work from Exercise 8-10. Call the \n",
    "function send_messages() with a copy of the list of messages. After calling the \n",
    "function, print both of your lists to show that the original list has retained its \n",
    "messages"
   ]
  },
  {
   "cell_type": "code",
   "execution_count": 180,
   "id": "113b58b2",
   "metadata": {},
   "outputs": [
    {
     "name": "stdout",
     "output_type": "stream",
     "text": [
      "sendin 'how is the cat?'\n",
      "sendin 'how are you doing?'\n",
      "sendin 'hello'\n"
     ]
    },
    {
     "data": {
      "text/plain": [
       "['how is the cat?', 'how are you doing?', 'hello']"
      ]
     },
     "execution_count": 180,
     "metadata": {},
     "output_type": "execute_result"
    }
   ],
   "source": [
    "send_messages(messages[:])"
   ]
  },
  {
   "cell_type": "code",
   "execution_count": 181,
   "id": "13fb87a5",
   "metadata": {},
   "outputs": [
    {
     "data": {
      "text/plain": [
       "['hello', 'how are you doing?', 'how is the cat?']"
      ]
     },
     "execution_count": 181,
     "metadata": {},
     "output_type": "execute_result"
    }
   ],
   "source": [
    "messages"
   ]
  },
  {
   "cell_type": "markdown",
   "id": "278a1b1c",
   "metadata": {},
   "source": [
    "### Passing an Arbitrary Number of Arguments"
   ]
  },
  {
   "cell_type": "markdown",
   "id": "ff341caf",
   "metadata": {},
   "source": [
    "Used when we don't know ahead of time how many arguments will be passed to the function. In this situation *args is used.<br>\n",
    "\n",
    "**Note:** The asterisk in the parameter name tells Python to **make an \n",
    "empty tuple** called args (or what ever is named) and pack whatever values it receives into this \n",
    "tuple."
   ]
  },
  {
   "cell_type": "code",
   "execution_count": 7,
   "id": "751e7b5b",
   "metadata": {},
   "outputs": [],
   "source": [
    "def sum_of_numbers (*num):\n",
    "    ''' Take some numbers and return the sum of them'''\n",
    "    sum=0\n",
    "    for num in num:\n",
    "        sum += num\n",
    "    return sum"
   ]
  },
  {
   "cell_type": "code",
   "execution_count": 6,
   "id": "27647e39",
   "metadata": {},
   "outputs": [
    {
     "data": {
      "text/plain": [
       "6"
      ]
     },
     "execution_count": 6,
     "metadata": {},
     "output_type": "execute_result"
    }
   ],
   "source": [
    "sum_of_numbers(1,2,3)"
   ]
  },
  {
   "cell_type": "markdown",
   "id": "be36c851",
   "metadata": {},
   "source": [
    "#### Mixing Positional and Arbitrary Arguments"
   ]
  },
  {
   "cell_type": "code",
   "execution_count": 15,
   "id": "902bff78",
   "metadata": {},
   "outputs": [],
   "source": [
    "def make_pizza(size, *toppings):\n",
    "    \"\"\"Summarize the pizza we are about to make.\"\"\"\n",
    "    print(f\"\\nMaking a {size}-inch pizza with the following toppings:\")\n",
    "    for topping in toppings:\n",
    "        print(f\"-{topping}\")"
   ]
  },
  {
   "cell_type": "code",
   "execution_count": 16,
   "id": "920d45db",
   "metadata": {},
   "outputs": [
    {
     "name": "stdout",
     "output_type": "stream",
     "text": [
      "\n",
      "Making a 16-inch pizza with the following toppings:\n",
      "-mushrooms\n",
      "-green peppers\n"
     ]
    }
   ],
   "source": [
    "make_pizza(16, 'mushrooms' , 'green peppers')"
   ]
  },
  {
   "cell_type": "markdown",
   "id": "f5355cb0",
   "metadata": {},
   "source": [
    "### Using Arbitrary Keyword Arguments"
   ]
  },
  {
   "cell_type": "markdown",
   "id": "1e35fb44",
   "metadata": {},
   "source": [
    "Used when we want to accept an arbitrary number of arguments, but we\n",
    "won’t know ahead of time what kind of information will be passed to the \n",
    "function. In this case, we can write functions that accept as many key-value \n",
    "pairs (*kwargs) as the calling statement provides"
   ]
  },
  {
   "cell_type": "markdown",
   "id": "093f6fdd",
   "metadata": {},
   "source": [
    "**Note:** By default, **kwargs is an empty dictionary. Each undefined keyword argument is stored as a key-value pair in the **kwargs dictionary."
   ]
  },
  {
   "cell_type": "code",
   "execution_count": 20,
   "id": "8ea67d9b",
   "metadata": {},
   "outputs": [],
   "source": [
    "def build_profile(first, last, **user_info):\n",
    "    \"\"\"Build a dictionary containing everything we know about a user.\"\"\"\n",
    "    user_info['first_name'] = first\n",
    "    user_info['last_name'] = last\n",
    "    return user_info\n"
   ]
  },
  {
   "cell_type": "code",
   "execution_count": 24,
   "id": "8ba5e074",
   "metadata": {},
   "outputs": [
    {
     "data": {
      "text/plain": [
       "{'age': 59,\n",
       " 'occupation': 'musician',\n",
       " 'language': ['german', 'english'],\n",
       " 'first_name': 'till',\n",
       " 'last_name': 'lindemann'}"
      ]
     },
     "execution_count": 24,
     "metadata": {},
     "output_type": "execute_result"
    }
   ],
   "source": [
    "build_profile('till', 'lindemann' , age=59, occupation ='musician' , language=['german', 'english'])\n"
   ]
  },
  {
   "cell_type": "markdown",
   "id": "b09791c1",
   "metadata": {},
   "source": [
    "## Exercises"
   ]
  },
  {
   "cell_type": "markdown",
   "id": "8ab05cfa",
   "metadata": {},
   "source": [
    "**8-12. Sandwiches:** Write a function that accepts a list of items a person wants \n",
    "on a sandwich. The function should have one parameter that collects as many \n",
    "items as the function call provides, and it should print a summary of the sandwich that’s being ordered. Call the function three times, using a different number of arguments each time."
   ]
  },
  {
   "cell_type": "code",
   "execution_count": 26,
   "id": "7237ef4a",
   "metadata": {},
   "outputs": [],
   "source": [
    "def make_sandwich(*items):\n",
    "    \"\"\"Summarize the sandwich we are about to make.\"\"\"\n",
    "    print(f\"\\nMaking a sandwich with the following items:\")\n",
    "    for item in items:\n",
    "        print(f\"-{item}\")"
   ]
  },
  {
   "cell_type": "code",
   "execution_count": 27,
   "id": "b1213201",
   "metadata": {},
   "outputs": [
    {
     "name": "stdout",
     "output_type": "stream",
     "text": [
      "\n",
      "Making a sandwich with the following items:\n",
      "-hot dog\n",
      "-mustard\n",
      "-tomato\n"
     ]
    }
   ],
   "source": [
    "make_sandwich('hot dog' , 'mustard' , 'tomato')"
   ]
  },
  {
   "cell_type": "markdown",
   "id": "2d232f7b",
   "metadata": {},
   "source": [
    "**8-13. User Profile:** Start with a copy of user_profile. Build a \n",
    "profile of yourself by calling build_profile(), using your first and last names \n",
    "and three other key-value pairs that describe you."
   ]
  },
  {
   "cell_type": "code",
   "execution_count": 31,
   "id": "379ff5ae",
   "metadata": {},
   "outputs": [
    {
     "name": "stdout",
     "output_type": "stream",
     "text": [
      "{'location': 'tehran', 'field': 'data science', 'age': 31, 'first_name': 'malihe', 'last_name': 'bayat'}\n"
     ]
    }
   ],
   "source": [
    "my_profile = build_profile('malihe', 'bayat', location='tehran', field='data science' , age=31) \n",
    "print(my_profile)"
   ]
  },
  {
   "cell_type": "markdown",
   "id": "972f5877",
   "metadata": {},
   "source": [
    "**8-14. Cars:**  Write a function that stores information about a car in a dictionary. The function should always receive a manufacturer and a model name. It \n",
    "should then accept an arbitrary number of keyword arguments. <br>\n",
    "Call the function with the required information and two other name-value pairs, such as a \n",
    "color or an optional feature. Your function should work for a call like this one:<br>\n",
    "car = make_car('subaru', 'outback', color='blue', tow_package=True)<br>\n",
    "Print the dictionary that’s returned to make sure all the information was \n",
    "stored correctly."
   ]
  },
  {
   "cell_type": "code",
   "execution_count": 45,
   "id": "6a6376ee",
   "metadata": {},
   "outputs": [],
   "source": [
    "def make_car(car_manufacturer, car_model, **car_info):\n",
    "    \"\"\"Build a dictionary containing car info.\"\"\"\n",
    "    car_info['manufacturer'] = car_manufacturer\n",
    "    car_info['model'] = car_model\n",
    "    return car_info"
   ]
  },
  {
   "cell_type": "code",
   "execution_count": 46,
   "id": "15fdd342",
   "metadata": {},
   "outputs": [
    {
     "data": {
      "text/plain": [
       "{'color': 'blue',\n",
       " 'tow_package': True,\n",
       " 'manufacturer': 'subaru',\n",
       " 'model': 'outback'}"
      ]
     },
     "execution_count": 46,
     "metadata": {},
     "output_type": "execute_result"
    }
   ],
   "source": [
    "make_car('subaru', 'outback', color='blue', tow_package=True)"
   ]
  },
  {
   "cell_type": "markdown",
   "id": "9353c63d",
   "metadata": {},
   "source": [
    "## Storing Your Functions in Modules"
   ]
  },
  {
   "cell_type": "markdown",
   "id": "e9f37c76",
   "metadata": {},
   "source": [
    "### Importing an Entire Module"
   ]
  },
  {
   "cell_type": "code",
   "execution_count": 3,
   "id": "fcb67755",
   "metadata": {},
   "outputs": [],
   "source": [
    "import user_profile"
   ]
  },
  {
   "cell_type": "code",
   "execution_count": 4,
   "id": "ca3becde",
   "metadata": {
    "scrolled": true
   },
   "outputs": [
    {
     "data": {
      "text/plain": [
       "{'age': 59, 'first_name': 'till', 'last_name': 'lindemann'}"
      ]
     },
     "execution_count": 4,
     "metadata": {},
     "output_type": "execute_result"
    }
   ],
   "source": [
    "user_profile.build_profile('till' , 'lindemann' , age=59)"
   ]
  },
  {
   "cell_type": "markdown",
   "id": "df78ee2a",
   "metadata": {},
   "source": [
    "### Importing Specific Functions"
   ]
  },
  {
   "cell_type": "code",
   "execution_count": 8,
   "id": "bae329fe",
   "metadata": {},
   "outputs": [],
   "source": [
    "# syntax : from module_name import func1 , func2, ..."
   ]
  },
  {
   "cell_type": "code",
   "execution_count": 6,
   "id": "ec0f18ec",
   "metadata": {},
   "outputs": [],
   "source": [
    "from user_profile import build_profile"
   ]
  },
  {
   "cell_type": "code",
   "execution_count": 7,
   "id": "f38117e7",
   "metadata": {},
   "outputs": [
    {
     "data": {
      "text/plain": [
       "{'occuupation': 'student', 'first_name': 'Fea', 'last_name': 'lindemann'}"
      ]
     },
     "execution_count": 7,
     "metadata": {},
     "output_type": "execute_result"
    }
   ],
   "source": [
    "build_profile('Fea' , 'lindemann' , occuupation='student')"
   ]
  },
  {
   "cell_type": "markdown",
   "id": "b738fc55",
   "metadata": {},
   "source": [
    "**Note:** With the syntax above, there is no need to use the dot notation when calling a \n",
    "function."
   ]
  },
  {
   "cell_type": "markdown",
   "id": "0e00bbb6",
   "metadata": {},
   "source": [
    "### Using as to Give a Function an Alias"
   ]
  },
  {
   "cell_type": "code",
   "execution_count": 10,
   "id": "e4cc9042",
   "metadata": {},
   "outputs": [
    {
     "data": {
      "text/plain": [
       "{'occuupation': 'student', 'first_name': 'Fea', 'last_name': 'lindemann'}"
      ]
     },
     "execution_count": 10,
     "metadata": {},
     "output_type": "execute_result"
    }
   ],
   "source": [
    "from user_profile import build_profile as bp\n",
    "bp('Fea' , 'lindemann' , occuupation='student')"
   ]
  },
  {
   "cell_type": "markdown",
   "id": "7836c36e",
   "metadata": {},
   "source": [
    "### Using as to Give a Module an Alias"
   ]
  },
  {
   "cell_type": "code",
   "execution_count": 9,
   "id": "667e532f",
   "metadata": {},
   "outputs": [
    {
     "data": {
      "text/plain": [
       "{'age': 59, 'first_name': 'till', 'last_name': 'lindemann'}"
      ]
     },
     "execution_count": 9,
     "metadata": {},
     "output_type": "execute_result"
    }
   ],
   "source": [
    "import user_profile as up\n",
    "up.build_profile('till' , 'lindemann' , age=59)"
   ]
  },
  {
   "cell_type": "markdown",
   "id": "3c42de6e",
   "metadata": {},
   "source": [
    "### Importing All Functions in a Module"
   ]
  },
  {
   "cell_type": "code",
   "execution_count": 11,
   "id": "85c6d325",
   "metadata": {},
   "outputs": [],
   "source": [
    "from user_profile import *"
   ]
  },
  {
   "cell_type": "markdown",
   "id": "936ac755",
   "metadata": {},
   "source": [
    "**Note:** However, it’s best not to use the import * approach when working \n",
    "with larger modules that we didn’t write: if the module has a function \n",
    "name that matches an existing name in our project, we can get some \n",
    "unexpected results. Python may see several functions or variables with the \n",
    "same name, and instead of importing all the functions separately, it will \n",
    "overwrite the functions"
   ]
  },
  {
   "cell_type": "code",
   "execution_count": null,
   "id": "391ed3f5",
   "metadata": {},
   "outputs": [],
   "source": []
  }
 ],
 "metadata": {
  "kernelspec": {
   "display_name": "Python 3 (ipykernel)",
   "language": "python",
   "name": "python3"
  },
  "language_info": {
   "codemirror_mode": {
    "name": "ipython",
    "version": 3
   },
   "file_extension": ".py",
   "mimetype": "text/x-python",
   "name": "python",
   "nbconvert_exporter": "python",
   "pygments_lexer": "ipython3",
   "version": "3.9.12"
  }
 },
 "nbformat": 4,
 "nbformat_minor": 5
}
