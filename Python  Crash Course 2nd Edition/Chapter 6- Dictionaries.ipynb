{
 "cells": [
  {
   "cell_type": "markdown",
   "id": "389a9bfb",
   "metadata": {},
   "source": [
    "# Chapter 6: Dictionaries"
   ]
  },
  {
   "cell_type": "markdown",
   "id": "f5b21c5d",
   "metadata": {},
   "source": [
    "## A Simple Dictionary"
   ]
  },
  {
   "cell_type": "code",
   "execution_count": 3,
   "id": "e430f7cf",
   "metadata": {},
   "outputs": [],
   "source": [
    "german_english = {'german':'hallo' , 'english':'hello'}"
   ]
  },
  {
   "cell_type": "markdown",
   "id": "476e21d6",
   "metadata": {},
   "source": [
    "# Working with Dictionaries"
   ]
  },
  {
   "cell_type": "markdown",
   "id": "fd420d0b",
   "metadata": {},
   "source": [
    "### Accessing Values in a Dictionary"
   ]
  },
  {
   "cell_type": "markdown",
   "id": "a708bc06",
   "metadata": {},
   "source": [
    "In Python, values can be get from a dictionary by specifying the key like **dict_name[key]**"
   ]
  },
  {
   "cell_type": "code",
   "execution_count": 14,
   "id": "e224c88d",
   "metadata": {},
   "outputs": [
    {
     "name": "stdout",
     "output_type": "stream",
     "text": [
      "The English translation of the German word: 'Hallo' is 'Hello'\n"
     ]
    }
   ],
   "source": [
    "print(f\"The English translation of the German word: '{german_english['german'].title()}' is '{german_english['english'].title()}'\" )"
   ]
  },
  {
   "cell_type": "markdown",
   "id": "a702ee46",
   "metadata": {},
   "source": [
    "### Adding New Key-Value Pairs"
   ]
  },
  {
   "cell_type": "markdown",
   "id": "d3b71169",
   "metadata": {},
   "source": [
    "Dictionaries are dynamic structures, and new key-value pairs can be added at any time, like: **dict_name['new_key']= value**"
   ]
  },
  {
   "cell_type": "code",
   "execution_count": 17,
   "id": "31879dd1",
   "metadata": {},
   "outputs": [],
   "source": [
    "german_english['example']= \"Hallo, wie geht's?\""
   ]
  },
  {
   "cell_type": "code",
   "execution_count": 18,
   "id": "4ebba95c",
   "metadata": {},
   "outputs": [
    {
     "data": {
      "text/plain": [
       "{'german': 'hallo', 'english': 'hello', 'example': \"Hallo, wie geht's?\"}"
      ]
     },
     "execution_count": 18,
     "metadata": {},
     "output_type": "execute_result"
    }
   ],
   "source": [
    "german_english"
   ]
  },
  {
   "cell_type": "markdown",
   "id": "3f5046e7",
   "metadata": {},
   "source": [
    "### Modifying Values in a Dictionary"
   ]
  },
  {
   "cell_type": "markdown",
   "id": "1a4855a5",
   "metadata": {},
   "source": [
    "let’s track the position of an alien in a game that \n",
    "can move at different speeds. We’ll store a value representing the alien’s \n",
    "current speed and then use it to determine how far to the right the alien \n",
    "should move"
   ]
  },
  {
   "cell_type": "code",
   "execution_count": 30,
   "id": "214602b5",
   "metadata": {},
   "outputs": [],
   "source": [
    "alien_0 = {}\n",
    "alien_0['color'] = 'green'\n",
    "alien_0['speed'] = 'medium'\n",
    "alien_0['x_position'] = 0\n",
    "alien_0 ['y_position'] = 20\n",
    "alien_0 ['points'] = 5"
   ]
  },
  {
   "cell_type": "code",
   "execution_count": 31,
   "id": "c5d39d7f",
   "metadata": {},
   "outputs": [],
   "source": [
    "#move the alian based on its speed\n",
    "if alien_0['speed'] =='slow':\n",
    "    x_increment = 1\n",
    "elif alien_0['speed'] == 'medium':\n",
    "    x_increment = 2\n",
    "else:\n",
    "    x_increment = 3\n",
    "\n",
    "# The new position is the old position plus the increment\n",
    "alien_0['x_position'] = alien_0['x_position'] + x_increment"
   ]
  },
  {
   "cell_type": "code",
   "execution_count": 32,
   "id": "a98aae83",
   "metadata": {},
   "outputs": [
    {
     "name": "stdout",
     "output_type": "stream",
     "text": [
      "New position: 2\n"
     ]
    }
   ],
   "source": [
    "print(f\"New position: {alien_0['x_position']}\")"
   ]
  },
  {
   "cell_type": "markdown",
   "id": "6d264b56",
   "metadata": {},
   "source": [
    "### Removing Key-Value Pairs"
   ]
  },
  {
   "cell_type": "code",
   "execution_count": 33,
   "id": "e4453afc",
   "metadata": {},
   "outputs": [],
   "source": [
    "# use the del statement to completely remove a key-value pair. \n",
    "del alien_0 ['points']"
   ]
  },
  {
   "cell_type": "code",
   "execution_count": 34,
   "id": "139680a8",
   "metadata": {},
   "outputs": [
    {
     "data": {
      "text/plain": [
       "{'color': 'green', 'speed': 'medium', 'x_position': 2, 'y_position': 20}"
      ]
     },
     "execution_count": 34,
     "metadata": {},
     "output_type": "execute_result"
    }
   ],
   "source": [
    "# key-value pair is removed permanently when using del statement\n",
    "alien_0"
   ]
  },
  {
   "cell_type": "markdown",
   "id": "ee0e4ed1",
   "metadata": {},
   "source": [
    "### Using get() to Access Values"
   ]
  },
  {
   "cell_type": "markdown",
   "id": "6a04b0eb",
   "metadata": {},
   "source": [
    "Using keys in square brackets to retrieve the value we’re interested in \n",
    "from a dictionary might cause one potential problem: if the key we ask for \n",
    "doesn’t exist, we’ll get an error. To avoid this problem \"get()\" method can be used.\n",
    "- we can pass a default value in get() method for non-existent keys."
   ]
  },
  {
   "cell_type": "code",
   "execution_count": 37,
   "id": "438567ac",
   "metadata": {},
   "outputs": [
    {
     "ename": "KeyError",
     "evalue": "'points'",
     "output_type": "error",
     "traceback": [
      "\u001b[1;31m---------------------------------------------------------------------------\u001b[0m",
      "\u001b[1;31mKeyError\u001b[0m                                  Traceback (most recent call last)",
      "Input \u001b[1;32mIn [37]\u001b[0m, in \u001b[0;36m<cell line: 2>\u001b[1;34m()\u001b[0m\n\u001b[0;32m      1\u001b[0m \u001b[38;5;66;03m# trying to get the value of a  non-existent key using dict_name['key']. the result is an error\u001b[39;00m\n\u001b[1;32m----> 2\u001b[0m \u001b[43malien_0\u001b[49m\u001b[43m[\u001b[49m\u001b[38;5;124;43m'\u001b[39;49m\u001b[38;5;124;43mpoints\u001b[39;49m\u001b[38;5;124;43m'\u001b[39;49m\u001b[43m]\u001b[49m\n",
      "\u001b[1;31mKeyError\u001b[0m: 'points'"
     ]
    }
   ],
   "source": [
    "# trying to get the value of a  non-existent key using dict_name['key']. the result is an error\n",
    "alien_0['points']"
   ]
  },
  {
   "cell_type": "code",
   "execution_count": 43,
   "id": "e3d63093",
   "metadata": {},
   "outputs": [
    {
     "name": "stdout",
     "output_type": "stream",
     "text": [
      "get() method with default value: No point value assigned.\n",
      "get() method without default value: None\n"
     ]
    }
   ],
   "source": [
    "# trying get() method for a non-existent key with a default value \n",
    "print(f\"get() method with default value: {alien_0.get('points', 'No point value assigned.')}\")\n",
    "# If the second argument, \"the default value\" is left out, and the key doesn’t exist, value None will be returned\n",
    "print(f\"get() method without default value: {alien_0.get('points')}\")"
   ]
  },
  {
   "cell_type": "code",
   "execution_count": 39,
   "id": "8499a9a3",
   "metadata": {},
   "outputs": [
    {
     "data": {
      "text/plain": [
       "'green'"
      ]
     },
     "execution_count": 39,
     "metadata": {},
     "output_type": "execute_result"
    }
   ],
   "source": [
    "# trying get() method for an existent key with a default value\n",
    "alien_0.get('color', 'No color value assigned')"
   ]
  },
  {
   "cell_type": "markdown",
   "id": "517eb062",
   "metadata": {},
   "source": [
    "## Exercises"
   ]
  },
  {
   "cell_type": "markdown",
   "id": "b55a149a",
   "metadata": {},
   "source": [
    "**6-1. Person** Use a dictionary to store information about a person you know. \n",
    "Store their first name, last name, age, and the city in which they live. You \n",
    "should have keys such as first_name, last_name, age, and city. Print each \n",
    "piece of information stored in your dictionary. "
   ]
  },
  {
   "cell_type": "code",
   "execution_count": 54,
   "id": "786efcb4",
   "metadata": {},
   "outputs": [],
   "source": [
    "person = {\n",
    "    'first_name':'till',\n",
    "    'last_name': 'lindermann',\n",
    "    'age': 59,\n",
    "    'occupation':'singer'\n",
    "     }"
   ]
  },
  {
   "cell_type": "code",
   "execution_count": 52,
   "id": "58424822",
   "metadata": {},
   "outputs": [
    {
     "name": "stdout",
     "output_type": "stream",
     "text": [
      " first_name : Till\n",
      " last_name : Lindermann\n",
      " age : 59\n",
      " occupation : Singer\n"
     ]
    }
   ],
   "source": [
    "for key in person:\n",
    "    print(f\" {key} : {str(person[key]).title()}\")"
   ]
  },
  {
   "cell_type": "markdown",
   "id": "527cec10",
   "metadata": {},
   "source": [
    "**6-2. Favorite Numbers:** Use a dictionary to store people’s favorite numbers. \n",
    "Think of five names, and use them as keys in your dictionary. Think of a favorite \n",
    "number for each person, and store each as a value in your dictionary. Print \n",
    "each person’s name and their favorite number."
   ]
  },
  {
   "cell_type": "code",
   "execution_count": 60,
   "id": "d05b600b",
   "metadata": {},
   "outputs": [],
   "source": [
    "favourite_numbers= {\n",
    "    'summer': 5,\n",
    "    'rick': 2,\n",
    "    'morty':1,\n",
    "    'jerry': 1,\n",
    "    'mali': 7,\n",
    "    }"
   ]
  },
  {
   "cell_type": "code",
   "execution_count": 61,
   "id": "4da40e4a",
   "metadata": {},
   "outputs": [
    {
     "name": "stdout",
     "output_type": "stream",
     "text": [
      "Summer's favourit number is : 5\n",
      "Rick's favourit number is : 2\n",
      "Morty's favourit number is : 1\n",
      "Jerry's favourit number is : 1\n",
      "Mali's favourit number is : 7\n"
     ]
    }
   ],
   "source": [
    "for people in favourite_numbers:\n",
    "    print(f\"{people.title()}'s favourit number is : {favourite_numbers[people]}\" )"
   ]
  },
  {
   "cell_type": "markdown",
   "id": "8f2a81b9",
   "metadata": {},
   "source": [
    "**6-3. Glossary:** Think of five programming words you’ve learned about in the previous \n",
    "chapters. Use these words as the keys in your glossary, and store their \n",
    "meanings as values.\n",
    "- Print each word and its meaning as neatly formatted output. You might \n",
    "print the word followed by a colon and then its meaning, or print the word \n",
    "on one line and then print its meaning indented on a second line. Use the \n",
    "newline character (\\n) to insert a blank line between each word-meaning \n",
    "pair in your output"
   ]
  },
  {
   "cell_type": "code",
   "execution_count": 72,
   "id": "3a47c2e1",
   "metadata": {},
   "outputs": [],
   "source": [
    "glossary={}\n",
    "glossary['string'] = 'A string is a data type in Python that holds sequence of characters.'\n",
    "glossary['list'] = 'List is a data structure and is used to store multiple items in a single variable.'\n",
    "glossary['list comperhension'] = 'List comprehension in Python is a compact syntax for creating a list from a string or another list.'\n",
    "glossary['immutable'] = 'In programming, if the value of an object cannot be changed over time, then it is known as immutable.'\n",
    "glossary['boolean'] = 'Boolean is a built-in data type in Python, which represents one of the two values True or False.'"
   ]
  },
  {
   "cell_type": "code",
   "execution_count": 78,
   "id": "34a1f72a",
   "metadata": {},
   "outputs": [
    {
     "name": "stdout",
     "output_type": "stream",
     "text": [
      "\n",
      "String: A string is a data type in Python that holds sequence of characters.\n",
      "\n",
      "List: List is a data structure and is used to store multiple items in a single variable.\n",
      "\n",
      "List Comperhension: List comprehension in Python is a compact syntax for creating a list from a string or another list.\n",
      "\n",
      "Immutable: In programming, if the value of an object cannot be changed over time, then it is known as immutable.\n",
      "\n",
      "Boolean: Boolean is a built-in data type in Python, which represents one of the two values True or False.\n"
     ]
    }
   ],
   "source": [
    "for word in glossary:\n",
    "    print(f\"\\n{word.title()}: {glossary[word]}\")"
   ]
  },
  {
   "cell_type": "markdown",
   "id": "131fc8a1",
   "metadata": {},
   "source": [
    "## Looping Through a Dictionary"
   ]
  },
  {
   "cell_type": "markdown",
   "id": "1aa443ba",
   "metadata": {},
   "source": [
    "### Looping Through All Key-Value Pairs"
   ]
  },
  {
   "cell_type": "code",
   "execution_count": 74,
   "id": "9cbe7d9e",
   "metadata": {},
   "outputs": [],
   "source": [
    "# user informations\n",
    "user_0 = {\n",
    " 'username': 'efermi',\n",
    " 'first': 'enrico',\n",
    " 'last': 'fermi',\n",
    " }"
   ]
  },
  {
   "cell_type": "code",
   "execution_count": 76,
   "id": "063b791b",
   "metadata": {
    "scrolled": true
   },
   "outputs": [
    {
     "name": "stdout",
     "output_type": "stream",
     "text": [
      "\n",
      "Key: username\n",
      "Value: efermi\n",
      "\n",
      "Key: first\n",
      "Value: enrico\n",
      "\n",
      "Key: last\n",
      "Value: fermi\n"
     ]
    }
   ],
   "source": [
    "for key, value in user_0.items():\n",
    "    print(f\"\\nKey: {key}\")\n",
    "    print(f\"Value: {value}\")"
   ]
  },
  {
   "cell_type": "markdown",
   "id": "2f187c6a",
   "metadata": {},
   "source": [
    "**Note:** The method items(), which returns a list of key-value \n",
    "pairs:"
   ]
  },
  {
   "cell_type": "code",
   "execution_count": 80,
   "id": "8ac80698",
   "metadata": {},
   "outputs": [
    {
     "data": {
      "text/plain": [
       "dict_items([('username', 'efermi'), ('first', 'enrico'), ('last', 'fermi')])"
      ]
     },
     "execution_count": 80,
     "metadata": {},
     "output_type": "execute_result"
    }
   ],
   "source": [
    "user_0.items()"
   ]
  },
  {
   "cell_type": "markdown",
   "id": "a0eee00c",
   "metadata": {},
   "source": [
    "### Looping Through All Keys"
   ]
  },
  {
   "cell_type": "code",
   "execution_count": 87,
   "id": "0613e610",
   "metadata": {},
   "outputs": [],
   "source": [
    "# favourite language poll\n",
    "favorite_languages = {\n",
    "    'jen': 'python',\n",
    "    'sarah': 'c',\n",
    "    'edward': 'ruby',\n",
    "    'phil': 'python',\n",
    "    }"
   ]
  },
  {
   "cell_type": "code",
   "execution_count": 104,
   "id": "e57715b3",
   "metadata": {},
   "outputs": [
    {
     "name": "stdout",
     "output_type": "stream",
     "text": [
      "Participants of the poll are:\n",
      "\n",
      "Edward\n",
      "Jen\n",
      "Phil\n",
      "Sarah\n"
     ]
    }
   ],
   "source": [
    "#using keys() method to print the participant names, alphabetically sorted\n",
    "print(\"Participants of the poll are:\\n\")\n",
    "for participant in sorted(favorite_languages.keys()):\n",
    "    print(participant.title())\n"
   ]
  },
  {
   "cell_type": "markdown",
   "id": "d5618f72",
   "metadata": {},
   "source": [
    "**Note:** The method **key()** returns a list of keys in a dictionary"
   ]
  },
  {
   "cell_type": "markdown",
   "id": "ae760a84",
   "metadata": {},
   "source": [
    "### Looping Through All Values in a Dictionary"
   ]
  },
  {
   "cell_type": "code",
   "execution_count": 105,
   "id": "d4526e26",
   "metadata": {},
   "outputs": [
    {
     "name": "stdout",
     "output_type": "stream",
     "text": [
      "Favorite languages chosen by participants are:\n",
      "Python\n",
      "C\n",
      "Ruby\n",
      "Python\n"
     ]
    }
   ],
   "source": [
    "#using values() method to print all languages chosen by participants:\n",
    "print(\"Favorite languages chosen by participants are:\")\n",
    "for language in favorite_languages.values():\n",
    "    print(language.title())"
   ]
  },
  {
   "cell_type": "markdown",
   "id": "91c70de7",
   "metadata": {},
   "source": [
    "**Note:** To avoid repetition of languages names, set() function can be used"
   ]
  },
  {
   "cell_type": "code",
   "execution_count": 106,
   "id": "7f4041f9",
   "metadata": {},
   "outputs": [
    {
     "name": "stdout",
     "output_type": "stream",
     "text": [
      "Favorite languages chosen by participants are:\n",
      "C\n",
      "Ruby\n",
      "Python\n"
     ]
    }
   ],
   "source": [
    "print(\"Favorite languages chosen by participants are:\")\n",
    "for language in set(favorite_languages.values()):\n",
    "    print(language.title())"
   ]
  },
  {
   "cell_type": "markdown",
   "id": "4ea30b4f",
   "metadata": {},
   "source": [
    "## Exercises"
   ]
  },
  {
   "cell_type": "markdown",
   "id": "a2faa5d6",
   "metadata": {},
   "source": [
    "**6-5. Rivers:** Make a dictionary containing three major rivers and the country \n",
    "each river runs through. One key-value pair might be 'nile': 'egypt'.\n",
    "- Use a loop to print a sentence about each river, such as The Nile runs \n",
    "through Egypt.\n",
    "- Use a loop to print the name of each river included in the dictionary.\n",
    "- Use a loop to print the name of each country included in the dictionary."
   ]
  },
  {
   "cell_type": "code",
   "execution_count": 111,
   "id": "2bb0e91f",
   "metadata": {},
   "outputs": [],
   "source": [
    "rivers={\n",
    "    'nile': 'egypt',\n",
    "    'amazon':'south amerika',\n",
    "    'mississippi': 'north amerika',\n",
    "}"
   ]
  },
  {
   "cell_type": "code",
   "execution_count": 112,
   "id": "f9b827b6",
   "metadata": {},
   "outputs": [
    {
     "name": "stdout",
     "output_type": "stream",
     "text": [
      "Nile runs through Egypt\n",
      "Amazon runs through South Amerika\n",
      "Mississippi runs through North Amerika\n"
     ]
    }
   ],
   "source": [
    "for key,value in rivers.items():\n",
    "    print(f\"{key.title()} runs through {value.title()}\")"
   ]
  },
  {
   "cell_type": "code",
   "execution_count": 114,
   "id": "aec709a1",
   "metadata": {},
   "outputs": [
    {
     "name": "stdout",
     "output_type": "stream",
     "text": [
      "Nile\n",
      "Amazon\n",
      "Mississippi\n"
     ]
    }
   ],
   "source": [
    "#rivers' name\n",
    "for river in rivers.keys():\n",
    "    print(river.title())"
   ]
  },
  {
   "cell_type": "code",
   "execution_count": 115,
   "id": "62b9dbae",
   "metadata": {},
   "outputs": [
    {
     "name": "stdout",
     "output_type": "stream",
     "text": [
      "Egypt\n",
      "South Amerika\n",
      "North Amerika\n"
     ]
    }
   ],
   "source": [
    "#country names\n",
    "for country in rivers.values():\n",
    "    print(country.title())"
   ]
  },
  {
   "cell_type": "markdown",
   "id": "11ddf398",
   "metadata": {},
   "source": [
    "**6-6. Polling:** Use the code in favorite_languages.\n",
    "- Make a list of people who should take the favorite languages poll. Include \n",
    "some names that are already in the dictionary and some that are not. \n",
    "- Loop through the list of people who should take the poll. If they have \n",
    "already taken the poll, print a message thanking them for responding. \n",
    "If they have not yet taken the poll, print a message inviting them to take \n",
    "the poll.\n"
   ]
  },
  {
   "cell_type": "code",
   "execution_count": 116,
   "id": "473f3aa0",
   "metadata": {},
   "outputs": [],
   "source": [
    "# favourite language poll\n",
    "favorite_languages = {\n",
    "    'jen': 'python',\n",
    "    'sarah': 'c',\n",
    "    'edward': 'ruby',\n",
    "    'phil': 'python',\n",
    "    }"
   ]
  },
  {
   "cell_type": "code",
   "execution_count": 120,
   "id": "ffc869cc",
   "metadata": {},
   "outputs": [],
   "source": [
    "#list of participants\n",
    "participants=['jen', 'harry', 'professor snape', 'ron', 'sarah']"
   ]
  },
  {
   "cell_type": "code",
   "execution_count": 121,
   "id": "9c0d74a0",
   "metadata": {},
   "outputs": [
    {
     "name": "stdout",
     "output_type": "stream",
     "text": [
      " Hi Jen!, Thanks for responding to the poll!\n",
      " Hi Harry!, Please take the poll!\n",
      " Hi Professor Snape!, Please take the poll!\n",
      " Hi Ron!, Please take the poll!\n",
      " Hi Sarah!, Thanks for responding to the poll!\n"
     ]
    }
   ],
   "source": [
    "for participant in participants:\n",
    "    if participant not in favorite_languages.keys():\n",
    "        print(f\" Hi {participant.title()}!, Please take the poll!\")\n",
    "    else:\n",
    "        print(f\" Hi {participant.title()}!, Thanks for responding to the poll!\")"
   ]
  },
  {
   "cell_type": "markdown",
   "id": "9f269b02",
   "metadata": {},
   "source": [
    "## Nesting"
   ]
  },
  {
   "cell_type": "markdown",
   "id": "ce2fe0a9",
   "metadata": {},
   "source": [
    "- We can nest dictionaries inside a list\n",
    "- a list of items inside a dictionary, \n",
    "- or even a dictionary inside \n",
    "another dictionary"
   ]
  },
  {
   "cell_type": "markdown",
   "id": "2cf9c21a",
   "metadata": {},
   "source": [
    "### A List of Dictionaries"
   ]
  },
  {
   "cell_type": "code",
   "execution_count": 122,
   "id": "e1729fb1",
   "metadata": {},
   "outputs": [],
   "source": [
    "# list of aliens in a pc game:\n",
    "alien_0 =  {'color': 'green', 'points': 5}\n",
    "alien_1 =  {'color': 'yellow', 'points': 10}\n",
    "alien_2 =  {'color': 'red', 'points': 15}\n",
    "\n",
    "aliens= [alien_0, alien_1, alien_2]"
   ]
  },
  {
   "cell_type": "markdown",
   "id": "2ce01cc9",
   "metadata": {},
   "source": [
    "### A List in a Dictionary"
   ]
  },
  {
   "cell_type": "code",
   "execution_count": 123,
   "id": "9dab9ace",
   "metadata": {},
   "outputs": [],
   "source": [
    "# favourite language poll\n",
    "favorite_languages = {\n",
    "    'jen': ['python', 'ruby'],\n",
    "    'sarah': ['c'],\n",
    "    'edward': ['ruby', 'go'],\n",
    "    'phil': ['python', 'haskell'],\n",
    "    }"
   ]
  },
  {
   "cell_type": "code",
   "execution_count": 137,
   "id": "6071b1bd",
   "metadata": {},
   "outputs": [
    {
     "name": "stdout",
     "output_type": "stream",
     "text": [
      " \n",
      " Jen's favorite languages are:\n",
      "python\n",
      "ruby\n",
      " \n",
      " Sarah's favorite language is:\n",
      "c\n",
      " \n",
      " Edward's favorite languages are:\n",
      "ruby\n",
      "go\n",
      " \n",
      " Phil's favorite languages are:\n",
      "python\n",
      "haskell\n"
     ]
    }
   ],
   "source": [
    "for name , languages in favorite_languages.items():\n",
    "    if len(languages) >1 :\n",
    "        print(f\" \\n {name.title()}'s favorite languages are:\")\n",
    "        for language in languages:\n",
    "            print(language)\n",
    "    else:\n",
    "        print(f\" \\n {name.title()}'s favorite language is:\")\n",
    "        for language in languages:\n",
    "            print(language)"
   ]
  },
  {
   "cell_type": "markdown",
   "id": "b6bc2d81",
   "metadata": {},
   "source": [
    "### A Dictionary in a Dictionary"
   ]
  },
  {
   "cell_type": "code",
   "execution_count": 143,
   "id": "b5a1ce94",
   "metadata": {},
   "outputs": [],
   "source": [
    "#users' information\n",
    "users= {\n",
    "    'happyblacksheep':{\n",
    "        'first':'fea',\n",
    "        'last': 'lindemann',\n",
    "        'location': 'berlin',\n",
    "         },\n",
    "    'irgendwer': {\n",
    "        'first':'mali', \n",
    "        'last': 'schneider', \n",
    "        'location': 'munich',\n",
    "         },\n",
    "}"
   ]
  },
  {
   "cell_type": "code",
   "execution_count": 144,
   "id": "30a26435",
   "metadata": {},
   "outputs": [
    {
     "name": "stdout",
     "output_type": "stream",
     "text": [
      "Username: happyblacksheep\n",
      "\tFull name: Fea Lindemann\n",
      "\tLocation: Berlin\n",
      "Username: irgendwer\n",
      "\tFull name: Mali Schneider\n",
      "\tLocation: Munich\n"
     ]
    }
   ],
   "source": [
    "for username, user_info in users.items():\n",
    "    print(f\"Username: {username}\")\n",
    "    print(f\"\\tFull name: {user_info['first'].title()} {user_info['last'].title()}\")\n",
    "    print(f\"\\tLocation: {user_info['location'].title()}\")"
   ]
  },
  {
   "cell_type": "markdown",
   "id": "fbd13ae8",
   "metadata": {},
   "source": [
    "## Exercises"
   ]
  },
  {
   "cell_type": "markdown",
   "id": "54efe1dd",
   "metadata": {},
   "source": [
    "**6-7. People:** Start with the program you wrote for Exercise 6-1 . \n",
    "Make two new dictionaries representing different people, and store all three \n",
    "dictionaries in a list called people. Loop through your list of people. As you \n",
    "loop through the list, print everything you know about each person."
   ]
  },
  {
   "cell_type": "code",
   "execution_count": 145,
   "id": "9fa21015",
   "metadata": {},
   "outputs": [],
   "source": [
    "person_1 = {\n",
    "    'first_name':'till',\n",
    "    'last_name': 'lindermann',\n",
    "    'age': 59,\n",
    "    'occupation':'singer'\n",
    "     }\n",
    "person_2 = {\n",
    "    'first_name':'christoph',\n",
    "    'last_name': 'schneider',\n",
    "    'age': 56,\n",
    "    'occupation':'musician'\n",
    "     }"
   ]
  },
  {
   "cell_type": "code",
   "execution_count": 146,
   "id": "33c51e87",
   "metadata": {},
   "outputs": [],
   "source": [
    "people= [person_1 , person_2]"
   ]
  },
  {
   "cell_type": "code",
   "execution_count": 153,
   "id": "c2666805",
   "metadata": {},
   "outputs": [
    {
     "name": "stdout",
     "output_type": "stream",
     "text": [
      "\n",
      "\n",
      "First_Name : Till\n",
      "Last_Name : Lindermann\n",
      "Age : 59\n",
      "Occupation : Singer\n",
      "\n",
      "\n",
      "First_Name : Christoph\n",
      "Last_Name : Schneider\n",
      "Age : 56\n",
      "Occupation : Musician\n"
     ]
    }
   ],
   "source": [
    "for person in people:\n",
    "    print(\"\\n\")\n",
    "    for key, value in person.items():\n",
    "        print(f\"{key.title()} : {str(value).title()}\")"
   ]
  },
  {
   "cell_type": "markdown",
   "id": "f8c2fd01",
   "metadata": {},
   "source": [
    "**6-9. Favorite Places:** Make a dictionary called favorite_places. Think of three \n",
    "names to use as keys in the dictionary, and store one to three favorite places \n",
    "for each person. To make this exercise a bit more interesting, ask some friends \n",
    "to name a few of their favorite places. Loop through the dictionary, and print \n",
    "each person’s name and their favorite places."
   ]
  },
  {
   "cell_type": "code",
   "execution_count": 159,
   "id": "b9f702b1",
   "metadata": {},
   "outputs": [],
   "source": [
    "friends_favorite_places= {\n",
    "    'Fea' : ['my house' , \"madison square\", \"mount damavand\"],\n",
    "    'Asen': ['my house' , 'art galeries' , 'gyms']\n",
    "}"
   ]
  },
  {
   "cell_type": "code",
   "execution_count": 162,
   "id": "76c705bb",
   "metadata": {},
   "outputs": [
    {
     "name": "stdout",
     "output_type": "stream",
     "text": [
      "Fea's favorite places are:\n",
      "\tMy House\n",
      "\tMadison Square\n",
      "\tMount Damavand\n",
      "Asen's favorite places are:\n",
      "\tMy House\n",
      "\tArt Galeries\n",
      "\tGyms\n"
     ]
    }
   ],
   "source": [
    "for name, places in friends_favorite_places.items():\n",
    "    print(f\"{name.title()}'s favorite places are:\")\n",
    "    for place in places:\n",
    "        print (f\"\\t{place.title()}\")"
   ]
  },
  {
   "cell_type": "markdown",
   "id": "ffeaf4d4",
   "metadata": {},
   "source": [
    "**6-11. Cities:** Make a dictionary called cities. Use the names of three cities as \n",
    "keys in your dictionary. Create a dictionary of information about each city and \n",
    "include the country that the city is in, its approximate population, and one fact \n",
    "about that city. The keys for each city’s dictionary should be something like \n",
    "country, population, and fact. Print the name of each city and all of the information you have stored about it."
   ]
  },
  {
   "cell_type": "code",
   "execution_count": 174,
   "id": "391fc8b1",
   "metadata": {},
   "outputs": [],
   "source": [
    "cities= {\n",
    "    'Tehran' :{\n",
    "        'country': 'iran',\n",
    "        'area' : \"730 km²\",\n",
    "        'population': '8.694 million',\n",
    "         },\n",
    "    'nuremberg' : {\n",
    "        'country': 'Germany',\n",
    "        'area' : \"186.5 km²\" ,\n",
    "        'population' : 518365, \n",
    "         },\n",
    "    } "
   ]
  },
  {
   "cell_type": "code",
   "execution_count": 175,
   "id": "931e22a7",
   "metadata": {},
   "outputs": [
    {
     "name": "stdout",
     "output_type": "stream",
     "text": [
      "Tehran:\n",
      "\tCountry: Iran\n",
      "\tArea: 730 Km²\n",
      "\tPopulation: 8.694 Million\n",
      "Nuremberg:\n",
      "\tCountry: Germany\n",
      "\tArea: 186.5 Km²\n",
      "\tPopulation: 518365\n"
     ]
    }
   ],
   "source": [
    "for city, informations in cities.items():\n",
    "    print(f\"{city.title()}:\")\n",
    "    for key, value in informations.items():\n",
    "        print(f\"\\t{key.title()}: {str(value).title()}\")\n",
    "       "
   ]
  }
 ],
 "metadata": {
  "kernelspec": {
   "display_name": "Python 3 (ipykernel)",
   "language": "python",
   "name": "python3"
  },
  "language_info": {
   "codemirror_mode": {
    "name": "ipython",
    "version": 3
   },
   "file_extension": ".py",
   "mimetype": "text/x-python",
   "name": "python",
   "nbconvert_exporter": "python",
   "pygments_lexer": "ipython3",
   "version": "3.9.12"
  }
 },
 "nbformat": 4,
 "nbformat_minor": 5
}
