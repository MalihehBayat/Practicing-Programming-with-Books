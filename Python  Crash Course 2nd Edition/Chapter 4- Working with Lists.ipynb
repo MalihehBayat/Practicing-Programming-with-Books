{
 "cells": [
  {
   "cell_type": "markdown",
   "id": "653fb71a",
   "metadata": {},
   "source": [
    "# Chapter 4: Working with Lists"
   ]
  },
  {
   "cell_type": "markdown",
   "id": "c4ab8362",
   "metadata": {},
   "source": [
    "## Looping Through an Entire List\n"
   ]
  },
  {
   "cell_type": "code",
   "execution_count": 2,
   "id": "21f0e0d5",
   "metadata": {},
   "outputs": [],
   "source": [
    "harry_potter_book_series= ['Harry Potter and the Philosopher’s Stone', 'Harry Potter and the Chamber of Secrets',\n",
    "                          'Harry Potter and the Prisoner of Azkaban', 'Harry Potter and the Goblet of Fire', 'Harry Potter and the Order of the Phoenix',\n",
    "                          'Harry Potter and the Half-Blood Prince', 'Harry Potter and the Deathly Hallows']"
   ]
  },
  {
   "cell_type": "code",
   "execution_count": 3,
   "id": "92caf503",
   "metadata": {},
   "outputs": [
    {
     "name": "stdout",
     "output_type": "stream",
     "text": [
      "Harry Potter and the Philosopher’s Stone\n",
      "Harry Potter and the Chamber of Secrets\n",
      "Harry Potter and the Prisoner of Azkaban\n",
      "Harry Potter and the Goblet of Fire\n",
      "Harry Potter and the Order of the Phoenix\n",
      "Harry Potter and the Half-Blood Prince\n",
      "Harry Potter and the Deathly Hallows\n"
     ]
    }
   ],
   "source": [
    "for book in harry_potter_book_series:\n",
    "    print(book)"
   ]
  },
  {
   "cell_type": "markdown",
   "id": "d8d61e02",
   "metadata": {},
   "source": [
    "In every iteration, Python retrieve the value from the list \"harry_potter_book_series\", \n",
    "and associate it with the variable \"book\", and complete the task that is declared in the loop.  "
   ]
  },
  {
   "cell_type": "code",
   "execution_count": 5,
   "id": "d0d253dd",
   "metadata": {},
   "outputs": [],
   "source": [
    "ordinal_numbers= ['1st', '2nd', '3rd', '4th', '5th', '6th', '7th']"
   ]
  },
  {
   "cell_type": "code",
   "execution_count": 14,
   "id": "9221e594",
   "metadata": {},
   "outputs": [
    {
     "name": "stdout",
     "output_type": "stream",
     "text": [
      "'Harry Potter and the Philosopher’s Stone' was the 1st book of Harry potter book series\n",
      "'Harry Potter and the Chamber of Secrets' was the 2nd book of Harry potter book series\n",
      "'Harry Potter and the Prisoner of Azkaban' was the 3rd book of Harry potter book series\n",
      "'Harry Potter and the Goblet of Fire' was the 4th book of Harry potter book series\n",
      "'Harry Potter and the Order of the Phoenix' was the 5th book of Harry potter book series\n",
      "'Harry Potter and the Half-Blood Prince' was the 6th book of Harry potter book series\n",
      "'Harry Potter and the Deathly Hallows' was the 7th book of Harry potter book series\n"
     ]
    }
   ],
   "source": [
    "for number, book in zip(ordinal_numbers, harry_potter_book_series):\n",
    "    print(f\"'{book}' was the {number} book of Harry potter book series\")"
   ]
  },
  {
   "cell_type": "markdown",
   "id": "88c649bc",
   "metadata": {},
   "source": [
    "### Doing More Work Within a for Loop"
   ]
  },
  {
   "cell_type": "code",
   "execution_count": 15,
   "id": "2f597b5b",
   "metadata": {},
   "outputs": [],
   "source": [
    "magicians = ['alice', 'david', 'carolina'] "
   ]
  },
  {
   "cell_type": "code",
   "execution_count": 18,
   "id": "0972cddc",
   "metadata": {},
   "outputs": [
    {
     "name": "stdout",
     "output_type": "stream",
     "text": [
      "Alice was a great trick!\n",
      "David was a great trick!\n",
      "Carolina was a great trick!\n"
     ]
    }
   ],
   "source": [
    "for magician in magicians:\n",
    "    print(f\"{magician.title()} was a great trick!\")"
   ]
  },
  {
   "cell_type": "code",
   "execution_count": 20,
   "id": "99602210",
   "metadata": {},
   "outputs": [
    {
     "name": "stdout",
     "output_type": "stream",
     "text": [
      "Alice was a great trick!\n",
      "I can't wait to see your next trick, Alice.\n",
      "\n",
      "David was a great trick!\n",
      "I can't wait to see your next trick, David.\n",
      "\n",
      "Carolina was a great trick!\n",
      "I can't wait to see your next trick, Carolina.\n",
      "\n"
     ]
    }
   ],
   "source": [
    "#inserting a blank line after each iteration through the loop\n",
    "for magician in magicians:\n",
    "    print(f\"{magician.title()} was a great trick!\")\n",
    "    print(f\"I can't wait to see your next trick, {magician.title()}.\\n\")"
   ]
  },
  {
   "cell_type": "markdown",
   "id": "291fecbf",
   "metadata": {},
   "source": [
    "## Making Numerical Lists"
   ]
  },
  {
   "cell_type": "markdown",
   "id": "4ed6029d",
   "metadata": {},
   "source": [
    "### Using the range() Function"
   ]
  },
  {
   "cell_type": "markdown",
   "id": "3bbea397",
   "metadata": {},
   "source": [
    "Python range() function makes it easy to generate a series of numbers"
   ]
  },
  {
   "cell_type": "code",
   "execution_count": 22,
   "id": "93be2132",
   "metadata": {},
   "outputs": [
    {
     "name": "stdout",
     "output_type": "stream",
     "text": [
      "1\n",
      "2\n",
      "3\n",
      "4\n"
     ]
    }
   ],
   "source": [
    "for value in range(1,5):\n",
    "    print(value)"
   ]
  },
  {
   "cell_type": "markdown",
   "id": "0cd05a47",
   "metadata": {},
   "source": [
    "#### Using range() to Make a List of Numbers"
   ]
  },
  {
   "cell_type": "code",
   "execution_count": 27,
   "id": "09603166",
   "metadata": {},
   "outputs": [],
   "source": [
    "# list() function converts the set of numbers into a list\n",
    "numbers=list(range(1,6))"
   ]
  },
  {
   "cell_type": "code",
   "execution_count": 28,
   "id": "7c0807de",
   "metadata": {},
   "outputs": [
    {
     "data": {
      "text/plain": [
       "[1, 2, 3, 4, 5]"
      ]
     },
     "execution_count": 28,
     "metadata": {},
     "output_type": "execute_result"
    }
   ],
   "source": [
    "numbers"
   ]
  },
  {
   "cell_type": "markdown",
   "id": "30a9d677",
   "metadata": {},
   "source": [
    "**Note:** We can also use the range() function to tell Python to skip numbers in a \n",
    "given range. If you pass a third argument to range(), Python uses that value \n",
    "as a step size when generating numbers."
   ]
  },
  {
   "cell_type": "code",
   "execution_count": 31,
   "id": "fa8cb603",
   "metadata": {},
   "outputs": [],
   "source": [
    "even_numbers= list(range(2,9,2))"
   ]
  },
  {
   "cell_type": "code",
   "execution_count": 32,
   "id": "71f4415a",
   "metadata": {},
   "outputs": [
    {
     "data": {
      "text/plain": [
       "[2, 4, 6, 8]"
      ]
     },
     "execution_count": 32,
     "metadata": {},
     "output_type": "execute_result"
    }
   ],
   "source": [
    "even_numbers"
   ]
  },
  {
   "cell_type": "code",
   "execution_count": 35,
   "id": "41b173b2",
   "metadata": {},
   "outputs": [
    {
     "name": "stdout",
     "output_type": "stream",
     "text": [
      "[0, 1, 4, 9, 16, 25, 36, 49, 64, 81, 100]\n"
     ]
    }
   ],
   "source": [
    "# creating a list of the first 10 square numbers\n",
    "squares=[]\n",
    "for num in range(11):\n",
    "    squared_num= num**2\n",
    "    squares.append(squared_num)\n",
    "print(squares)"
   ]
  },
  {
   "cell_type": "code",
   "execution_count": 37,
   "id": "6582a0e2",
   "metadata": {},
   "outputs": [
    {
     "name": "stdout",
     "output_type": "stream",
     "text": [
      "[0, 1, 4, 9, 16, 25, 36, 49, 64, 81, 100]\n"
     ]
    }
   ],
   "source": [
    "# to write the above code more concisely:\n",
    "squares=[]\n",
    "for num in range(11):\n",
    "    squares.append(num**2)\n",
    "print(squares)"
   ]
  },
  {
   "cell_type": "markdown",
   "id": "34183a4a",
   "metadata": {},
   "source": [
    "## List Comprehensions"
   ]
  },
  {
   "cell_type": "markdown",
   "id": "057bb125",
   "metadata": {},
   "source": [
    "- A list comprehension allows us to generate lists in just one line of code. <br>\n",
    "- A list comprehension combines the for loop and the creation of new elements into one line, and automatically \n",
    "appends each new element\n"
   ]
  },
  {
   "cell_type": "code",
   "execution_count": 40,
   "id": "3d943675",
   "metadata": {},
   "outputs": [
    {
     "data": {
      "text/plain": [
       "[0, 1, 4, 9, 16, 25, 36, 49, 64, 81, 100]"
      ]
     },
     "execution_count": 40,
     "metadata": {},
     "output_type": "execute_result"
    }
   ],
   "source": [
    "squares= [num**2 for num in range(11)]\n",
    "squares"
   ]
  },
  {
   "cell_type": "markdown",
   "id": "a3bae03b",
   "metadata": {},
   "source": [
    "\n",
    "## Exercises"
   ]
  },
  {
   "cell_type": "markdown",
   "id": "678cca0a",
   "metadata": {},
   "source": [
    "\n",
    "**4-3. Counting to Twenty:**  Use a for loop to print the numbers from 1 to 10, \n",
    "inclusive."
   ]
  },
  {
   "cell_type": "code",
   "execution_count": 47,
   "id": "d1986549",
   "metadata": {},
   "outputs": [
    {
     "name": "stdout",
     "output_type": "stream",
     "text": [
      "1\n",
      "2\n",
      "3\n",
      "4\n",
      "5\n",
      "6\n",
      "7\n",
      "8\n",
      "9\n",
      "10\n"
     ]
    }
   ],
   "source": [
    "for num in range(1,11):\n",
    "    print(num)"
   ]
  },
  {
   "cell_type": "markdown",
   "id": "fa366f15",
   "metadata": {},
   "source": [
    "**4-4. One Million:** Make a list of the numbers from one to one million, and then \n",
    "use a for loop to print the numbers. (If the output is taking too long, stop it by \n",
    "pressing ctrl-C or by closing the output window.)"
   ]
  },
  {
   "cell_type": "code",
   "execution_count": 51,
   "id": "fb550179",
   "metadata": {},
   "outputs": [],
   "source": [
    "one_to_million= list(range(1,1000_001))\n",
    "#for num in one_to_million:\n",
    "    #print(num)"
   ]
  },
  {
   "cell_type": "markdown",
   "id": "30c25645",
   "metadata": {},
   "source": [
    "**4-5. Summing a Million:** Make a list of the numbers from one to one million, \n",
    "and then use min() and max() to make sure your list actually starts at one and \n",
    "ends at one million. Also, use the sum() function to see how quickly Python can \n",
    "add a million numbers."
   ]
  },
  {
   "cell_type": "code",
   "execution_count": 52,
   "id": "afa3ed7e",
   "metadata": {},
   "outputs": [
    {
     "name": "stdout",
     "output_type": "stream",
     "text": [
      "1\n",
      "1000000\n",
      "500000500000\n"
     ]
    }
   ],
   "source": [
    "one_to_million= list(range(1,1000_001))\n",
    "print(min(one_to_million))\n",
    "print(max(one_to_million))\n",
    "print(sum(one_to_million))"
   ]
  },
  {
   "cell_type": "markdown",
   "id": "303e9f39",
   "metadata": {},
   "source": [
    "**4-6. Odd Numbers:** Use the third argument of the range() function to make a \n",
    "list of the odd numbers from 1 to 20. Use a for loop to print each number."
   ]
  },
  {
   "cell_type": "code",
   "execution_count": 53,
   "id": "041ea3c1",
   "metadata": {},
   "outputs": [
    {
     "name": "stdout",
     "output_type": "stream",
     "text": [
      "1\n",
      "3\n",
      "5\n",
      "7\n",
      "9\n",
      "11\n",
      "13\n",
      "15\n",
      "17\n",
      "19\n"
     ]
    }
   ],
   "source": [
    "odd_numbers= list(range(1,20,2))\n",
    "for num in odd_numbers:\n",
    "    print(num)"
   ]
  },
  {
   "cell_type": "markdown",
   "id": "b93dfcd5",
   "metadata": {},
   "source": [
    "**4-7. Threes:** Make a list of the multiples of 3 from 3 to 30. Use a for loop to \n",
    "print the numbers in your list."
   ]
  },
  {
   "cell_type": "code",
   "execution_count": 54,
   "id": "2db6393c",
   "metadata": {},
   "outputs": [],
   "source": [
    "threes=[]\n",
    "for num in range(1,11):\n",
    "    threes.append(num*3)"
   ]
  },
  {
   "cell_type": "code",
   "execution_count": 56,
   "id": "15e89c4c",
   "metadata": {},
   "outputs": [
    {
     "name": "stdout",
     "output_type": "stream",
     "text": [
      "3\n",
      "6\n",
      "9\n",
      "12\n",
      "15\n",
      "18\n",
      "21\n",
      "24\n",
      "27\n",
      "30\n"
     ]
    }
   ],
   "source": [
    "for num in threes:\n",
    "    print(num)"
   ]
  },
  {
   "cell_type": "markdown",
   "id": "22523777",
   "metadata": {},
   "source": [
    "**4-8. Cubes:** A number raised to the third power is called a cube. For example, \n",
    "the cube of 2 is written as 2**3 in Python. Make a list of the first 10 cubes (that \n",
    "is, the cube of each integer from 1 through 10), and use a for loop to print out \n",
    "the value of each cube."
   ]
  },
  {
   "cell_type": "code",
   "execution_count": 57,
   "id": "23c714ad",
   "metadata": {},
   "outputs": [],
   "source": [
    "cubes=[]\n",
    "for num in range(1,11):\n",
    "    cubes.append(num**3)"
   ]
  },
  {
   "cell_type": "code",
   "execution_count": 59,
   "id": "ec72ebb0",
   "metadata": {},
   "outputs": [
    {
     "name": "stdout",
     "output_type": "stream",
     "text": [
      "1\n",
      "8\n",
      "27\n",
      "64\n",
      "125\n",
      "216\n",
      "343\n",
      "512\n",
      "729\n",
      "1000\n"
     ]
    }
   ],
   "source": [
    "for num in cubes:\n",
    "    print(num)"
   ]
  },
  {
   "cell_type": "markdown",
   "id": "c442b3a4",
   "metadata": {},
   "source": [
    "**4-9. Cube Comprehension:** Use a list comprehension to generate a list of the \n",
    "first 10 cubes"
   ]
  },
  {
   "cell_type": "code",
   "execution_count": 60,
   "id": "18655974",
   "metadata": {},
   "outputs": [
    {
     "data": {
      "text/plain": [
       "[1, 8, 27, 64, 125, 216, 343, 512, 729, 1000]"
      ]
     },
     "execution_count": 60,
     "metadata": {},
     "output_type": "execute_result"
    }
   ],
   "source": [
    "cubes=[num**3 for num in range(1,11)]\n",
    "cubes"
   ]
  },
  {
   "cell_type": "markdown",
   "id": "ffb46c8e",
   "metadata": {},
   "source": [
    "## Working with Part of a List"
   ]
  },
  {
   "cell_type": "markdown",
   "id": "b59513f2",
   "metadata": {},
   "source": [
    "### Slicing a List"
   ]
  },
  {
   "cell_type": "code",
   "execution_count": 61,
   "id": "362083a5",
   "metadata": {},
   "outputs": [
    {
     "data": {
      "text/plain": [
       "['martina', 'michael']"
      ]
     },
     "execution_count": 61,
     "metadata": {},
     "output_type": "execute_result"
    }
   ],
   "source": [
    "players= ['charles', 'martina', 'michael', 'florence', 'eli']\n",
    "players[1:3]"
   ]
  },
  {
   "cell_type": "markdown",
   "id": "2868d356",
   "metadata": {},
   "source": [
    "**Note:** Like range() function, Python stops one item \n",
    "before the second index we specify"
   ]
  },
  {
   "cell_type": "code",
   "execution_count": 63,
   "id": "a878f127",
   "metadata": {},
   "outputs": [
    {
     "data": {
      "text/plain": [
       "['charles', 'martina', 'michael', 'florence']"
      ]
     },
     "execution_count": 63,
     "metadata": {},
     "output_type": "execute_result"
    }
   ],
   "source": [
    "players[:4]"
   ]
  },
  {
   "cell_type": "code",
   "execution_count": 64,
   "id": "944ef819",
   "metadata": {},
   "outputs": [
    {
     "data": {
      "text/plain": [
       "['michael', 'florence', 'eli']"
      ]
     },
     "execution_count": 64,
     "metadata": {},
     "output_type": "execute_result"
    }
   ],
   "source": [
    "players[2:]"
   ]
  },
  {
   "cell_type": "code",
   "execution_count": 66,
   "id": "8f575599",
   "metadata": {},
   "outputs": [
    {
     "data": {
      "text/plain": [
       "['michael', 'florence', 'eli']"
      ]
     },
     "execution_count": 66,
     "metadata": {},
     "output_type": "execute_result"
    }
   ],
   "source": [
    "#getting the last 3 elements of the list\n",
    "players[-3:]"
   ]
  },
  {
   "cell_type": "markdown",
   "id": "772a9307",
   "metadata": {},
   "source": [
    "**Note:** A third value in the brackets indicating a slice can be passed. If a third value is \n",
    "included, this tells Python how many items to skip between items in the specified \n",
    "range. the syntax is: [start:stop:step]"
   ]
  },
  {
   "cell_type": "code",
   "execution_count": 90,
   "id": "ad63f677",
   "metadata": {},
   "outputs": [],
   "source": [
    "numbers = list(range(1,21))"
   ]
  },
  {
   "cell_type": "code",
   "execution_count": 92,
   "id": "4a1352b8",
   "metadata": {},
   "outputs": [
    {
     "data": {
      "text/plain": [
       "[2, 4, 6, 8, 10, 12, 14, 16, 18]"
      ]
     },
     "execution_count": 92,
     "metadata": {},
     "output_type": "execute_result"
    }
   ],
   "source": [
    "even_numbers=numbers[1:-1:2]\n",
    "even_numbers"
   ]
  },
  {
   "cell_type": "markdown",
   "id": "e5ebc3e5",
   "metadata": {},
   "source": [
    "### Looping Through a Slice"
   ]
  },
  {
   "cell_type": "code",
   "execution_count": 94,
   "id": "cdb768dd",
   "metadata": {},
   "outputs": [
    {
     "name": "stdout",
     "output_type": "stream",
     "text": [
      "[4, 16, 36, 64, 100, 144, 196, 256, 324]\n"
     ]
    }
   ],
   "source": [
    "squares=[]\n",
    "for num in numbers[1:-1:2]:\n",
    "    squares.append(num**2)\n",
    "print(squares)   "
   ]
  },
  {
   "cell_type": "markdown",
   "id": "89b7641d",
   "metadata": {},
   "source": [
    "## Copying a List"
   ]
  },
  {
   "cell_type": "markdown",
   "id": "bacfd1e1",
   "metadata": {},
   "source": [
    "<font color=#FF0000>The wrong way:</font>."
   ]
  },
  {
   "cell_type": "code",
   "execution_count": 96,
   "id": "6d78236c",
   "metadata": {},
   "outputs": [],
   "source": [
    "my_foods = ['pizza', 'falafel', 'carrot cake']\n",
    "friend_foods=my_foods"
   ]
  },
  {
   "cell_type": "markdown",
   "id": "ebbdbd48",
   "metadata": {},
   "source": [
    "**Note:** The above syntax actually tells Python to associate \n",
    "the new variable friend_foods with the list that is already associated with \n",
    "my_foods, so now both variables point to the same list.<br>\n",
    "To prove that these two variables point to a same list, we'll try to append a new item to my_foods. As we can see in the below codes, the new item appears in both \"my_foods\" and \"friend_foods\". "
   ]
  },
  {
   "cell_type": "code",
   "execution_count": 97,
   "id": "be72e959",
   "metadata": {},
   "outputs": [],
   "source": [
    "my_foods.append(\"ice cream\")"
   ]
  },
  {
   "cell_type": "code",
   "execution_count": 98,
   "id": "ffe7f22a",
   "metadata": {},
   "outputs": [
    {
     "data": {
      "text/plain": [
       "['pizza', 'falafel', 'carrot cake', 'ice cream']"
      ]
     },
     "execution_count": 98,
     "metadata": {},
     "output_type": "execute_result"
    }
   ],
   "source": [
    "my_foods\n"
   ]
  },
  {
   "cell_type": "code",
   "execution_count": 99,
   "id": "96bbc21a",
   "metadata": {},
   "outputs": [
    {
     "data": {
      "text/plain": [
       "['pizza', 'falafel', 'carrot cake', 'ice cream']"
      ]
     },
     "execution_count": 99,
     "metadata": {},
     "output_type": "execute_result"
    }
   ],
   "source": [
    "friend_foods"
   ]
  },
  {
   "cell_type": "markdown",
   "id": "69b1b71c",
   "metadata": {},
   "source": [
    "<font color=green>The right way:</font>"
   ]
  },
  {
   "cell_type": "code",
   "execution_count": 101,
   "id": "77694010",
   "metadata": {},
   "outputs": [],
   "source": [
    "my_foods = ['pizza', 'falafel', 'carrot cake']\n",
    "friend_foods= my_foods[:]"
   ]
  },
  {
   "cell_type": "markdown",
   "id": "8a543981",
   "metadata": {},
   "source": [
    "## Tuples"
   ]
  },
  {
   "cell_type": "markdown",
   "id": "118caba7",
   "metadata": {},
   "source": [
    "sometimes you’ll want to create a list of items that cannot \n",
    "change. Tuples allow you to do just that."
   ]
  },
  {
   "cell_type": "markdown",
   "id": "4a343aa8",
   "metadata": {},
   "source": [
    "### Defining a Tuple"
   ]
  },
  {
   "cell_type": "markdown",
   "id": "1d30aac8",
   "metadata": {},
   "source": [
    "Tuples are technically defined by the presence of a comma; the parentheses make them \n",
    "look neater and more readable. To define a tuple with one element, you \n",
    "need to include a trailing comma:"
   ]
  },
  {
   "cell_type": "code",
   "execution_count": 104,
   "id": "650e5201",
   "metadata": {},
   "outputs": [
    {
     "data": {
      "text/plain": [
       "tuple"
      ]
     },
     "execution_count": 104,
     "metadata": {},
     "output_type": "execute_result"
    }
   ],
   "source": [
    "my_t= (3,)\n",
    "type(my_t)"
   ]
  },
  {
   "cell_type": "markdown",
   "id": "f2920bbb",
   "metadata": {},
   "source": [
    "### Looping Through All Values in a Tuple"
   ]
  },
  {
   "cell_type": "code",
   "execution_count": 106,
   "id": "86428719",
   "metadata": {},
   "outputs": [
    {
     "name": "stdout",
     "output_type": "stream",
     "text": [
      "1\n",
      "200\n"
     ]
    }
   ],
   "source": [
    "dimensions= (1,200)\n",
    "for dimension in dimensions:\n",
    "    print(dimension)"
   ]
  },
  {
   "cell_type": "markdown",
   "id": "cc850c53",
   "metadata": {},
   "source": [
    "### Writing over a Tuple"
   ]
  },
  {
   "cell_type": "markdown",
   "id": "5e95622e",
   "metadata": {},
   "source": [
    "Although tuples are immutable, we can assign a new value to a variable \n",
    "that represents a tuple. So if we wanted to change our dimensions, we could \n",
    "redefine the entire tuple:"
   ]
  },
  {
   "cell_type": "code",
   "execution_count": 107,
   "id": "f266f91a",
   "metadata": {},
   "outputs": [],
   "source": [
    "\n",
    "dimensions=(200,400)"
   ]
  },
  {
   "cell_type": "code",
   "execution_count": 108,
   "id": "edf13594",
   "metadata": {},
   "outputs": [
    {
     "data": {
      "text/plain": [
       "(200, 400)"
      ]
     },
     "execution_count": 108,
     "metadata": {},
     "output_type": "execute_result"
    }
   ],
   "source": [
    "dimensions"
   ]
  }
 ],
 "metadata": {
  "kernelspec": {
   "display_name": "Python 3 (ipykernel)",
   "language": "python",
   "name": "python3"
  },
  "language_info": {
   "codemirror_mode": {
    "name": "ipython",
    "version": 3
   },
   "file_extension": ".py",
   "mimetype": "text/x-python",
   "name": "python",
   "nbconvert_exporter": "python",
   "pygments_lexer": "ipython3",
   "version": "3.9.12"
  }
 },
 "nbformat": 4,
 "nbformat_minor": 5
}
