{
 "cells": [
  {
   "cell_type": "markdown",
   "id": "bc9bf95e",
   "metadata": {},
   "source": [
    "# Chapter 2: Variables and Simple Data Types\n"
   ]
  },
  {
   "cell_type": "markdown",
   "id": "bba42808",
   "metadata": {},
   "source": [
    "## Strings"
   ]
  },
  {
   "cell_type": "markdown",
   "id": "f093b6a8",
   "metadata": {},
   "source": [
    "A string is a series of characters. Anything **inside quotes** is considered \n",
    "a string in Python"
   ]
  },
  {
   "cell_type": "markdown",
   "id": "cbcce7c0",
   "metadata": {},
   "source": [
    "### Changing Case in a String with Methods"
   ]
  },
  {
   "cell_type": "code",
   "execution_count": 23,
   "id": "867fd0a6",
   "metadata": {},
   "outputs": [],
   "source": [
    "name= 'till lindemann'"
   ]
  },
  {
   "cell_type": "code",
   "execution_count": 24,
   "id": "264c581c",
   "metadata": {},
   "outputs": [
    {
     "data": {
      "text/plain": [
       "'Till Lindemann'"
      ]
     },
     "execution_count": 24,
     "metadata": {},
     "output_type": "execute_result"
    }
   ],
   "source": [
    "#The title() method changes each word to title case:\n",
    "name.title()"
   ]
  },
  {
   "cell_type": "code",
   "execution_count": 25,
   "id": "5c613acd",
   "metadata": {},
   "outputs": [
    {
     "data": {
      "text/plain": [
       "'TILL LINDEMANN'"
      ]
     },
     "execution_count": 25,
     "metadata": {},
     "output_type": "execute_result"
    }
   ],
   "source": [
    "name.upper()"
   ]
  },
  {
   "cell_type": "code",
   "execution_count": 26,
   "id": "8d0638b5",
   "metadata": {},
   "outputs": [
    {
     "data": {
      "text/plain": [
       "'till lindemann'"
      ]
     },
     "execution_count": 26,
     "metadata": {},
     "output_type": "execute_result"
    }
   ],
   "source": [
    "#The lower() method is particularly useful for storing data\n",
    "name.lower()"
   ]
  },
  {
   "cell_type": "markdown",
   "id": "dbaf4dff",
   "metadata": {},
   "source": [
    "### Using Variables in Strings"
   ]
  },
  {
   "cell_type": "markdown",
   "id": "806cbe25",
   "metadata": {},
   "source": [
    "#### using F-strings:"
   ]
  },
  {
   "cell_type": "code",
   "execution_count": 27,
   "id": "a0c90cb7",
   "metadata": {},
   "outputs": [
    {
     "name": "stdout",
     "output_type": "stream",
     "text": [
      "Till Lindemann\n"
     ]
    }
   ],
   "source": [
    "first_name='till'\n",
    "last_name= 'lindemann'\n",
    "# formatting strings with F-Strings:\n",
    "full_name= f\"{first_name} {last_name}\"\n",
    "print(full_name.title())"
   ]
  },
  {
   "cell_type": "markdown",
   "id": "0a333a08",
   "metadata": {},
   "source": [
    "#### Using format() method:"
   ]
  },
  {
   "cell_type": "markdown",
   "id": "c0fac689",
   "metadata": {},
   "source": [
    "F-strings were first introduced in Python 3.6. For Python 3.5 or earlier, \n",
    "we’ll need to use the format() method rather than this f syntax."
   ]
  },
  {
   "cell_type": "code",
   "execution_count": 28,
   "id": "71933b2a",
   "metadata": {},
   "outputs": [
    {
     "name": "stdout",
     "output_type": "stream",
     "text": [
      "Till Lindemann\n"
     ]
    }
   ],
   "source": [
    "# formatting strings with format() method:\n",
    "full_name= \"{} {}\". format(first_name , last_name)\n",
    "print(full_name.title())"
   ]
  },
  {
   "cell_type": "markdown",
   "id": "6c860a13",
   "metadata": {},
   "source": [
    "### Adding Whitespace to Strings with Tabs or Newlines"
   ]
  },
  {
   "cell_type": "code",
   "execution_count": 20,
   "id": "535590f0",
   "metadata": {},
   "outputs": [
    {
     "name": "stdout",
     "output_type": "stream",
     "text": [
      "\tPython\n"
     ]
    }
   ],
   "source": [
    "#To add a tab to your text: \\t\n",
    "print(\"\\tPython\")"
   ]
  },
  {
   "cell_type": "code",
   "execution_count": 22,
   "id": "06288797",
   "metadata": {},
   "outputs": [
    {
     "name": "stdout",
     "output_type": "stream",
     "text": [
      "First name: Till \n",
      "Last name:Lindemann\n"
     ]
    }
   ],
   "source": [
    "# To add a new line in a string: \\n\n",
    "print(\"First name: Till \\nLast name:Lindemann\")"
   ]
  },
  {
   "cell_type": "code",
   "execution_count": 30,
   "id": "67a21761",
   "metadata": {},
   "outputs": [
    {
     "name": "stdout",
     "output_type": "stream",
     "text": [
      "\tFirst name: Till \n",
      "\tLast name:Lindemann\n"
     ]
    }
   ],
   "source": [
    "# To combine tabs and newlines in a string : \\n\\t\n",
    "print(\"\\tFirst name: Till \\n\\tLast name:Lindemann\")"
   ]
  },
  {
   "cell_type": "markdown",
   "id": "eb90349d",
   "metadata": {},
   "source": [
    "### Stripping Whitespace"
   ]
  },
  {
   "cell_type": "code",
   "execution_count": 35,
   "id": "3b2eb695",
   "metadata": {},
   "outputs": [],
   "source": [
    "# define a varibale that contains whitespace at the right and left\n",
    "name= ' Till Lindemann '\n"
   ]
  },
  {
   "cell_type": "markdown",
   "id": "eb04392a",
   "metadata": {},
   "source": [
    "Python detects the extra space and \n",
    "considers it significant unless we tell it otherwise"
   ]
  },
  {
   "cell_type": "code",
   "execution_count": 36,
   "id": "2f26676d",
   "metadata": {},
   "outputs": [
    {
     "data": {
      "text/plain": [
       "' Till Lindemann'"
      ]
     },
     "execution_count": 36,
     "metadata": {},
     "output_type": "execute_result"
    }
   ],
   "source": [
    "#To ensure that no whitespace exists at the right end of a string:\n",
    "name.rstrip()"
   ]
  },
  {
   "cell_type": "code",
   "execution_count": 37,
   "id": "fd1a5d97",
   "metadata": {},
   "outputs": [
    {
     "data": {
      "text/plain": [
       "'Till Lindemann '"
      ]
     },
     "execution_count": 37,
     "metadata": {},
     "output_type": "execute_result"
    }
   ],
   "source": [
    "#To ensure that no whitespace exists at the left end of a string\n",
    "name.lstrip()"
   ]
  },
  {
   "cell_type": "code",
   "execution_count": 38,
   "id": "e2da7346",
   "metadata": {},
   "outputs": [
    {
     "data": {
      "text/plain": [
       "'Till Lindemann'"
      ]
     },
     "execution_count": 38,
     "metadata": {},
     "output_type": "execute_result"
    }
   ],
   "source": [
    "#To ensure that no whitespace exists at both sides at once:\n",
    "name.strip()"
   ]
  },
  {
   "cell_type": "markdown",
   "id": "ddb072d3",
   "metadata": {},
   "source": [
    "## Numbers"
   ]
  },
  {
   "cell_type": "markdown",
   "id": "277b8c5f",
   "metadata": {},
   "source": [
    "### Integers and Floats\n",
    "When dividing any two numbers, even if they are integers that result in a \n",
    "whole number, the resulut is always a float:"
   ]
  },
  {
   "cell_type": "code",
   "execution_count": 6,
   "id": "6384b001",
   "metadata": {},
   "outputs": [
    {
     "data": {
      "text/plain": [
       "float"
      ]
     },
     "execution_count": 6,
     "metadata": {},
     "output_type": "execute_result"
    }
   ],
   "source": [
    "a= 12\n",
    "b= 4\n",
    "c=12/4\n",
    "type(c)"
   ]
  },
  {
   "cell_type": "markdown",
   "id": "7d210a1a",
   "metadata": {},
   "source": [
    "### Underscores in Numbers"
   ]
  },
  {
   "cell_type": "markdown",
   "id": "9696689b",
   "metadata": {},
   "source": [
    "When writing long numbers, we can group digits using underscores \n",
    "to make large numbers more readable:"
   ]
  },
  {
   "cell_type": "code",
   "execution_count": 9,
   "id": "05a69d86",
   "metadata": {},
   "outputs": [
    {
     "name": "stdout",
     "output_type": "stream",
     "text": [
      "10000000000\n"
     ]
    },
    {
     "data": {
      "text/plain": [
       "int"
      ]
     },
     "execution_count": 9,
     "metadata": {},
     "output_type": "execute_result"
    }
   ],
   "source": [
    "number= 10_000_000_000\n",
    "print(number)\n",
    "type(number)"
   ]
  }
 ],
 "metadata": {
  "kernelspec": {
   "display_name": "Python 3 (ipykernel)",
   "language": "python",
   "name": "python3"
  },
  "language_info": {
   "codemirror_mode": {
    "name": "ipython",
    "version": 3
   },
   "file_extension": ".py",
   "mimetype": "text/x-python",
   "name": "python",
   "nbconvert_exporter": "python",
   "pygments_lexer": "ipython3",
   "version": "3.9.12"
  }
 },
 "nbformat": 4,
 "nbformat_minor": 5
}
