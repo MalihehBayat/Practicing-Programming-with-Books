{
 "cells": [
  {
   "cell_type": "markdown",
   "id": "d7d470f4",
   "metadata": {},
   "source": [
    "# Chapter 9: Classes"
   ]
  },
  {
   "cell_type": "markdown",
   "id": "c8b3dd2c",
   "metadata": {},
   "source": [
    " In object-oriented programming you \n",
    "write classes that represent real-world things \n",
    "and situations, and you create objects based on these \n",
    "classes"
   ]
  },
  {
   "cell_type": "markdown",
   "id": "40945fcf",
   "metadata": {},
   "source": [
    "Making an object from a class is called instantiation. We work with instances of a class"
   ]
  },
  {
   "cell_type": "markdown",
   "id": "737e160d",
   "metadata": {},
   "source": [
    "## Creating and Using a Class"
   ]
  },
  {
   "cell_type": "markdown",
   "id": "b70069a1",
   "metadata": {},
   "source": [
    "### creating a simple class"
   ]
  },
  {
   "cell_type": "code",
   "execution_count": 14,
   "id": "3891e6ce",
   "metadata": {},
   "outputs": [],
   "source": [
    "class Dog:\n",
    "    \"\"\"A simple attempt to model a dog.\"\"\" \n",
    "    \n",
    "    def __init__(self, name, age):\n",
    "        \"\"\"Initialize name and age attributes.\"\"\"\n",
    "        self.name = name\n",
    "        self.age = age\n",
    "        \n",
    "    def sit(self):\n",
    "        \"\"\"Simulate a dog sitting in response to a command.\"\"\"\n",
    "        print(f\"{self.name} is now sitting.\")\n",
    "    \n",
    "    def roll_over(self):\n",
    "        \"\"\"Simulate rolling over in response to a command.\"\"\"\n",
    "        print(f\"{self.name} rolled over!\")"
   ]
  },
  {
   "cell_type": "markdown",
   "id": "a6f978bb",
   "metadata": {},
   "source": [
    "#### Importnat tips and notes of struncture of classes:"
   ]
  },
  {
   "cell_type": "markdown",
   "id": "dc0f2a35",
   "metadata": {},
   "source": [
    "**NOTE:** By convention, capitalized names refer to classes \n",
    "in Python."
   ]
  },
  {
   "cell_type": "markdown",
   "id": "0eeafe6e",
   "metadata": {},
   "source": [
    "#### The  __init__  Method"
   ]
  },
  {
   "cell_type": "markdown",
   "id": "79d72b73",
   "metadata": {},
   "source": [
    "A function that’s part of a class is a method."
   ]
  },
  {
   "cell_type": "markdown",
   "id": "2ce36bd5",
   "metadata": {},
   "source": [
    "The __init__() method is a special method \n",
    "that Python runs automatically whenever we create a new instance based \n",
    "on a class."
   ]
  },
  {
   "cell_type": "markdown",
   "id": "9e504580",
   "metadata": {},
   "source": [
    "**The self parameter** is required in the method definition, and it \n",
    "must come first before the other parameters. The self parameter is passed automatically everytime an instance is being created. It is \n",
    "a reference to the instance itself; it gives the individual instance access to \n",
    "the attributes and methods in the class"
   ]
  },
  {
   "cell_type": "markdown",
   "id": "3cf9d1b8",
   "metadata": {},
   "source": [
    "### Making an Instance from a Class"
   ]
  },
  {
   "cell_type": "code",
   "execution_count": 15,
   "id": "c2a64985",
   "metadata": {},
   "outputs": [],
   "source": [
    "my_dog= Dog('willie',6)"
   ]
  },
  {
   "cell_type": "markdown",
   "id": "47cb7e1e",
   "metadata": {},
   "source": [
    "### Accessing Attributes"
   ]
  },
  {
   "cell_type": "code",
   "execution_count": 16,
   "id": "4bdb66f0",
   "metadata": {},
   "outputs": [
    {
     "data": {
      "text/plain": [
       "'willie'"
      ]
     },
     "execution_count": 16,
     "metadata": {},
     "output_type": "execute_result"
    }
   ],
   "source": [
    "my_dog.name"
   ]
  },
  {
   "cell_type": "code",
   "execution_count": 17,
   "id": "5e2e6cf4",
   "metadata": {},
   "outputs": [
    {
     "data": {
      "text/plain": [
       "6"
      ]
     },
     "execution_count": 17,
     "metadata": {},
     "output_type": "execute_result"
    }
   ],
   "source": [
    "my_dog.age"
   ]
  },
  {
   "cell_type": "markdown",
   "id": "04468ffb",
   "metadata": {},
   "source": [
    "### Calling Methods"
   ]
  },
  {
   "cell_type": "code",
   "execution_count": 18,
   "id": "90907c55",
   "metadata": {},
   "outputs": [
    {
     "name": "stdout",
     "output_type": "stream",
     "text": [
      "willie is now sitting.\n"
     ]
    }
   ],
   "source": [
    "my_dog.sit()"
   ]
  },
  {
   "cell_type": "code",
   "execution_count": 19,
   "id": "4165143c",
   "metadata": {},
   "outputs": [
    {
     "name": "stdout",
     "output_type": "stream",
     "text": [
      "willie rolled over!\n"
     ]
    }
   ],
   "source": [
    "my_dog.roll_over()"
   ]
  },
  {
   "cell_type": "markdown",
   "id": "b9a9a58b",
   "metadata": {},
   "source": [
    "## Exercises"
   ]
  },
  {
   "cell_type": "markdown",
   "id": "2595022e",
   "metadata": {},
   "source": [
    "**9-1. Restaurant:** Make a class called Restaurant. The __init__() method for \n",
    "Restaurant should store two attributes: a restaurant_name and a cuisine_type. \n",
    "Make a method called describe_restaurant() that prints these two pieces of \n",
    "information, and a method called open_restaurant() that prints a message indicating that the restaurant is open.<br>\n",
    "Make an instance called restaurant from your class. Print the two attributes individually, and then call both methods."
   ]
  },
  {
   "cell_type": "code",
   "execution_count": 33,
   "id": "7a9c1c98",
   "metadata": {},
   "outputs": [],
   "source": [
    "class Restaurant:\n",
    "    def __init__ (self,name,cuisine_type):\n",
    "        self.name = name\n",
    "        self.cuisine_type = cuisine_type\n",
    "        \n",
    "    def describe_restaurant(self):\n",
    "        print(f\"Restaurant name: {self.name}\")\n",
    "        print(f\"Restaurant cusine: {self.cuisine_type}\")\n",
    "\n",
    "    def open_restaurant(self):\n",
    "        print (f\"{self.name} restaurant is open\")"
   ]
  },
  {
   "cell_type": "code",
   "execution_count": 34,
   "id": "14ef7423",
   "metadata": {},
   "outputs": [],
   "source": [
    "restaurant = Restaurant('mikasa', 'japanese')"
   ]
  },
  {
   "cell_type": "code",
   "execution_count": 120,
   "id": "75f44707",
   "metadata": {},
   "outputs": [
    {
     "name": "stdout",
     "output_type": "stream",
     "text": [
      "Restaurant name: kenzo\n",
      "Restaurant cusine: japanese\n",
      "kenzo restaurant is open\n"
     ]
    }
   ],
   "source": [
    "restaurant.name\n",
    "restaurant.cuisine_type\n",
    "restaurant.describe_restaurant()\n",
    "restaurant.open_restaurant()"
   ]
  },
  {
   "cell_type": "markdown",
   "id": "0996a3b5",
   "metadata": {},
   "source": [
    "**9-2. Three Restaurants:** Start with your class from Exercise 9-1. Create three \n",
    "different instances from the class, and call describe_restaurant() for each \n",
    "instance"
   ]
  },
  {
   "cell_type": "code",
   "execution_count": 39,
   "id": "d1c111b1",
   "metadata": {},
   "outputs": [],
   "source": [
    "restaurant1 = Restaurant('joe', 'italian')\n",
    "restaurant2 = Restaurant('gumi', 'italian')\n",
    "restaurant3 = Restaurant('Tehroon', 'iranian')"
   ]
  },
  {
   "cell_type": "code",
   "execution_count": 121,
   "id": "21c20aa5",
   "metadata": {},
   "outputs": [
    {
     "name": "stdout",
     "output_type": "stream",
     "text": [
      "Restaurant name: joe\n",
      "Restaurant cusine: italian\n",
      "Restaurant name: gumi\n",
      "Restaurant cusine: italian\n"
     ]
    }
   ],
   "source": [
    "restaurant1.describe_restaurant()\n",
    "restaurant2.describe_restaurant()"
   ]
  },
  {
   "cell_type": "markdown",
   "id": "083cbfec",
   "metadata": {},
   "source": [
    "**9-3. Users:** Make a class called User. Create two attributes called first_name\n",
    "and last_name, and then create several other attributes that are typically stored \n",
    "in a user profile. Make a method called describe_user() that prints a summary \n",
    "of the user’s information. Make another method called greet_user() that prints \n",
    "a personalized greeting to the user.<br>\n",
    "Create several instances representing different users, and call both methods \n",
    "for each user."
   ]
  },
  {
   "cell_type": "code",
   "execution_count": 44,
   "id": "ff398ade",
   "metadata": {},
   "outputs": [],
   "source": [
    "class User:\n",
    "    \n",
    "    \"\"\"Initialize user attributes.\"\"\"\n",
    "    def __init__(self,first_name,last_name, age, country):\n",
    "        self.first_name=first_name\n",
    "        self.last_name=last_name\n",
    "        self.age=age\n",
    "        self.country=country\n",
    "            \n",
    "    def describe_user(self):\n",
    "        print(f\"{self.first_name} {self.last_name} , {self.age} years old, from {self.country}\")\n",
    "    \n",
    "    def greet_user(self):\n",
    "        print(f\"Hi {self.first_name}\")\n",
    "    "
   ]
  },
  {
   "cell_type": "code",
   "execution_count": 45,
   "id": "2d085c5c",
   "metadata": {},
   "outputs": [],
   "source": [
    "happylittleblacksheep= User('Fea', 'Lindemann', 22, 'Iran')"
   ]
  },
  {
   "cell_type": "code",
   "execution_count": 122,
   "id": "6284179b",
   "metadata": {},
   "outputs": [
    {
     "name": "stdout",
     "output_type": "stream",
     "text": [
      "Fea Lindemann , 22 years old, from Iran\n",
      "Hi Fea\n"
     ]
    }
   ],
   "source": [
    "happylittleblacksheep.describe_user()\n",
    "happylittleblacksheep.greet_user()"
   ]
  },
  {
   "cell_type": "markdown",
   "id": "0b857a94",
   "metadata": {},
   "source": [
    "## Working with Classes and Instances"
   ]
  },
  {
   "cell_type": "markdown",
   "id": "91235f11",
   "metadata": {},
   "source": [
    "### Setting a Default Value for an Attribute"
   ]
  },
  {
   "cell_type": "code",
   "execution_count": 52,
   "id": "4e462dd6",
   "metadata": {},
   "outputs": [],
   "source": [
    "class Car:\n",
    "    '''simple representation of a car'''\n",
    "    def __init__(self, make, model, year):\n",
    "        \"\"\"Initialize attributes to describe a car.\"\"\"\n",
    "        self.make = make\n",
    "        self.model = model\n",
    "        self.year = year\n",
    "        self.odometer_reading = 0\n",
    "        \n",
    "    def get_descriptive_name(self):\n",
    "        \"\"\"Return a neatly formatted descriptive name.\"\"\"\n",
    "        long_name = f\"{self.year} {self.manufacturer} {self.model}\"\n",
    "        return long_name.title()   \n",
    "    \n",
    "    def read_odometer(self):\n",
    "        \"\"\"Print a statement showing the car's mileage.\"\"\"\n",
    "        print(f\"This car has {self.odometer_reading} miles on it.\")"
   ]
  },
  {
   "cell_type": "markdown",
   "id": "1a5de705",
   "metadata": {},
   "source": [
    "### Modifying Attribute Values"
   ]
  },
  {
   "cell_type": "code",
   "execution_count": 54,
   "id": "20af2d61",
   "metadata": {
    "scrolled": true
   },
   "outputs": [
    {
     "data": {
      "text/plain": [
       "0"
      ]
     },
     "execution_count": 54,
     "metadata": {},
     "output_type": "execute_result"
    }
   ],
   "source": [
    "my_car= Car('audi', 'a4', 2019)\n",
    "#default value\n",
    "my_car.odometer_reading"
   ]
  },
  {
   "cell_type": "markdown",
   "id": "7e701fc6",
   "metadata": {},
   "source": [
    "#### Modifying an Attribute’s Value Directly"
   ]
  },
  {
   "cell_type": "code",
   "execution_count": 123,
   "id": "3779847a",
   "metadata": {},
   "outputs": [
    {
     "name": "stdout",
     "output_type": "stream",
     "text": [
      "This car has 200 miles on it.\n"
     ]
    }
   ],
   "source": [
    "my_car.odometer_reading = 200\n",
    "my_car.read_odometer()"
   ]
  },
  {
   "cell_type": "markdown",
   "id": "06acf999",
   "metadata": {},
   "source": [
    "#### Modifying an Attribute’s Value Through a Method"
   ]
  },
  {
   "cell_type": "code",
   "execution_count": 11,
   "id": "94a28dba",
   "metadata": {},
   "outputs": [],
   "source": [
    "class Car:\n",
    "    '''simple representation of a car'''\n",
    "    def __init__(self, make, model, year):\n",
    "        \"\"\"Initialize attributes to describe a car.\"\"\"\n",
    "        self.make = make\n",
    "        self.model = model\n",
    "        self.year = year\n",
    "        self.odometer_reading = 0\n",
    "        \n",
    "    def get_descriptive_name(self):\n",
    "        \"\"\"Return a neatly formatted descriptive name.\"\"\"\n",
    "        long_name = f\"{self.year} {self.manufacturer} {self.model}\"\n",
    "        return long_name.title()   \n",
    "    \n",
    "    def read_odometer(self):\n",
    "        \"\"\"Print a statement showing the car's mileage.\"\"\"\n",
    "        print(f\"This car has {self.odometer_reading} miles on it.\")\n",
    "        \n",
    "    def update_odometer(self, mileage):\n",
    "        \"\"\"\n",
    "        Set the odometer reading to the given value.\n",
    "        Reject the change if it attempts to roll the odometer back.\n",
    "        \"\"\"\n",
    "        if mileage >= self.odometer_reading:\n",
    "            self.odometer_reading = mileage\n",
    "        else:\n",
    "            print(\"You can't roll back an odometer!\")"
   ]
  },
  {
   "cell_type": "code",
   "execution_count": 65,
   "id": "559ae5fb",
   "metadata": {},
   "outputs": [
    {
     "data": {
      "text/plain": [
       "0"
      ]
     },
     "execution_count": 65,
     "metadata": {},
     "output_type": "execute_result"
    }
   ],
   "source": [
    "my_new_car = Car('audi', 'a4', 2019)\n",
    "my_new_car.odometer_reading"
   ]
  },
  {
   "cell_type": "code",
   "execution_count": 124,
   "id": "45a51589",
   "metadata": {},
   "outputs": [
    {
     "data": {
      "text/plain": [
       "200"
      ]
     },
     "execution_count": 124,
     "metadata": {},
     "output_type": "execute_result"
    }
   ],
   "source": [
    "my_new_car.update_odometer(200)\n",
    "my_new_car.odometer_reading"
   ]
  },
  {
   "cell_type": "code",
   "execution_count": 125,
   "id": "cef47636",
   "metadata": {},
   "outputs": [
    {
     "name": "stdout",
     "output_type": "stream",
     "text": [
      "You can't roll back an odometer!\n"
     ]
    }
   ],
   "source": [
    "my_new_car.update_odometer(100)"
   ]
  },
  {
   "cell_type": "markdown",
   "id": "59a77788",
   "metadata": {},
   "source": [
    "#### Incrementing an Attribute’s Value Through a Method"
   ]
  },
  {
   "cell_type": "code",
   "execution_count": 12,
   "id": "114e937b",
   "metadata": {},
   "outputs": [],
   "source": [
    "class Car:\n",
    "    '''simple representation of a car'''\n",
    "    def __init__(self, make, model, year):\n",
    "        \"\"\"Initialize attributes to describe a car.\"\"\"\n",
    "        self.make = make\n",
    "        self.model = model\n",
    "        self.year = year\n",
    "        self.odometer_reading = 0\n",
    "        \n",
    "    def update_odometer(self, mileage):\n",
    "        \"\"\"\n",
    "        Set the odometer reading to the given value.\n",
    "        Reject the change if it attempts to roll the odometer back.\n",
    "        \"\"\"\n",
    "        if mileage >= self.odometer_reading:\n",
    "            self.odometer_reading = mileage\n",
    "        else:\n",
    "            print(\"You can't roll back an odometer!\")\n",
    "    def increment_odometer(self, miles):\n",
    "        \"\"\"Add the given amount to the odometer reading.\"\"\"\n",
    "        self.odometer_reading += miles\n",
    "    "
   ]
  },
  {
   "cell_type": "code",
   "execution_count": 70,
   "id": "8b0dce59",
   "metadata": {},
   "outputs": [],
   "source": [
    "my_car2= Car('audi', 'a4', 2019)\n",
    "my_car2.increment_odometer(100)"
   ]
  },
  {
   "cell_type": "markdown",
   "id": "8c93c1e9",
   "metadata": {},
   "source": [
    "## Exercises"
   ]
  },
  {
   "cell_type": "markdown",
   "id": "a0b95eca",
   "metadata": {},
   "source": [
    "**9-4. Number Served:** Start with your program from Exercise 9-1. \n",
    "Add an attribute called number_served with a default value of 0. Create an \n",
    "instance called restaurant from this class. Print the number of customers the \n",
    "restaurant has served, and then change this value and print it again.<br>\n",
    "Add a method called set_number_served() that lets you set the number \n",
    "of customers that have been served. Call this method with a new number and \n",
    "print the value again.<br>\n",
    "Add a method called increment_number_served() that lets you increment \n",
    "the number of customers who’ve been served. Call this method with any num\u0002ber you like that could represent how many customers were served in, say, a \n",
    "day of business."
   ]
  },
  {
   "cell_type": "code",
   "execution_count": 74,
   "id": "d0d9225a",
   "metadata": {},
   "outputs": [],
   "source": [
    "class Restaurant:\n",
    "    def __init__ (self,name,cuisine_type):\n",
    "        self.name = name\n",
    "        self.cuisine_type = cuisine_type\n",
    "        self.number_served = 0\n",
    "        \n",
    "    def describe_restaurant(self):\n",
    "        print(f\"Restaurant name: {self.name}\")\n",
    "        print(f\"Restaurant cusine: {self.cuisine_type}\")\n",
    "\n",
    "    def open_restaurant(self):\n",
    "        print (f\"{self.name} restaurant is open\")\n",
    "        \n",
    "    def set_number_served(self, number):\n",
    "        \"\"\"Set the number of served customers\"\"\"\n",
    "        self.number_served=number\n",
    "    \n",
    "    def increment_number_served(self, number):\n",
    "        \"\"\"Add this value to served customers\"\"\"\n",
    "        self.number_served += number\n",
    "    "
   ]
  },
  {
   "cell_type": "code",
   "execution_count": 77,
   "id": "21adf534",
   "metadata": {},
   "outputs": [
    {
     "data": {
      "text/plain": [
       "0"
      ]
     },
     "execution_count": 77,
     "metadata": {},
     "output_type": "execute_result"
    }
   ],
   "source": [
    "restaurant =  Restaurant('kenzo', 'japanese')\n",
    "restaurant.number_served"
   ]
  },
  {
   "cell_type": "code",
   "execution_count": 78,
   "id": "f8cc8751",
   "metadata": {},
   "outputs": [],
   "source": [
    "restaurant.number_served=15"
   ]
  },
  {
   "cell_type": "code",
   "execution_count": 79,
   "id": "1d7f6b8c",
   "metadata": {},
   "outputs": [
    {
     "data": {
      "text/plain": [
       "15"
      ]
     },
     "execution_count": 79,
     "metadata": {},
     "output_type": "execute_result"
    }
   ],
   "source": [
    "restaurant.number_served"
   ]
  },
  {
   "cell_type": "code",
   "execution_count": 80,
   "id": "d15489b1",
   "metadata": {},
   "outputs": [],
   "source": [
    "restaurant.increment_number_served(10)"
   ]
  },
  {
   "cell_type": "code",
   "execution_count": 81,
   "id": "cc6005a9",
   "metadata": {},
   "outputs": [
    {
     "data": {
      "text/plain": [
       "25"
      ]
     },
     "execution_count": 81,
     "metadata": {},
     "output_type": "execute_result"
    }
   ],
   "source": [
    "restaurant.number_served"
   ]
  },
  {
   "cell_type": "markdown",
   "id": "3381f7e2",
   "metadata": {},
   "source": [
    "**9-5. Login Attempts:** Add an attribute called login_attempts to your User\n",
    "class from Exercise 9-3. Write a method called increment_login\n",
    "_attempts() that increments the value of login_attempts by 1. Write another \n",
    "method called reset_login_attempts() that resets the value of login_attempts\n",
    "to 0.<br>\n",
    "Make an instance of the User class and call increment_login_attempts()\n",
    "several times. Print the value of login_attempts to make sure it was incremented \n",
    "properly, and then call reset_login_attempts(). Print login_attempts again to \n",
    "make sure it was reset to 0"
   ]
  },
  {
   "cell_type": "code",
   "execution_count": 4,
   "id": "ee45e798",
   "metadata": {},
   "outputs": [],
   "source": [
    "class User:\n",
    "    \n",
    "    \"\"\"Initialize user attributes.\"\"\"\n",
    "    def __init__(self,first_name,last_name, age, country ):\n",
    "        self.first_name=first_name\n",
    "        self.last_name=last_name\n",
    "        self.age=age\n",
    "        self.country=country\n",
    "        self.login_attempts = 0\n",
    "            \n",
    "    def describe_user(self):\n",
    "        print(f\"{self.first_name} {self.last_name} , {self.age} years old, from {self.country}\")\n",
    "    \n",
    "    def greet_user(self):\n",
    "        print(f\"Hi {self.first_name}\")\n",
    "        \n",
    "    def increment_login_attempts(self):\n",
    "        self.login_attempts +=1\n",
    "        \n",
    "    def reset_login_attempts(self):\n",
    "        self.login_attempts=0"
   ]
  },
  {
   "cell_type": "code",
   "execution_count": 83,
   "id": "156ea8e6",
   "metadata": {},
   "outputs": [],
   "source": [
    "happyblacksheep= User('Fea', 'Lindemann', 23, 'Iran')"
   ]
  },
  {
   "cell_type": "code",
   "execution_count": 84,
   "id": "67fb4bab",
   "metadata": {},
   "outputs": [
    {
     "data": {
      "text/plain": [
       "0"
      ]
     },
     "execution_count": 84,
     "metadata": {},
     "output_type": "execute_result"
    }
   ],
   "source": [
    "happyblacksheep.login_attempts"
   ]
  },
  {
   "cell_type": "code",
   "execution_count": 85,
   "id": "a98e99dc",
   "metadata": {},
   "outputs": [],
   "source": [
    "happyblacksheep.increment_login_attempts()"
   ]
  },
  {
   "cell_type": "code",
   "execution_count": 86,
   "id": "195bcf9e",
   "metadata": {},
   "outputs": [
    {
     "data": {
      "text/plain": [
       "1"
      ]
     },
     "execution_count": 86,
     "metadata": {},
     "output_type": "execute_result"
    }
   ],
   "source": [
    "happyblacksheep.login_attempts"
   ]
  },
  {
   "cell_type": "code",
   "execution_count": 87,
   "id": "0688a79d",
   "metadata": {},
   "outputs": [],
   "source": [
    "happyblacksheep.reset_login_attempts()"
   ]
  },
  {
   "cell_type": "code",
   "execution_count": 88,
   "id": "8d83dc9b",
   "metadata": {},
   "outputs": [
    {
     "data": {
      "text/plain": [
       "0"
      ]
     },
     "execution_count": 88,
     "metadata": {},
     "output_type": "execute_result"
    }
   ],
   "source": [
    "happyblacksheep.login_attempts"
   ]
  },
  {
   "cell_type": "markdown",
   "id": "e0d31f0a",
   "metadata": {},
   "source": [
    "## Inheritance"
   ]
  },
  {
   "cell_type": "markdown",
   "id": "056facfb",
   "metadata": {},
   "source": [
    "When one class inherits from another, it takes on the attributes and methods of the first class.<br>\n",
    "The original class is called the parent \n",
    "class, and the new class is the child class.<br>\n",
    "The child class can inherit any \n",
    "or all of the attributes and methods of its parent class, but it’s also free to \n",
    "define new attributes and methods of its own."
   ]
  },
  {
   "cell_type": "markdown",
   "id": "794fd720",
   "metadata": {},
   "source": [
    "### The __init__() Method for a Child Class"
   ]
  },
  {
   "cell_type": "markdown",
   "id": "c949390d",
   "metadata": {},
   "source": [
    "When writing a child class, we’ll often \n",
    "want to call the __init__() method from the parent class. This will initialize \n",
    "any attributes that were defined in the parent __init__() method and make \n",
    "them available in the child class."
   ]
  },
  {
   "cell_type": "code",
   "execution_count": 13,
   "id": "1fdec07e",
   "metadata": {},
   "outputs": [],
   "source": [
    "#example: create an electric car which is a subclass of super class: car\n",
    "# first: let's define the car class: \n",
    "class Car:\n",
    "    \"\"\"A simple attempt to represent a car.\"\"\"\n",
    "    def __init__(self, make, model, year):\n",
    "        self.make = make\n",
    "        self.model = model\n",
    "        self.year = year\n",
    "        self.odometer_reading = 0\n",
    " \n",
    "    def get_descriptive_name(self):\n",
    "        long_name = f\"{self.year} {self.make} {self.model}\"\n",
    "        return long_name.title()\n",
    " \n",
    "    def read_odometer(self):\n",
    "        print(f\"This car has {self.odometer_reading} miles on it.\")\n",
    "  \n",
    "    def update_odometer(self, mileage):\n",
    "        if mileage >= self.odometer_reading:\n",
    "            self.odometer_reading = mileage\n",
    "        else:\n",
    "            print(\"You can't roll back an odometer!\")\n",
    " \n",
    "    def increment_odometer(self, miles):\n",
    "        self.odometer_reading += miles"
   ]
  },
  {
   "cell_type": "markdown",
   "id": "ea802d32",
   "metadata": {},
   "source": [
    "**NOTE:** When creating a child class the parent class must be defined in the same file and before the child class. "
   ]
  },
  {
   "cell_type": "code",
   "execution_count": 113,
   "id": "5e7d56c4",
   "metadata": {},
   "outputs": [],
   "source": [
    "# create the cub class electric car \n",
    "#the name of the parent class must be included in the paranteses in the defenition of a child class\n",
    "class ElectricCar(Car):\n",
    "    \"\"\"Represent aspects of a car, specific to electric vehicles.\"\"\"\n",
    "    \n",
    "    def __init__(self, make, model, year):\n",
    "        \"\"\"Initialize attributes of the parent class.\"\"\"\n",
    "        #This line tells Python to call the __init__()method from Car\n",
    "        super().__init__(make, model, year)"
   ]
  },
  {
   "cell_type": "markdown",
   "id": "9fedd036",
   "metadata": {},
   "source": [
    "**NOTE:** The super() function is used to give access to methods and properties of a parent or sibling class."
   ]
  },
  {
   "cell_type": "code",
   "execution_count": 114,
   "id": "c5d14bae",
   "metadata": {},
   "outputs": [],
   "source": [
    " my_tesla = ElectricCar('tesla', 'model s', 2019)"
   ]
  },
  {
   "cell_type": "code",
   "execution_count": 115,
   "id": "32971b7c",
   "metadata": {},
   "outputs": [
    {
     "data": {
      "text/plain": [
       "'2019 Tesla Model S'"
      ]
     },
     "execution_count": 115,
     "metadata": {},
     "output_type": "execute_result"
    }
   ],
   "source": [
    "my_tesla.get_descriptive_name()"
   ]
  },
  {
   "cell_type": "markdown",
   "id": "5c64954f",
   "metadata": {},
   "source": [
    "### Defining Attributes and Methods for the Child Class"
   ]
  },
  {
   "cell_type": "code",
   "execution_count": 116,
   "id": "75b6c942",
   "metadata": {},
   "outputs": [],
   "source": [
    "# define the ElectricCar class and add new atributes and method to it:\n",
    "class ElectricCar(Car):\n",
    "    \"\"\"Represent aspects of a car, specific to electric vehicles.\"\"\"\n",
    "    \n",
    "    def __init__(self, make, model, year):\n",
    "        \"\"\"Initialize attributes of the parent class.\"\"\"\n",
    "        #This line tells Python to call the __init__()method from Car\n",
    "        super().__init__(make, model, year)\n",
    "        self.battery_size = 75\n",
    "    \n",
    "    def describe_battery(self):\n",
    "        \"\"\"Print a statement describing the battery size.\"\"\"\n",
    "        print(f\"This car has a {self.battery_size}-kWh battery.\")"
   ]
  },
  {
   "cell_type": "code",
   "execution_count": 117,
   "id": "a7ef1b24",
   "metadata": {},
   "outputs": [],
   "source": [
    "my_tesla = ElectricCar('tesla', 'model s', 2019)"
   ]
  },
  {
   "cell_type": "code",
   "execution_count": 119,
   "id": "770b56df",
   "metadata": {},
   "outputs": [
    {
     "name": "stdout",
     "output_type": "stream",
     "text": [
      "This car has a 75-kWh battery.\n"
     ]
    }
   ],
   "source": [
    "my_tesla.describe_battery()"
   ]
  },
  {
   "cell_type": "markdown",
   "id": "2275e7c9",
   "metadata": {},
   "source": [
    "### Overriding Methods from the Parent Class"
   ]
  },
  {
   "cell_type": "markdown",
   "id": "1ff5dede",
   "metadata": {},
   "source": [
    "Methods from the parent class that doesn’t fit what \n",
    "we’re trying to model with the child class can be overridden. To do this, we define a method \n",
    "in the child class with the same name as the method you want to override in \n",
    "the parent class."
   ]
  },
  {
   "cell_type": "markdown",
   "id": "4e2f3138",
   "metadata": {},
   "source": [
    "## Instances as Attributes"
   ]
  },
  {
   "cell_type": "code",
   "execution_count": 132,
   "id": "ef77475b",
   "metadata": {},
   "outputs": [],
   "source": [
    "class Battery:\n",
    "    \"\"\"A simple attempt to model a battery for an electric car.\"\"\"\n",
    "    def __init__(self, battery_size= 75):\n",
    "        \"\"\"Initialize the battery's attributes.\"\"\"\n",
    "        self.battery_size = battery_size\n",
    "    def describe_battery(self):\n",
    "        \"\"\"Print a statement describing the battery size.\"\"\"\n",
    "        print(f\"This car has a {self.battery_size}-kWh battery.\")"
   ]
  },
  {
   "cell_type": "code",
   "execution_count": 135,
   "id": "e7d79842",
   "metadata": {},
   "outputs": [],
   "source": [
    " class ElectricCar(Car):\n",
    "    \"\"\"Represent aspects of a car, specific to electric vehicles.\"\"\"\n",
    "    \n",
    "    def __init__(self, make, model, year):\n",
    "        \"\"\"Initialize attributes of the parent class.\"\"\"\n",
    "        #This line tells Python to call the __init__()method from Car\n",
    "        super().__init__(make, model, year)\n",
    "        #This line tells Python to create a new instance of Battery (with a default size of 75, because we’re not specifying a value) and assign that instance to the attribute self.battery\n",
    "        self.battery = Battery()"
   ]
  },
  {
   "cell_type": "code",
   "execution_count": 136,
   "id": "5730017a",
   "metadata": {},
   "outputs": [
    {
     "name": "stdout",
     "output_type": "stream",
     "text": [
      "This car has a 75-kWh battery.\n"
     ]
    }
   ],
   "source": [
    "my_tesla = ElectricCar('tesla', 'model s', 2019)\n",
    "my_tesla.battery.describe_battery()"
   ]
  },
  {
   "cell_type": "markdown",
   "id": "95b1b8cb",
   "metadata": {},
   "source": [
    "## Exercises"
   ]
  },
  {
   "cell_type": "markdown",
   "id": "2776464e",
   "metadata": {},
   "source": [
    "**9-6. Ice Cream Stand:** An ice cream stand is a specific kind of restaurant. Write \n",
    "a class called IceCreamStand that inherits from the Restaurant class you wrote \n",
    "in Exercise 9-4 . Add an attribute called \n",
    "flavors that stores a list of ice cream flavors. Write a method that displays \n",
    "these flavors. Create an instance of IceCreamStand, and call this method"
   ]
  },
  {
   "cell_type": "code",
   "execution_count": 149,
   "id": "6e9534c9",
   "metadata": {},
   "outputs": [],
   "source": [
    "class Restaurant:\n",
    "    def __init__ (self,name,cuisine_type):\n",
    "        self.name = name\n",
    "        self.cuisine_type = cuisine_type\n",
    "        self.number_served = 0\n",
    "        \n",
    "    def describe_restaurant(self):\n",
    "        print(f\"Restaurant name: {self.name}\")\n",
    "        print(f\"Restaurant cusine: {self.cuisine_type}\")\n",
    "\n",
    "    def open_restaurant(self):\n",
    "        print (f\"{self.name} restaurant is open\")\n",
    "        \n",
    "    def set_number_served(self, number):\n",
    "        \"\"\"Set the number of served customers\"\"\"\n",
    "        self.number_served=number\n",
    "    \n",
    "    def increment_number_served(self, number):\n",
    "        \"\"\"Add this value to served customers\"\"\"\n",
    "        self.number_served += number\n",
    "    "
   ]
  },
  {
   "cell_type": "code",
   "execution_count": 177,
   "id": "cadac5fe",
   "metadata": {},
   "outputs": [],
   "source": [
    "class IceCreamStand(Restaurant):\n",
    "    \n",
    "    def __init__(self,name, cuisine_type,flavors):\n",
    "        super().__init__(name, cuisine_type)\n",
    "        self.flavors = flavors\n",
    "    \n",
    "    def display_flavors(self):\n",
    "        for flavor in self.flavors:\n",
    "            print(flavor)"
   ]
  },
  {
   "cell_type": "code",
   "execution_count": 178,
   "id": "113a2090",
   "metadata": {},
   "outputs": [],
   "source": [
    "ice=IceCreamStand('jelato', 'italian',['vanile', 'chocolate'])"
   ]
  },
  {
   "cell_type": "code",
   "execution_count": 179,
   "id": "ec89fb07",
   "metadata": {},
   "outputs": [
    {
     "data": {
      "text/plain": [
       "['vanile', 'chocolate']"
      ]
     },
     "execution_count": 179,
     "metadata": {},
     "output_type": "execute_result"
    }
   ],
   "source": [
    "ice.flavors"
   ]
  },
  {
   "cell_type": "code",
   "execution_count": 180,
   "id": "4f46e3aa",
   "metadata": {},
   "outputs": [
    {
     "name": "stdout",
     "output_type": "stream",
     "text": [
      "vanile\n",
      "chocolate\n"
     ]
    }
   ],
   "source": [
    "ice.display_flavors()"
   ]
  },
  {
   "cell_type": "markdown",
   "id": "c79893b6",
   "metadata": {},
   "source": [
    "**9-7. Admin:** An administrator is a special kind of user. Write a class called \n",
    "Admin that inherits from the User class in Exercise 9-5. Add an attribute, privileges, that stores a list \n",
    "of strings like \"can add post\", \"can delete post\", \"can ban user\", and so on. \n",
    "Write a method called show_privileges() that lists the administrator’s set of \n",
    "privileges. Create an instance of Admin, and call your method."
   ]
  },
  {
   "cell_type": "code",
   "execution_count": 183,
   "id": "0a1d84c2",
   "metadata": {},
   "outputs": [],
   "source": [
    "class Admin(User):\n",
    "    \n",
    "    def __init__(self, first_name,last_name, age, country):\n",
    "        super().__init__(first_name,last_name, age, country)\n",
    "        self. privileges = [\"can add post\",\"can delete post\",  \"can ban user\"]\n",
    "        \n",
    "    def show_privileges(self):\n",
    "        for privilage in self. privileges:\n",
    "            print (privilage)"
   ]
  },
  {
   "cell_type": "code",
   "execution_count": 184,
   "id": "7c3f0e32",
   "metadata": {},
   "outputs": [],
   "source": [
    "admin = Admin('Fea', 'Lindemann', 23, 'Iran')"
   ]
  },
  {
   "cell_type": "code",
   "execution_count": 185,
   "id": "223957e5",
   "metadata": {},
   "outputs": [
    {
     "name": "stdout",
     "output_type": "stream",
     "text": [
      "can add post\n",
      "can delete post\n",
      "can ban user\n"
     ]
    }
   ],
   "source": [
    "admin.show_privileges()"
   ]
  },
  {
   "cell_type": "markdown",
   "id": "345f169d",
   "metadata": {},
   "source": [
    "**9-8. Privileges:** Write a separate Privileges class. The class should have one \n",
    "attribute, privileges, that stores a list of strings as described in Exercise 9-7. \n",
    "Move the show_privileges() method to this class. Make a Privileges instance \n",
    "as an attribute in the Admin class. Create a new instance of Admin and use your \n",
    "method to show its privileges"
   ]
  },
  {
   "cell_type": "code",
   "execution_count": 7,
   "id": "f574aa8d",
   "metadata": {},
   "outputs": [],
   "source": [
    "class Privilege:\n",
    "    \n",
    "    def __init__(self, privileges=[\"can add post\",\"can delete post\",  \"can ban user\"]):\n",
    "        self.privileges = privileges\n",
    "    \n",
    "    def show_privileges(self):\n",
    "        for privilage in self.privileges:\n",
    "            print (privilage)"
   ]
  },
  {
   "cell_type": "code",
   "execution_count": 8,
   "id": "429ab7a9",
   "metadata": {},
   "outputs": [],
   "source": [
    "class Admin(User):\n",
    "    \n",
    "    def __init__(self, first_name,last_name, age, country):\n",
    "        super().__init__(first_name,last_name, age, country)\n",
    "        self. privileges = Privilege()\n",
    "\n",
    "admin = Admin('Fea', 'Lindemann', 23, 'Iran' , )"
   ]
  },
  {
   "cell_type": "code",
   "execution_count": 9,
   "id": "047730fd",
   "metadata": {},
   "outputs": [
    {
     "name": "stdout",
     "output_type": "stream",
     "text": [
      "can add post\n",
      "can delete post\n",
      "can ban user\n"
     ]
    }
   ],
   "source": [
    "admin.privileges.show_privileges()"
   ]
  },
  {
   "cell_type": "markdown",
   "id": "10375712",
   "metadata": {},
   "source": [
    "**9-9. Battery Upgrade:** Use the final version of electric_car. \n",
    "Add a method to the Battery class called upgrade_battery(). This method \n",
    "should check the battery size and set the capacity to 100 if it isn’t already. \n",
    "Make an electric car with a default battery size, call get_range() once, and \n",
    "then call get_range() a second time after upgrading the battery. You should \n",
    "see an increase in the car’s range."
   ]
  },
  {
   "cell_type": "code",
   "execution_count": 27,
   "id": "b1447d9d",
   "metadata": {},
   "outputs": [],
   "source": [
    "class Battery:\n",
    "    \"\"\"A simple attempt to model a battery for an electric car.\"\"\"\n",
    "    def __init__(self, battery_size= 75):\n",
    "        \"\"\"Initialize the battery's attributes.\"\"\"\n",
    "        self.battery_size = battery_size\n",
    "    def describe_battery(self):\n",
    "        \"\"\"Print a statement describing the battery size.\"\"\"\n",
    "        print(f\"This car has a {self.battery_size}-kWh battery.\")\n",
    "        \n",
    "    def get_range(self):\n",
    "        \"\"\"Print a statement about the range this battery provides.\"\"\"\n",
    "        if self.battery_size == 75:\n",
    "            range = 100\n",
    "        elif self.battery_size == 100:\n",
    "            range = 315\n",
    "        print(f\"This car can go about {range} miles on a full charge.\")\n",
    "    \n",
    "    def upgrade_battery(self):\n",
    "        self.battery_size = 100"
   ]
  },
  {
   "cell_type": "code",
   "execution_count": 28,
   "id": "eab7d6dc",
   "metadata": {},
   "outputs": [],
   "source": [
    " class ElectricCar(Car):\n",
    "    \"\"\"Represent aspects of a car, specific to electric vehicles.\"\"\"\n",
    "    \n",
    "    def __init__(self, make, model, year):\n",
    "        \"\"\"Initialize attributes of the parent class.\"\"\"\n",
    "        #This line tells Python to call the __init__()method from Car\n",
    "        super().__init__(make, model, year)\n",
    "        #This line tells Python to create a new instance of Battery (with a default size of 75, because we’re not specifying a value) and assign that instance to the attribute self.battery\n",
    "        self.battery = Battery()"
   ]
  },
  {
   "cell_type": "code",
   "execution_count": 29,
   "id": "12a36894",
   "metadata": {},
   "outputs": [],
   "source": [
    "electriccar= ElectricCar('tesla', 'model s', 2019)"
   ]
  },
  {
   "cell_type": "code",
   "execution_count": 30,
   "id": "0bff9bf1",
   "metadata": {},
   "outputs": [
    {
     "data": {
      "text/plain": [
       "75"
      ]
     },
     "execution_count": 30,
     "metadata": {},
     "output_type": "execute_result"
    }
   ],
   "source": [
    "electriccar.battery.battery_size"
   ]
  },
  {
   "cell_type": "code",
   "execution_count": 31,
   "id": "98b1c903",
   "metadata": {},
   "outputs": [
    {
     "name": "stdout",
     "output_type": "stream",
     "text": [
      "This car can go about 100 miles on a full charge.\n"
     ]
    }
   ],
   "source": [
    "electriccar.battery.get_range()"
   ]
  },
  {
   "cell_type": "code",
   "execution_count": 32,
   "id": "2906b1a1",
   "metadata": {},
   "outputs": [],
   "source": [
    "electriccar.battery.upgrade_battery()"
   ]
  },
  {
   "cell_type": "code",
   "execution_count": 33,
   "id": "cc68c0c3",
   "metadata": {},
   "outputs": [
    {
     "data": {
      "text/plain": [
       "100"
      ]
     },
     "execution_count": 33,
     "metadata": {},
     "output_type": "execute_result"
    }
   ],
   "source": [
    "electriccar.battery.battery_size"
   ]
  },
  {
   "cell_type": "code",
   "execution_count": 34,
   "id": "8f55a169",
   "metadata": {},
   "outputs": [
    {
     "name": "stdout",
     "output_type": "stream",
     "text": [
      "This car can go about 315 miles on a full charge.\n"
     ]
    }
   ],
   "source": [
    "electriccar.battery.get_range()"
   ]
  },
  {
   "cell_type": "markdown",
   "id": "629e57bd",
   "metadata": {},
   "source": [
    "## Exercises"
   ]
  },
  {
   "cell_type": "markdown",
   "id": "5f221cd7",
   "metadata": {},
   "source": [
    "**9-13. Dice:** Make a class Die with one attribute called sides, which has a default \n",
    "value of 6. Write a method called roll_die() that prints a random number \n",
    "between 1 and the number of sides the die has. Make a 6-sided die and roll it \n",
    "10 times.\n",
    "Make a 10-sided die and a 20-sided die. Roll each die 10 times."
   ]
  },
  {
   "cell_type": "code",
   "execution_count": 53,
   "id": "0925e9fa",
   "metadata": {},
   "outputs": [],
   "source": [
    "from random import randint\n",
    "    \n",
    "class Dice:\n",
    "    def __init__(self,side=6):\n",
    "        self.side = side\n",
    "        \n",
    "    def roll_dice(self):\n",
    "        return randint(1, self.side)\n",
    "        \n",
    "        "
   ]
  },
  {
   "cell_type": "code",
   "execution_count": 59,
   "id": "c5ab7b34",
   "metadata": {},
   "outputs": [],
   "source": [
    "die= Dice(6)"
   ]
  },
  {
   "cell_type": "code",
   "execution_count": 76,
   "id": "133d624b",
   "metadata": {},
   "outputs": [
    {
     "data": {
      "text/plain": [
       "[2, 5, 4, 3, 1, 5, 4, 1, 6, 3]"
      ]
     },
     "execution_count": 76,
     "metadata": {},
     "output_type": "execute_result"
    }
   ],
   "source": [
    "results_6sided=[]\n",
    "for roll in range(10): \n",
    "    results_6sided.append(die.roll_dice())\n",
    "\n",
    "results_6sided   "
   ]
  },
  {
   "cell_type": "code",
   "execution_count": 77,
   "id": "8d27604d",
   "metadata": {},
   "outputs": [
    {
     "name": "stdout",
     "output_type": "stream",
     "text": [
      "[1, 7, 8, 8, 6, 8, 1, 2, 7, 6]\n",
      "[12, 6, 16, 20, 4, 7, 15, 17, 2, 20]\n"
     ]
    }
   ],
   "source": [
    "die_10sided = Dice(10)\n",
    "die_20sided= Dice(20)\n",
    "\n",
    "results_10sided=[]\n",
    "results_20sided=[]\n",
    "for roll in range(10): \n",
    "    results_10sided.append(die_10sided.roll_dice())\n",
    "    results_20sided.append(die_20sided.roll_dice())\n",
    "\n",
    "print(results_10sided)\n",
    "print(results_20sided)"
   ]
  },
  {
   "cell_type": "markdown",
   "id": "6f851b41",
   "metadata": {},
   "source": [
    "**9-14. Lottery:** Make a list or tuple containing a series of 10 numbers and \n",
    "five letters. Randomly select four numbers or letters from the list and print a \n",
    "message saying that any ticket matching these four numbers or letters wins a \n",
    "prize."
   ]
  },
  {
   "cell_type": "code",
   "execution_count": 78,
   "id": "6d537ce7",
   "metadata": {},
   "outputs": [],
   "source": [
    "possibilities= ['a', 'b' , 'c', 'd', 'e', 1, 2, 3, 4, 5, 6, 7, 8, 9, 10]"
   ]
  },
  {
   "cell_type": "code",
   "execution_count": 103,
   "id": "eeddd857",
   "metadata": {},
   "outputs": [
    {
     "name": "stdout",
     "output_type": "stream",
     "text": [
      "Any ticket matching these four numbers or letters wins a prize: [7, 3, 'e', 'b']\n"
     ]
    }
   ],
   "source": [
    "from random import choice \n",
    "winning_ticket=[]\n",
    "while len(winning_ticket)<4:\n",
    "    item = choice(possibilities) \n",
    "    if item not in winning_ticket:\n",
    "        winning_ticket.append(item)\n",
    "print (f'Any ticket matching these four numbers or letters wins a prize: {winning_ticket}')"
   ]
  },
  {
   "cell_type": "markdown",
   "id": "7c976ae8",
   "metadata": {},
   "source": [
    "**9-15. Lottery Analysis:** You can use a loop to see how hard it might be to win \n",
    "the kind of lottery you just modeled. Make a list or tuple called my_ticket. \n",
    "Write a loop that keeps pulling numbers until your ticket wins. Print a message \n",
    "reporting how many times the loop had to run to give you a winning ticket."
   ]
  },
  {
   "cell_type": "code",
   "execution_count": 105,
   "id": "3e4c50c6",
   "metadata": {},
   "outputs": [
    {
     "name": "stdout",
     "output_type": "stream",
     "text": [
      "Your ticket: ['e', 1, 'c', 'a']\n",
      "Winning ticket: ['c', 'a', 'e', 1]\n",
      "It only took 2144 tries to win!\n"
     ]
    }
   ],
   "source": [
    "from random import choice\n",
    "\n",
    "def get_winning_ticket(possibilities):\n",
    "    \"\"\"Return a winning ticket from a set of possibilities.\"\"\"\n",
    "    winning_ticket = []\n",
    "    while len(winning_ticket) < 4:\n",
    "        pulled_item = choice(possibilities)\n",
    "        if pulled_item not in winning_ticket:\n",
    "            winning_ticket.append(pulled_item)\n",
    "\n",
    "    return winning_ticket\n",
    "\n",
    "\n",
    "def check_ticket(played_ticket, winning_ticket):\n",
    "    for element in played_ticket:\n",
    "        if element not in winning_ticket:\n",
    "            return False\n",
    "\n",
    "    return True\n",
    "\n",
    "def make_random_ticket(possibilities):\n",
    "    \"\"\"Return a random ticket from a set of possibilities.\"\"\"\n",
    "    ticket = []\n",
    "    # We don't want to repeat numbers or letters, so we'll use a while loop.\n",
    "    while len(ticket) < 4:\n",
    "        pulled_item = choice(possibilities)\n",
    "\n",
    "        # Only add the pulled item to the ticket if it hasn't already\n",
    "        #   been pulled.\n",
    "        if pulled_item not in ticket:\n",
    "            ticket.append(pulled_item)\n",
    "\n",
    "    return ticket\n",
    "\n",
    "\n",
    "possibilities = [1, 2, 3, 4, 5, 6, 7, 8, 9, 10, 'a', 'b', 'c', 'd', 'e']\n",
    "winning_ticket = get_winning_ticket(possibilities)\n",
    "\n",
    "plays = 0\n",
    "won = False\n",
    "\n",
    "max_tries = 1_000_000\n",
    "\n",
    "while not won:\n",
    "    new_ticket = make_random_ticket(possibilities)\n",
    "    won = check_ticket(new_ticket, winning_ticket)\n",
    "    plays += 1\n",
    "    if plays >= max_tries:\n",
    "        break\n",
    "\n",
    "if won:\n",
    "    print(f\"Your ticket: {new_ticket}\")\n",
    "    print(f\"Winning ticket: {winning_ticket}\")\n",
    "    print(f\"It only took {plays} tries to win!\")\n",
    "else:\n",
    "    print(f\"Tried {plays} times, without pulling a winner. :(\")\n",
    "    print(f\"Your ticket: {new_ticket}\")\n",
    "    print(f\"Winning ticket: {winning_ticket}\")"
   ]
  },
  {
   "cell_type": "code",
   "execution_count": null,
   "id": "5df27dd0",
   "metadata": {},
   "outputs": [],
   "source": []
  }
 ],
 "metadata": {
  "kernelspec": {
   "display_name": "Python 3 (ipykernel)",
   "language": "python",
   "name": "python3"
  },
  "language_info": {
   "codemirror_mode": {
    "name": "ipython",
    "version": 3
   },
   "file_extension": ".py",
   "mimetype": "text/x-python",
   "name": "python",
   "nbconvert_exporter": "python",
   "pygments_lexer": "ipython3",
   "version": "3.9.12"
  }
 },
 "nbformat": 4,
 "nbformat_minor": 5
}
